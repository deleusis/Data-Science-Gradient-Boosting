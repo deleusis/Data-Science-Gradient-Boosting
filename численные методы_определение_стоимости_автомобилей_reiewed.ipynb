{
  "cells": [
    {
      "cell_type": "markdown",
      "metadata": {
        "id": "tUv82QVSfvdz"
      },
      "source": [
        "# Определение стоимости автомобилей"
      ]
    },
    {
      "cell_type": "markdown",
      "metadata": {
        "id": "DisdvMh5fvd6"
      },
      "source": [
        "Сервис по продаже автомобилей с пробегом «Не бит, не крашен» разрабатывает приложение для привлечения новых клиентов. В нём можно быстро узнать рыночную стоимость своего автомобиля. В вашем распоряжении исторические данные: технические характеристики, комплектации и цены автомобилей. Вам нужно построить модель для определения стоимости. \n",
        "\n",
        "Заказчику важны:\n",
        "\n",
        "- качество предсказания;\n",
        "- скорость предсказания;\n",
        "- время обучения."
      ]
    },
    {
      "cell_type": "markdown",
      "metadata": {
        "id": "rUJUgnp8Y7ZT"
      },
      "source": [
        "<div class=\"alert alert-block alert-warning\">\n",
        "<b>Совет:</b> Важно чтобы в проектах было подробное описание: когда потенциальные работодатели будут смотреть твой проект в портфолио, им нужно будет понимать задачу, чтобы можно было оценить её решение. Вот что можно добавить:\n",
        "    \n",
        "* Описание целей и задачи проекта\n",
        "* Описание данных\n",
        "* План работы\n",
        "</div>"
      ]
    },
    {
      "cell_type": "markdown",
      "metadata": {
        "id": "HUst8O0Sfvd7"
      },
      "source": [
        "## Подготовка данных"
      ]
    },
    {
      "cell_type": "code",
      "execution_count": null,
      "metadata": {
        "id": "EHhxs3tlfvd8"
      },
      "outputs": [],
      "source": [
        "import pandas as pd\n",
        "import numpy as np\n",
        "from matplotlib import pyplot as plt\n",
        "import seaborn as sns\n",
        "from sklearn.linear_model import LinearRegression\n",
        "from sklearn.ensemble import RandomForestRegressor\n",
        "from sklearn.dummy import DummyRegressor\n",
        "from sklearn.model_selection import train_test_split\n",
        "from sklearn.preprocessing import StandardScaler\n",
        "from sklearn.metrics import mean_squared_error\n",
        "from sklearn.preprocessing import OrdinalEncoder\n",
        "from sklearn.tree import DecisionTreeRegressor\n",
        "from sklearn.ensemble import RandomForestRegressor\n",
        "import lightgbm as lgb\n",
        "from sklearn.model_selection import GridSearchCV"
      ]
    },
    {
      "cell_type": "markdown",
      "metadata": {
        "id": "7UO45FzVY7ZW"
      },
      "source": [
        "<div class=\"alert alert-block alert-success\">\n",
        "<b>Успех:</b> Правильное решение — выделять отдельную ячейку в начале проекта под подключение библиотек и настройки. Tак код легче поддерживать 👌\n",
        "</div>"
      ]
    },
    {
      "cell_type": "code",
      "execution_count": null,
      "metadata": {
        "colab": {
          "base_uri": "https://localhost:8080/"
        },
        "id": "zn8JjofzgEtv",
        "outputId": "14698f27-3059-4834-f734-b8d96df999eb"
      },
      "outputs": [
        {
          "output_type": "stream",
          "name": "stdout",
          "text": [
            "Drive already mounted at /content/drive; to attempt to forcibly remount, call drive.mount(\"/content/drive\", force_remount=True).\n"
          ]
        }
      ],
      "source": [
        "try:\n",
        "  from google.colab import drive\n",
        "  drive.mount('/content/drive')\n",
        "  data = pd.read_csv('/content/drive/MyDrive/Colab Notebooks/определение стоимости автомобилей/autos.csv')\n",
        "except:\n",
        "  data = pd.read_csv('/datasets/autos.csv')\n"
      ]
    },
    {
      "cell_type": "code",
      "execution_count": null,
      "metadata": {
        "colab": {
          "base_uri": "https://localhost:8080/",
          "height": 774
        },
        "id": "ytUbUH_tg2cI",
        "outputId": "f7dddaa1-6005-491a-c116-219e851acc12"
      },
      "outputs": [
        {
          "output_type": "execute_result",
          "data": {
            "text/plain": [
              "           DateCrawled  Price  VehicleType  RegistrationYear Gearbox  Power  \\\n",
              "0  2016-03-24 11:52:17    480          NaN              1993  manual      0   \n",
              "1  2016-03-24 10:58:45  18300        coupe              2011  manual    190   \n",
              "2  2016-03-14 12:52:21   9800          suv              2004    auto    163   \n",
              "3  2016-03-17 16:54:04   1500        small              2001  manual     75   \n",
              "4  2016-03-31 17:25:20   3600        small              2008  manual     69   \n",
              "5  2016-04-04 17:36:23    650        sedan              1995  manual    102   \n",
              "6  2016-04-01 20:48:51   2200  convertible              2004  manual    109   \n",
              "7  2016-03-21 18:54:38      0        sedan              1980  manual     50   \n",
              "8  2016-04-04 23:42:13  14500          bus              2014  manual    125   \n",
              "9  2016-03-17 10:53:50    999        small              1998  manual    101   \n",
              "\n",
              "     Model  Kilometer  RegistrationMonth  FuelType       Brand NotRepaired  \\\n",
              "0     golf     150000                  0    petrol  volkswagen         NaN   \n",
              "1      NaN     125000                  5  gasoline        audi         yes   \n",
              "2    grand     125000                  8  gasoline        jeep         NaN   \n",
              "3     golf     150000                  6    petrol  volkswagen          no   \n",
              "4    fabia      90000                  7  gasoline       skoda          no   \n",
              "5      3er     150000                 10    petrol         bmw         yes   \n",
              "6  2_reihe     150000                  8    petrol     peugeot          no   \n",
              "7    other      40000                  7    petrol  volkswagen          no   \n",
              "8    c_max      30000                  8    petrol        ford         NaN   \n",
              "9     golf     150000                  0       NaN  volkswagen         NaN   \n",
              "\n",
              "           DateCreated  NumberOfPictures  PostalCode             LastSeen  \n",
              "0  2016-03-24 00:00:00                 0       70435  2016-04-07 03:16:57  \n",
              "1  2016-03-24 00:00:00                 0       66954  2016-04-07 01:46:50  \n",
              "2  2016-03-14 00:00:00                 0       90480  2016-04-05 12:47:46  \n",
              "3  2016-03-17 00:00:00                 0       91074  2016-03-17 17:40:17  \n",
              "4  2016-03-31 00:00:00                 0       60437  2016-04-06 10:17:21  \n",
              "5  2016-04-04 00:00:00                 0       33775  2016-04-06 19:17:07  \n",
              "6  2016-04-01 00:00:00                 0       67112  2016-04-05 18:18:39  \n",
              "7  2016-03-21 00:00:00                 0       19348  2016-03-25 16:47:58  \n",
              "8  2016-04-04 00:00:00                 0       94505  2016-04-04 23:42:13  \n",
              "9  2016-03-17 00:00:00                 0       27472  2016-03-31 17:17:06  "
            ],
            "text/html": [
              "\n",
              "  <div id=\"df-d3c341b7-ee2a-4890-97be-64a1c9229d95\">\n",
              "    <div class=\"colab-df-container\">\n",
              "      <div>\n",
              "<style scoped>\n",
              "    .dataframe tbody tr th:only-of-type {\n",
              "        vertical-align: middle;\n",
              "    }\n",
              "\n",
              "    .dataframe tbody tr th {\n",
              "        vertical-align: top;\n",
              "    }\n",
              "\n",
              "    .dataframe thead th {\n",
              "        text-align: right;\n",
              "    }\n",
              "</style>\n",
              "<table border=\"1\" class=\"dataframe\">\n",
              "  <thead>\n",
              "    <tr style=\"text-align: right;\">\n",
              "      <th></th>\n",
              "      <th>DateCrawled</th>\n",
              "      <th>Price</th>\n",
              "      <th>VehicleType</th>\n",
              "      <th>RegistrationYear</th>\n",
              "      <th>Gearbox</th>\n",
              "      <th>Power</th>\n",
              "      <th>Model</th>\n",
              "      <th>Kilometer</th>\n",
              "      <th>RegistrationMonth</th>\n",
              "      <th>FuelType</th>\n",
              "      <th>Brand</th>\n",
              "      <th>NotRepaired</th>\n",
              "      <th>DateCreated</th>\n",
              "      <th>NumberOfPictures</th>\n",
              "      <th>PostalCode</th>\n",
              "      <th>LastSeen</th>\n",
              "    </tr>\n",
              "  </thead>\n",
              "  <tbody>\n",
              "    <tr>\n",
              "      <th>0</th>\n",
              "      <td>2016-03-24 11:52:17</td>\n",
              "      <td>480</td>\n",
              "      <td>NaN</td>\n",
              "      <td>1993</td>\n",
              "      <td>manual</td>\n",
              "      <td>0</td>\n",
              "      <td>golf</td>\n",
              "      <td>150000</td>\n",
              "      <td>0</td>\n",
              "      <td>petrol</td>\n",
              "      <td>volkswagen</td>\n",
              "      <td>NaN</td>\n",
              "      <td>2016-03-24 00:00:00</td>\n",
              "      <td>0</td>\n",
              "      <td>70435</td>\n",
              "      <td>2016-04-07 03:16:57</td>\n",
              "    </tr>\n",
              "    <tr>\n",
              "      <th>1</th>\n",
              "      <td>2016-03-24 10:58:45</td>\n",
              "      <td>18300</td>\n",
              "      <td>coupe</td>\n",
              "      <td>2011</td>\n",
              "      <td>manual</td>\n",
              "      <td>190</td>\n",
              "      <td>NaN</td>\n",
              "      <td>125000</td>\n",
              "      <td>5</td>\n",
              "      <td>gasoline</td>\n",
              "      <td>audi</td>\n",
              "      <td>yes</td>\n",
              "      <td>2016-03-24 00:00:00</td>\n",
              "      <td>0</td>\n",
              "      <td>66954</td>\n",
              "      <td>2016-04-07 01:46:50</td>\n",
              "    </tr>\n",
              "    <tr>\n",
              "      <th>2</th>\n",
              "      <td>2016-03-14 12:52:21</td>\n",
              "      <td>9800</td>\n",
              "      <td>suv</td>\n",
              "      <td>2004</td>\n",
              "      <td>auto</td>\n",
              "      <td>163</td>\n",
              "      <td>grand</td>\n",
              "      <td>125000</td>\n",
              "      <td>8</td>\n",
              "      <td>gasoline</td>\n",
              "      <td>jeep</td>\n",
              "      <td>NaN</td>\n",
              "      <td>2016-03-14 00:00:00</td>\n",
              "      <td>0</td>\n",
              "      <td>90480</td>\n",
              "      <td>2016-04-05 12:47:46</td>\n",
              "    </tr>\n",
              "    <tr>\n",
              "      <th>3</th>\n",
              "      <td>2016-03-17 16:54:04</td>\n",
              "      <td>1500</td>\n",
              "      <td>small</td>\n",
              "      <td>2001</td>\n",
              "      <td>manual</td>\n",
              "      <td>75</td>\n",
              "      <td>golf</td>\n",
              "      <td>150000</td>\n",
              "      <td>6</td>\n",
              "      <td>petrol</td>\n",
              "      <td>volkswagen</td>\n",
              "      <td>no</td>\n",
              "      <td>2016-03-17 00:00:00</td>\n",
              "      <td>0</td>\n",
              "      <td>91074</td>\n",
              "      <td>2016-03-17 17:40:17</td>\n",
              "    </tr>\n",
              "    <tr>\n",
              "      <th>4</th>\n",
              "      <td>2016-03-31 17:25:20</td>\n",
              "      <td>3600</td>\n",
              "      <td>small</td>\n",
              "      <td>2008</td>\n",
              "      <td>manual</td>\n",
              "      <td>69</td>\n",
              "      <td>fabia</td>\n",
              "      <td>90000</td>\n",
              "      <td>7</td>\n",
              "      <td>gasoline</td>\n",
              "      <td>skoda</td>\n",
              "      <td>no</td>\n",
              "      <td>2016-03-31 00:00:00</td>\n",
              "      <td>0</td>\n",
              "      <td>60437</td>\n",
              "      <td>2016-04-06 10:17:21</td>\n",
              "    </tr>\n",
              "    <tr>\n",
              "      <th>5</th>\n",
              "      <td>2016-04-04 17:36:23</td>\n",
              "      <td>650</td>\n",
              "      <td>sedan</td>\n",
              "      <td>1995</td>\n",
              "      <td>manual</td>\n",
              "      <td>102</td>\n",
              "      <td>3er</td>\n",
              "      <td>150000</td>\n",
              "      <td>10</td>\n",
              "      <td>petrol</td>\n",
              "      <td>bmw</td>\n",
              "      <td>yes</td>\n",
              "      <td>2016-04-04 00:00:00</td>\n",
              "      <td>0</td>\n",
              "      <td>33775</td>\n",
              "      <td>2016-04-06 19:17:07</td>\n",
              "    </tr>\n",
              "    <tr>\n",
              "      <th>6</th>\n",
              "      <td>2016-04-01 20:48:51</td>\n",
              "      <td>2200</td>\n",
              "      <td>convertible</td>\n",
              "      <td>2004</td>\n",
              "      <td>manual</td>\n",
              "      <td>109</td>\n",
              "      <td>2_reihe</td>\n",
              "      <td>150000</td>\n",
              "      <td>8</td>\n",
              "      <td>petrol</td>\n",
              "      <td>peugeot</td>\n",
              "      <td>no</td>\n",
              "      <td>2016-04-01 00:00:00</td>\n",
              "      <td>0</td>\n",
              "      <td>67112</td>\n",
              "      <td>2016-04-05 18:18:39</td>\n",
              "    </tr>\n",
              "    <tr>\n",
              "      <th>7</th>\n",
              "      <td>2016-03-21 18:54:38</td>\n",
              "      <td>0</td>\n",
              "      <td>sedan</td>\n",
              "      <td>1980</td>\n",
              "      <td>manual</td>\n",
              "      <td>50</td>\n",
              "      <td>other</td>\n",
              "      <td>40000</td>\n",
              "      <td>7</td>\n",
              "      <td>petrol</td>\n",
              "      <td>volkswagen</td>\n",
              "      <td>no</td>\n",
              "      <td>2016-03-21 00:00:00</td>\n",
              "      <td>0</td>\n",
              "      <td>19348</td>\n",
              "      <td>2016-03-25 16:47:58</td>\n",
              "    </tr>\n",
              "    <tr>\n",
              "      <th>8</th>\n",
              "      <td>2016-04-04 23:42:13</td>\n",
              "      <td>14500</td>\n",
              "      <td>bus</td>\n",
              "      <td>2014</td>\n",
              "      <td>manual</td>\n",
              "      <td>125</td>\n",
              "      <td>c_max</td>\n",
              "      <td>30000</td>\n",
              "      <td>8</td>\n",
              "      <td>petrol</td>\n",
              "      <td>ford</td>\n",
              "      <td>NaN</td>\n",
              "      <td>2016-04-04 00:00:00</td>\n",
              "      <td>0</td>\n",
              "      <td>94505</td>\n",
              "      <td>2016-04-04 23:42:13</td>\n",
              "    </tr>\n",
              "    <tr>\n",
              "      <th>9</th>\n",
              "      <td>2016-03-17 10:53:50</td>\n",
              "      <td>999</td>\n",
              "      <td>small</td>\n",
              "      <td>1998</td>\n",
              "      <td>manual</td>\n",
              "      <td>101</td>\n",
              "      <td>golf</td>\n",
              "      <td>150000</td>\n",
              "      <td>0</td>\n",
              "      <td>NaN</td>\n",
              "      <td>volkswagen</td>\n",
              "      <td>NaN</td>\n",
              "      <td>2016-03-17 00:00:00</td>\n",
              "      <td>0</td>\n",
              "      <td>27472</td>\n",
              "      <td>2016-03-31 17:17:06</td>\n",
              "    </tr>\n",
              "  </tbody>\n",
              "</table>\n",
              "</div>\n",
              "      <button class=\"colab-df-convert\" onclick=\"convertToInteractive('df-d3c341b7-ee2a-4890-97be-64a1c9229d95')\"\n",
              "              title=\"Convert this dataframe to an interactive table.\"\n",
              "              style=\"display:none;\">\n",
              "        \n",
              "  <svg xmlns=\"http://www.w3.org/2000/svg\" height=\"24px\"viewBox=\"0 0 24 24\"\n",
              "       width=\"24px\">\n",
              "    <path d=\"M0 0h24v24H0V0z\" fill=\"none\"/>\n",
              "    <path d=\"M18.56 5.44l.94 2.06.94-2.06 2.06-.94-2.06-.94-.94-2.06-.94 2.06-2.06.94zm-11 1L8.5 8.5l.94-2.06 2.06-.94-2.06-.94L8.5 2.5l-.94 2.06-2.06.94zm10 10l.94 2.06.94-2.06 2.06-.94-2.06-.94-.94-2.06-.94 2.06-2.06.94z\"/><path d=\"M17.41 7.96l-1.37-1.37c-.4-.4-.92-.59-1.43-.59-.52 0-1.04.2-1.43.59L10.3 9.45l-7.72 7.72c-.78.78-.78 2.05 0 2.83L4 21.41c.39.39.9.59 1.41.59.51 0 1.02-.2 1.41-.59l7.78-7.78 2.81-2.81c.8-.78.8-2.07 0-2.86zM5.41 20L4 18.59l7.72-7.72 1.47 1.35L5.41 20z\"/>\n",
              "  </svg>\n",
              "      </button>\n",
              "      \n",
              "  <style>\n",
              "    .colab-df-container {\n",
              "      display:flex;\n",
              "      flex-wrap:wrap;\n",
              "      gap: 12px;\n",
              "    }\n",
              "\n",
              "    .colab-df-convert {\n",
              "      background-color: #E8F0FE;\n",
              "      border: none;\n",
              "      border-radius: 50%;\n",
              "      cursor: pointer;\n",
              "      display: none;\n",
              "      fill: #1967D2;\n",
              "      height: 32px;\n",
              "      padding: 0 0 0 0;\n",
              "      width: 32px;\n",
              "    }\n",
              "\n",
              "    .colab-df-convert:hover {\n",
              "      background-color: #E2EBFA;\n",
              "      box-shadow: 0px 1px 2px rgba(60, 64, 67, 0.3), 0px 1px 3px 1px rgba(60, 64, 67, 0.15);\n",
              "      fill: #174EA6;\n",
              "    }\n",
              "\n",
              "    [theme=dark] .colab-df-convert {\n",
              "      background-color: #3B4455;\n",
              "      fill: #D2E3FC;\n",
              "    }\n",
              "\n",
              "    [theme=dark] .colab-df-convert:hover {\n",
              "      background-color: #434B5C;\n",
              "      box-shadow: 0px 1px 3px 1px rgba(0, 0, 0, 0.15);\n",
              "      filter: drop-shadow(0px 1px 2px rgba(0, 0, 0, 0.3));\n",
              "      fill: #FFFFFF;\n",
              "    }\n",
              "  </style>\n",
              "\n",
              "      <script>\n",
              "        const buttonEl =\n",
              "          document.querySelector('#df-d3c341b7-ee2a-4890-97be-64a1c9229d95 button.colab-df-convert');\n",
              "        buttonEl.style.display =\n",
              "          google.colab.kernel.accessAllowed ? 'block' : 'none';\n",
              "\n",
              "        async function convertToInteractive(key) {\n",
              "          const element = document.querySelector('#df-d3c341b7-ee2a-4890-97be-64a1c9229d95');\n",
              "          const dataTable =\n",
              "            await google.colab.kernel.invokeFunction('convertToInteractive',\n",
              "                                                     [key], {});\n",
              "          if (!dataTable) return;\n",
              "\n",
              "          const docLinkHtml = 'Like what you see? Visit the ' +\n",
              "            '<a target=\"_blank\" href=https://colab.research.google.com/notebooks/data_table.ipynb>data table notebook</a>'\n",
              "            + ' to learn more about interactive tables.';\n",
              "          element.innerHTML = '';\n",
              "          dataTable['output_type'] = 'display_data';\n",
              "          await google.colab.output.renderOutput(dataTable, element);\n",
              "          const docLink = document.createElement('div');\n",
              "          docLink.innerHTML = docLinkHtml;\n",
              "          element.appendChild(docLink);\n",
              "        }\n",
              "      </script>\n",
              "    </div>\n",
              "  </div>\n",
              "  "
            ]
          },
          "metadata": {},
          "execution_count": 122
        }
      ],
      "source": [
        "# изучим данные\n",
        "data.head(10)"
      ]
    },
    {
      "cell_type": "code",
      "execution_count": null,
      "metadata": {
        "colab": {
          "base_uri": "https://localhost:8080/"
        },
        "id": "v907uknJhK4l",
        "outputId": "ba34bec3-9c05-4a2f-d597-733b4198a8cd"
      },
      "outputs": [
        {
          "output_type": "stream",
          "name": "stdout",
          "text": [
            "<class 'pandas.core.frame.DataFrame'>\n",
            "RangeIndex: 354369 entries, 0 to 354368\n",
            "Data columns (total 16 columns):\n",
            " #   Column             Non-Null Count   Dtype \n",
            "---  ------             --------------   ----- \n",
            " 0   DateCrawled        354369 non-null  object\n",
            " 1   Price              354369 non-null  int64 \n",
            " 2   VehicleType        316879 non-null  object\n",
            " 3   RegistrationYear   354369 non-null  int64 \n",
            " 4   Gearbox            334536 non-null  object\n",
            " 5   Power              354369 non-null  int64 \n",
            " 6   Model              334664 non-null  object\n",
            " 7   Kilometer          354369 non-null  int64 \n",
            " 8   RegistrationMonth  354369 non-null  int64 \n",
            " 9   FuelType           321474 non-null  object\n",
            " 10  Brand              354369 non-null  object\n",
            " 11  NotRepaired        283215 non-null  object\n",
            " 12  DateCreated        354369 non-null  object\n",
            " 13  NumberOfPictures   354369 non-null  int64 \n",
            " 14  PostalCode         354369 non-null  int64 \n",
            " 15  LastSeen           354369 non-null  object\n",
            "dtypes: int64(7), object(9)\n",
            "memory usage: 43.3+ MB\n"
          ]
        }
      ],
      "source": [
        "data.info()"
      ]
    },
    {
      "cell_type": "code",
      "execution_count": null,
      "metadata": {
        "id": "_A6IbUtpg3Qz"
      },
      "outputs": [],
      "source": [
        "#переведем все названия столбцов в нижный регистр\n",
        "data.columns = data.columns.str.lower()"
      ]
    },
    {
      "cell_type": "code",
      "execution_count": null,
      "metadata": {
        "id": "HskYFJ88l6Z1"
      },
      "outputs": [],
      "source": [
        "#переведем столбцы в змеиный регистр\n",
        "data = data.rename(columns={'datecrawled':'date_crawled', \n",
        "                        'vehicletype':'vehicle_type', \n",
        "                        'registrationyear':'registration_year', \n",
        "                        'registrationmonth':'registration_month', \n",
        "                        'fueltype':'fuel_type', \n",
        "                        'notrepaired':'not_repaired', \n",
        "                        'datecreated':'date_created',\n",
        "                        'numberofpictures': 'number_of_pictures',\n",
        "                        'postalcode':'postal_code',\n",
        "                        'lastseen':'last_seen'})"
      ]
    },
    {
      "cell_type": "markdown",
      "metadata": {
        "id": "u9N4k7xYY7Zc"
      },
      "source": [
        "<div class=\"alert alert-block alert-success\">\n",
        "<b>Успех:</b> Работать с такими названиями гораздо удобнее) Посмотри на такой вариант ниже. Здесь мы используем регулярные выражения\n",
        "\n",
        "Полезная <a href='https://habr.com/ru/post/545150/'>статья</a> про regex для начала\n",
        "    \n",
        "Этот блогер хорошо объясняет в своем <a href='https://www.youtube.com/watch?v=sHw5hLYFaIw&t=247s'>видео</a>\n",
        "</div>\n",
        "\n",
        "```python\n",
        "df.columns = df.columns.str.replace(r\"([A-Z])\", r\" \\1\").str.lower().str.replace(' ', '_').str[1:]\n",
        "```"
      ]
    },
    {
      "cell_type": "code",
      "execution_count": null,
      "metadata": {
        "colab": {
          "base_uri": "https://localhost:8080/"
        },
        "id": "vidn6SaNl6za",
        "outputId": "da21de36-f039-4208-d7b8-d784b01bdfb6"
      },
      "outputs": [
        {
          "output_type": "execute_result",
          "data": {
            "text/plain": [
              "0    354369\n",
              "Name: number_of_pictures, dtype: int64"
            ]
          },
          "metadata": {},
          "execution_count": 126
        }
      ],
      "source": [
        "#найдем число уникальных значений в стобце \"количество фотографий\"\n",
        "data.number_of_pictures.value_counts()"
      ]
    },
    {
      "cell_type": "markdown",
      "metadata": {
        "id": "QArGCqfXqOMO"
      },
      "source": [
        "Удалим этот столбец, а также другие неинформативные столбцы"
      ]
    },
    {
      "cell_type": "code",
      "execution_count": null,
      "metadata": {
        "id": "gQsYJhXnqgGq"
      },
      "outputs": [],
      "source": [
        "#удалим столбцы, которые нам не понадобятся\n",
        "data = data.drop(['number_of_pictures', 'postal_code', 'date_created', 'last_seen', 'registration_month', 'date_crawled'], axis=1)"
      ]
    },
    {
      "cell_type": "markdown",
      "metadata": {
        "id": "6LCgtNj2Y7Ze"
      },
      "source": [
        "<div class=\"alert alert-block alert-success\">\n",
        "<b>Успех:</b> Правильно эти столбцы не пригодятся для обучения моделей 👍\n",
        "</div>"
      ]
    },
    {
      "cell_type": "code",
      "execution_count": null,
      "metadata": {
        "colab": {
          "base_uri": "https://localhost:8080/",
          "height": 270
        },
        "id": "O0shOeoiq-dD",
        "outputId": "5aabd04c-4600-4619-9458-d2dcdc6fe13f"
      },
      "outputs": [
        {
          "output_type": "execute_result",
          "data": {
            "text/plain": [
              "   price vehicle_type  registration_year gearbox  power  model  kilometer  \\\n",
              "0    480          NaN               1993  manual      0   golf     150000   \n",
              "1  18300        coupe               2011  manual    190    NaN     125000   \n",
              "2   9800          suv               2004    auto    163  grand     125000   \n",
              "3   1500        small               2001  manual     75   golf     150000   \n",
              "4   3600        small               2008  manual     69  fabia      90000   \n",
              "\n",
              "  fuel_type       brand not_repaired  \n",
              "0    petrol  volkswagen          NaN  \n",
              "1  gasoline        audi          yes  \n",
              "2  gasoline        jeep          NaN  \n",
              "3    petrol  volkswagen           no  \n",
              "4  gasoline       skoda           no  "
            ],
            "text/html": [
              "\n",
              "  <div id=\"df-f9a7a187-fc75-413f-8391-94917e84691b\">\n",
              "    <div class=\"colab-df-container\">\n",
              "      <div>\n",
              "<style scoped>\n",
              "    .dataframe tbody tr th:only-of-type {\n",
              "        vertical-align: middle;\n",
              "    }\n",
              "\n",
              "    .dataframe tbody tr th {\n",
              "        vertical-align: top;\n",
              "    }\n",
              "\n",
              "    .dataframe thead th {\n",
              "        text-align: right;\n",
              "    }\n",
              "</style>\n",
              "<table border=\"1\" class=\"dataframe\">\n",
              "  <thead>\n",
              "    <tr style=\"text-align: right;\">\n",
              "      <th></th>\n",
              "      <th>price</th>\n",
              "      <th>vehicle_type</th>\n",
              "      <th>registration_year</th>\n",
              "      <th>gearbox</th>\n",
              "      <th>power</th>\n",
              "      <th>model</th>\n",
              "      <th>kilometer</th>\n",
              "      <th>fuel_type</th>\n",
              "      <th>brand</th>\n",
              "      <th>not_repaired</th>\n",
              "    </tr>\n",
              "  </thead>\n",
              "  <tbody>\n",
              "    <tr>\n",
              "      <th>0</th>\n",
              "      <td>480</td>\n",
              "      <td>NaN</td>\n",
              "      <td>1993</td>\n",
              "      <td>manual</td>\n",
              "      <td>0</td>\n",
              "      <td>golf</td>\n",
              "      <td>150000</td>\n",
              "      <td>petrol</td>\n",
              "      <td>volkswagen</td>\n",
              "      <td>NaN</td>\n",
              "    </tr>\n",
              "    <tr>\n",
              "      <th>1</th>\n",
              "      <td>18300</td>\n",
              "      <td>coupe</td>\n",
              "      <td>2011</td>\n",
              "      <td>manual</td>\n",
              "      <td>190</td>\n",
              "      <td>NaN</td>\n",
              "      <td>125000</td>\n",
              "      <td>gasoline</td>\n",
              "      <td>audi</td>\n",
              "      <td>yes</td>\n",
              "    </tr>\n",
              "    <tr>\n",
              "      <th>2</th>\n",
              "      <td>9800</td>\n",
              "      <td>suv</td>\n",
              "      <td>2004</td>\n",
              "      <td>auto</td>\n",
              "      <td>163</td>\n",
              "      <td>grand</td>\n",
              "      <td>125000</td>\n",
              "      <td>gasoline</td>\n",
              "      <td>jeep</td>\n",
              "      <td>NaN</td>\n",
              "    </tr>\n",
              "    <tr>\n",
              "      <th>3</th>\n",
              "      <td>1500</td>\n",
              "      <td>small</td>\n",
              "      <td>2001</td>\n",
              "      <td>manual</td>\n",
              "      <td>75</td>\n",
              "      <td>golf</td>\n",
              "      <td>150000</td>\n",
              "      <td>petrol</td>\n",
              "      <td>volkswagen</td>\n",
              "      <td>no</td>\n",
              "    </tr>\n",
              "    <tr>\n",
              "      <th>4</th>\n",
              "      <td>3600</td>\n",
              "      <td>small</td>\n",
              "      <td>2008</td>\n",
              "      <td>manual</td>\n",
              "      <td>69</td>\n",
              "      <td>fabia</td>\n",
              "      <td>90000</td>\n",
              "      <td>gasoline</td>\n",
              "      <td>skoda</td>\n",
              "      <td>no</td>\n",
              "    </tr>\n",
              "  </tbody>\n",
              "</table>\n",
              "</div>\n",
              "      <button class=\"colab-df-convert\" onclick=\"convertToInteractive('df-f9a7a187-fc75-413f-8391-94917e84691b')\"\n",
              "              title=\"Convert this dataframe to an interactive table.\"\n",
              "              style=\"display:none;\">\n",
              "        \n",
              "  <svg xmlns=\"http://www.w3.org/2000/svg\" height=\"24px\"viewBox=\"0 0 24 24\"\n",
              "       width=\"24px\">\n",
              "    <path d=\"M0 0h24v24H0V0z\" fill=\"none\"/>\n",
              "    <path d=\"M18.56 5.44l.94 2.06.94-2.06 2.06-.94-2.06-.94-.94-2.06-.94 2.06-2.06.94zm-11 1L8.5 8.5l.94-2.06 2.06-.94-2.06-.94L8.5 2.5l-.94 2.06-2.06.94zm10 10l.94 2.06.94-2.06 2.06-.94-2.06-.94-.94-2.06-.94 2.06-2.06.94z\"/><path d=\"M17.41 7.96l-1.37-1.37c-.4-.4-.92-.59-1.43-.59-.52 0-1.04.2-1.43.59L10.3 9.45l-7.72 7.72c-.78.78-.78 2.05 0 2.83L4 21.41c.39.39.9.59 1.41.59.51 0 1.02-.2 1.41-.59l7.78-7.78 2.81-2.81c.8-.78.8-2.07 0-2.86zM5.41 20L4 18.59l7.72-7.72 1.47 1.35L5.41 20z\"/>\n",
              "  </svg>\n",
              "      </button>\n",
              "      \n",
              "  <style>\n",
              "    .colab-df-container {\n",
              "      display:flex;\n",
              "      flex-wrap:wrap;\n",
              "      gap: 12px;\n",
              "    }\n",
              "\n",
              "    .colab-df-convert {\n",
              "      background-color: #E8F0FE;\n",
              "      border: none;\n",
              "      border-radius: 50%;\n",
              "      cursor: pointer;\n",
              "      display: none;\n",
              "      fill: #1967D2;\n",
              "      height: 32px;\n",
              "      padding: 0 0 0 0;\n",
              "      width: 32px;\n",
              "    }\n",
              "\n",
              "    .colab-df-convert:hover {\n",
              "      background-color: #E2EBFA;\n",
              "      box-shadow: 0px 1px 2px rgba(60, 64, 67, 0.3), 0px 1px 3px 1px rgba(60, 64, 67, 0.15);\n",
              "      fill: #174EA6;\n",
              "    }\n",
              "\n",
              "    [theme=dark] .colab-df-convert {\n",
              "      background-color: #3B4455;\n",
              "      fill: #D2E3FC;\n",
              "    }\n",
              "\n",
              "    [theme=dark] .colab-df-convert:hover {\n",
              "      background-color: #434B5C;\n",
              "      box-shadow: 0px 1px 3px 1px rgba(0, 0, 0, 0.15);\n",
              "      filter: drop-shadow(0px 1px 2px rgba(0, 0, 0, 0.3));\n",
              "      fill: #FFFFFF;\n",
              "    }\n",
              "  </style>\n",
              "\n",
              "      <script>\n",
              "        const buttonEl =\n",
              "          document.querySelector('#df-f9a7a187-fc75-413f-8391-94917e84691b button.colab-df-convert');\n",
              "        buttonEl.style.display =\n",
              "          google.colab.kernel.accessAllowed ? 'block' : 'none';\n",
              "\n",
              "        async function convertToInteractive(key) {\n",
              "          const element = document.querySelector('#df-f9a7a187-fc75-413f-8391-94917e84691b');\n",
              "          const dataTable =\n",
              "            await google.colab.kernel.invokeFunction('convertToInteractive',\n",
              "                                                     [key], {});\n",
              "          if (!dataTable) return;\n",
              "\n",
              "          const docLinkHtml = 'Like what you see? Visit the ' +\n",
              "            '<a target=\"_blank\" href=https://colab.research.google.com/notebooks/data_table.ipynb>data table notebook</a>'\n",
              "            + ' to learn more about interactive tables.';\n",
              "          element.innerHTML = '';\n",
              "          dataTable['output_type'] = 'display_data';\n",
              "          await google.colab.output.renderOutput(dataTable, element);\n",
              "          const docLink = document.createElement('div');\n",
              "          docLink.innerHTML = docLinkHtml;\n",
              "          element.appendChild(docLink);\n",
              "        }\n",
              "      </script>\n",
              "    </div>\n",
              "  </div>\n",
              "  "
            ]
          },
          "metadata": {},
          "execution_count": 128
        }
      ],
      "source": [
        "data.head()"
      ]
    },
    {
      "cell_type": "code",
      "execution_count": null,
      "metadata": {
        "colab": {
          "base_uri": "https://localhost:8080/"
        },
        "id": "VglGpD8eztEH",
        "outputId": "7d8c5e13-02a9-48e8-b51e-94154044b70c"
      },
      "outputs": [
        {
          "output_type": "execute_result",
          "data": {
            "text/plain": [
              "price                    0\n",
              "vehicle_type         37490\n",
              "registration_year        0\n",
              "gearbox              19833\n",
              "power                    0\n",
              "model                19705\n",
              "kilometer                0\n",
              "fuel_type            32895\n",
              "brand                    0\n",
              "not_repaired         71154\n",
              "dtype: int64"
            ]
          },
          "metadata": {},
          "execution_count": 129
        }
      ],
      "source": [
        "# найдем количество пропусков\n",
        "data.isna().sum()"
      ]
    },
    {
      "cell_type": "markdown",
      "metadata": {
        "id": "bXuV_3LWtKD3"
      },
      "source": [
        "Найдем долю пропусков в столбцах, содержащих пропуски"
      ]
    },
    {
      "cell_type": "code",
      "execution_count": null,
      "metadata": {
        "colab": {
          "base_uri": "https://localhost:8080/"
        },
        "id": "z3xUiIdAreYU",
        "outputId": "aafd23b2-333c-4ea3-cbf1-48ffb8c78be6"
      },
      "outputs": [
        {
          "output_type": "stream",
          "name": "stdout",
          "text": [
            "Доля пропусков в vehicle_type: 10.58%\n"
          ]
        }
      ],
      "source": [
        "print('Доля пропусков в vehicle_type: {:.2%}'.format(data['vehicle_type'].isna().mean()))"
      ]
    },
    {
      "cell_type": "code",
      "execution_count": null,
      "metadata": {
        "colab": {
          "base_uri": "https://localhost:8080/"
        },
        "id": "d3LvOulereqo",
        "outputId": "4e6716c7-8689-40e2-ad08-395ffd343060"
      },
      "outputs": [
        {
          "output_type": "stream",
          "name": "stdout",
          "text": [
            "Доля пропусков в gearbox: 5.60%\n"
          ]
        }
      ],
      "source": [
        "print('Доля пропусков в gearbox: {:.2%}'.format(data['gearbox'].isna().mean()))"
      ]
    },
    {
      "cell_type": "code",
      "execution_count": null,
      "metadata": {
        "colab": {
          "base_uri": "https://localhost:8080/"
        },
        "id": "bYCzU79hre2s",
        "outputId": "eeb0e0cd-179f-4886-9489-c517acab177e"
      },
      "outputs": [
        {
          "output_type": "stream",
          "name": "stdout",
          "text": [
            "Доля пропусков в model: 5.56%\n"
          ]
        }
      ],
      "source": [
        "print('Доля пропусков в model: {:.2%}'.format(data['model'].isna().mean()))"
      ]
    },
    {
      "cell_type": "code",
      "execution_count": null,
      "metadata": {
        "colab": {
          "base_uri": "https://localhost:8080/"
        },
        "id": "q5QRpr1Wrttx",
        "outputId": "da6a5e5d-ffbe-46ba-b4bb-b1d6cf71cb64"
      },
      "outputs": [
        {
          "output_type": "stream",
          "name": "stdout",
          "text": [
            "Доля пропусков в fuel_type: 9.28%\n"
          ]
        }
      ],
      "source": [
        "print('Доля пропусков в fuel_type: {:.2%}'.format(data['fuel_type'].isna().mean()))"
      ]
    },
    {
      "cell_type": "code",
      "execution_count": null,
      "metadata": {
        "colab": {
          "base_uri": "https://localhost:8080/"
        },
        "id": "_8bIHlBvrt_C",
        "outputId": "bc5e82d6-b246-4fca-fceb-6de481cce64c"
      },
      "outputs": [
        {
          "output_type": "stream",
          "name": "stdout",
          "text": [
            "Доля пропусков в not_repaired: 20.08%\n"
          ]
        }
      ],
      "source": [
        "print('Доля пропусков в not_repaired: {:.2%}'.format(data['not_repaired'].isna().mean()))"
      ]
    },
    {
      "cell_type": "code",
      "execution_count": null,
      "metadata": {
        "colab": {
          "base_uri": "https://localhost:8080/"
        },
        "id": "T7_IsULEGaJA",
        "outputId": "dcece2a4-be75-4c24-a161-6716e2655132"
      },
      "outputs": [
        {
          "output_type": "execute_result",
          "data": {
            "text/plain": [
              "no     247161\n",
              "yes     36054\n",
              "Name: not_repaired, dtype: int64"
            ]
          },
          "metadata": {},
          "execution_count": 135
        }
      ],
      "source": [
        "data.not_repaired.value_counts()"
      ]
    },
    {
      "cell_type": "code",
      "execution_count": null,
      "metadata": {
        "colab": {
          "base_uri": "https://localhost:8080/",
          "height": 488
        },
        "id": "ZSoEkaWUd3nz",
        "outputId": "063dcadb-f814-415a-d1d7-b56b65ec0bda"
      },
      "outputs": [
        {
          "output_type": "execute_result",
          "data": {
            "text/plain": [
              "        price vehicle_type  registration_year gearbox  power model  kilometer  \\\n",
              "306       200          NaN               2009     NaN      0   NaN      10000   \n",
              "522         0          NaN               2000     NaN      0   NaN     150000   \n",
              "538      2600          NaN               2005     NaN      0   NaN     125000   \n",
              "552        50          NaN               1985     NaN      0   NaN     150000   \n",
              "622         0          NaN               1111     NaN      0   NaN       5000   \n",
              "...       ...          ...                ...     ...    ...   ...        ...   \n",
              "353727      1          NaN               2000     NaN      0   NaN     150000   \n",
              "354073   1750          NaN               1995     NaN      0   NaN     100000   \n",
              "354083      0          NaN               2000     NaN      0   NaN     150000   \n",
              "354162   1500          NaN               1995     NaN      0   NaN     150000   \n",
              "354365   2200          NaN               2005     NaN      0   NaN      20000   \n",
              "\n",
              "       fuel_type           brand not_repaired  \n",
              "306          NaN  sonstige_autos          NaN  \n",
              "522          NaN           volvo          NaN  \n",
              "538          NaN       chevrolet          NaN  \n",
              "552          NaN         trabant          NaN  \n",
              "622          NaN            opel          NaN  \n",
              "...          ...             ...          ...  \n",
              "353727       NaN             bmw          NaN  \n",
              "354073       NaN  sonstige_autos          NaN  \n",
              "354083       NaN  sonstige_autos          NaN  \n",
              "354162       NaN      volkswagen          NaN  \n",
              "354365       NaN  sonstige_autos          NaN  \n",
              "\n",
              "[2237 rows x 10 columns]"
            ],
            "text/html": [
              "\n",
              "  <div id=\"df-3e0ef5ca-3e3b-4c7f-8f5e-8ae89e3ce9c5\">\n",
              "    <div class=\"colab-df-container\">\n",
              "      <div>\n",
              "<style scoped>\n",
              "    .dataframe tbody tr th:only-of-type {\n",
              "        vertical-align: middle;\n",
              "    }\n",
              "\n",
              "    .dataframe tbody tr th {\n",
              "        vertical-align: top;\n",
              "    }\n",
              "\n",
              "    .dataframe thead th {\n",
              "        text-align: right;\n",
              "    }\n",
              "</style>\n",
              "<table border=\"1\" class=\"dataframe\">\n",
              "  <thead>\n",
              "    <tr style=\"text-align: right;\">\n",
              "      <th></th>\n",
              "      <th>price</th>\n",
              "      <th>vehicle_type</th>\n",
              "      <th>registration_year</th>\n",
              "      <th>gearbox</th>\n",
              "      <th>power</th>\n",
              "      <th>model</th>\n",
              "      <th>kilometer</th>\n",
              "      <th>fuel_type</th>\n",
              "      <th>brand</th>\n",
              "      <th>not_repaired</th>\n",
              "    </tr>\n",
              "  </thead>\n",
              "  <tbody>\n",
              "    <tr>\n",
              "      <th>306</th>\n",
              "      <td>200</td>\n",
              "      <td>NaN</td>\n",
              "      <td>2009</td>\n",
              "      <td>NaN</td>\n",
              "      <td>0</td>\n",
              "      <td>NaN</td>\n",
              "      <td>10000</td>\n",
              "      <td>NaN</td>\n",
              "      <td>sonstige_autos</td>\n",
              "      <td>NaN</td>\n",
              "    </tr>\n",
              "    <tr>\n",
              "      <th>522</th>\n",
              "      <td>0</td>\n",
              "      <td>NaN</td>\n",
              "      <td>2000</td>\n",
              "      <td>NaN</td>\n",
              "      <td>0</td>\n",
              "      <td>NaN</td>\n",
              "      <td>150000</td>\n",
              "      <td>NaN</td>\n",
              "      <td>volvo</td>\n",
              "      <td>NaN</td>\n",
              "    </tr>\n",
              "    <tr>\n",
              "      <th>538</th>\n",
              "      <td>2600</td>\n",
              "      <td>NaN</td>\n",
              "      <td>2005</td>\n",
              "      <td>NaN</td>\n",
              "      <td>0</td>\n",
              "      <td>NaN</td>\n",
              "      <td>125000</td>\n",
              "      <td>NaN</td>\n",
              "      <td>chevrolet</td>\n",
              "      <td>NaN</td>\n",
              "    </tr>\n",
              "    <tr>\n",
              "      <th>552</th>\n",
              "      <td>50</td>\n",
              "      <td>NaN</td>\n",
              "      <td>1985</td>\n",
              "      <td>NaN</td>\n",
              "      <td>0</td>\n",
              "      <td>NaN</td>\n",
              "      <td>150000</td>\n",
              "      <td>NaN</td>\n",
              "      <td>trabant</td>\n",
              "      <td>NaN</td>\n",
              "    </tr>\n",
              "    <tr>\n",
              "      <th>622</th>\n",
              "      <td>0</td>\n",
              "      <td>NaN</td>\n",
              "      <td>1111</td>\n",
              "      <td>NaN</td>\n",
              "      <td>0</td>\n",
              "      <td>NaN</td>\n",
              "      <td>5000</td>\n",
              "      <td>NaN</td>\n",
              "      <td>opel</td>\n",
              "      <td>NaN</td>\n",
              "    </tr>\n",
              "    <tr>\n",
              "      <th>...</th>\n",
              "      <td>...</td>\n",
              "      <td>...</td>\n",
              "      <td>...</td>\n",
              "      <td>...</td>\n",
              "      <td>...</td>\n",
              "      <td>...</td>\n",
              "      <td>...</td>\n",
              "      <td>...</td>\n",
              "      <td>...</td>\n",
              "      <td>...</td>\n",
              "    </tr>\n",
              "    <tr>\n",
              "      <th>353727</th>\n",
              "      <td>1</td>\n",
              "      <td>NaN</td>\n",
              "      <td>2000</td>\n",
              "      <td>NaN</td>\n",
              "      <td>0</td>\n",
              "      <td>NaN</td>\n",
              "      <td>150000</td>\n",
              "      <td>NaN</td>\n",
              "      <td>bmw</td>\n",
              "      <td>NaN</td>\n",
              "    </tr>\n",
              "    <tr>\n",
              "      <th>354073</th>\n",
              "      <td>1750</td>\n",
              "      <td>NaN</td>\n",
              "      <td>1995</td>\n",
              "      <td>NaN</td>\n",
              "      <td>0</td>\n",
              "      <td>NaN</td>\n",
              "      <td>100000</td>\n",
              "      <td>NaN</td>\n",
              "      <td>sonstige_autos</td>\n",
              "      <td>NaN</td>\n",
              "    </tr>\n",
              "    <tr>\n",
              "      <th>354083</th>\n",
              "      <td>0</td>\n",
              "      <td>NaN</td>\n",
              "      <td>2000</td>\n",
              "      <td>NaN</td>\n",
              "      <td>0</td>\n",
              "      <td>NaN</td>\n",
              "      <td>150000</td>\n",
              "      <td>NaN</td>\n",
              "      <td>sonstige_autos</td>\n",
              "      <td>NaN</td>\n",
              "    </tr>\n",
              "    <tr>\n",
              "      <th>354162</th>\n",
              "      <td>1500</td>\n",
              "      <td>NaN</td>\n",
              "      <td>1995</td>\n",
              "      <td>NaN</td>\n",
              "      <td>0</td>\n",
              "      <td>NaN</td>\n",
              "      <td>150000</td>\n",
              "      <td>NaN</td>\n",
              "      <td>volkswagen</td>\n",
              "      <td>NaN</td>\n",
              "    </tr>\n",
              "    <tr>\n",
              "      <th>354365</th>\n",
              "      <td>2200</td>\n",
              "      <td>NaN</td>\n",
              "      <td>2005</td>\n",
              "      <td>NaN</td>\n",
              "      <td>0</td>\n",
              "      <td>NaN</td>\n",
              "      <td>20000</td>\n",
              "      <td>NaN</td>\n",
              "      <td>sonstige_autos</td>\n",
              "      <td>NaN</td>\n",
              "    </tr>\n",
              "  </tbody>\n",
              "</table>\n",
              "<p>2237 rows × 10 columns</p>\n",
              "</div>\n",
              "      <button class=\"colab-df-convert\" onclick=\"convertToInteractive('df-3e0ef5ca-3e3b-4c7f-8f5e-8ae89e3ce9c5')\"\n",
              "              title=\"Convert this dataframe to an interactive table.\"\n",
              "              style=\"display:none;\">\n",
              "        \n",
              "  <svg xmlns=\"http://www.w3.org/2000/svg\" height=\"24px\"viewBox=\"0 0 24 24\"\n",
              "       width=\"24px\">\n",
              "    <path d=\"M0 0h24v24H0V0z\" fill=\"none\"/>\n",
              "    <path d=\"M18.56 5.44l.94 2.06.94-2.06 2.06-.94-2.06-.94-.94-2.06-.94 2.06-2.06.94zm-11 1L8.5 8.5l.94-2.06 2.06-.94-2.06-.94L8.5 2.5l-.94 2.06-2.06.94zm10 10l.94 2.06.94-2.06 2.06-.94-2.06-.94-.94-2.06-.94 2.06-2.06.94z\"/><path d=\"M17.41 7.96l-1.37-1.37c-.4-.4-.92-.59-1.43-.59-.52 0-1.04.2-1.43.59L10.3 9.45l-7.72 7.72c-.78.78-.78 2.05 0 2.83L4 21.41c.39.39.9.59 1.41.59.51 0 1.02-.2 1.41-.59l7.78-7.78 2.81-2.81c.8-.78.8-2.07 0-2.86zM5.41 20L4 18.59l7.72-7.72 1.47 1.35L5.41 20z\"/>\n",
              "  </svg>\n",
              "      </button>\n",
              "      \n",
              "  <style>\n",
              "    .colab-df-container {\n",
              "      display:flex;\n",
              "      flex-wrap:wrap;\n",
              "      gap: 12px;\n",
              "    }\n",
              "\n",
              "    .colab-df-convert {\n",
              "      background-color: #E8F0FE;\n",
              "      border: none;\n",
              "      border-radius: 50%;\n",
              "      cursor: pointer;\n",
              "      display: none;\n",
              "      fill: #1967D2;\n",
              "      height: 32px;\n",
              "      padding: 0 0 0 0;\n",
              "      width: 32px;\n",
              "    }\n",
              "\n",
              "    .colab-df-convert:hover {\n",
              "      background-color: #E2EBFA;\n",
              "      box-shadow: 0px 1px 2px rgba(60, 64, 67, 0.3), 0px 1px 3px 1px rgba(60, 64, 67, 0.15);\n",
              "      fill: #174EA6;\n",
              "    }\n",
              "\n",
              "    [theme=dark] .colab-df-convert {\n",
              "      background-color: #3B4455;\n",
              "      fill: #D2E3FC;\n",
              "    }\n",
              "\n",
              "    [theme=dark] .colab-df-convert:hover {\n",
              "      background-color: #434B5C;\n",
              "      box-shadow: 0px 1px 3px 1px rgba(0, 0, 0, 0.15);\n",
              "      filter: drop-shadow(0px 1px 2px rgba(0, 0, 0, 0.3));\n",
              "      fill: #FFFFFF;\n",
              "    }\n",
              "  </style>\n",
              "\n",
              "      <script>\n",
              "        const buttonEl =\n",
              "          document.querySelector('#df-3e0ef5ca-3e3b-4c7f-8f5e-8ae89e3ce9c5 button.colab-df-convert');\n",
              "        buttonEl.style.display =\n",
              "          google.colab.kernel.accessAllowed ? 'block' : 'none';\n",
              "\n",
              "        async function convertToInteractive(key) {\n",
              "          const element = document.querySelector('#df-3e0ef5ca-3e3b-4c7f-8f5e-8ae89e3ce9c5');\n",
              "          const dataTable =\n",
              "            await google.colab.kernel.invokeFunction('convertToInteractive',\n",
              "                                                     [key], {});\n",
              "          if (!dataTable) return;\n",
              "\n",
              "          const docLinkHtml = 'Like what you see? Visit the ' +\n",
              "            '<a target=\"_blank\" href=https://colab.research.google.com/notebooks/data_table.ipynb>data table notebook</a>'\n",
              "            + ' to learn more about interactive tables.';\n",
              "          element.innerHTML = '';\n",
              "          dataTable['output_type'] = 'display_data';\n",
              "          await google.colab.output.renderOutput(dataTable, element);\n",
              "          const docLink = document.createElement('div');\n",
              "          docLink.innerHTML = docLinkHtml;\n",
              "          element.appendChild(docLink);\n",
              "        }\n",
              "      </script>\n",
              "    </div>\n",
              "  </div>\n",
              "  "
            ]
          },
          "metadata": {},
          "execution_count": 136
        }
      ],
      "source": [
        "# выведем столбцы с пропусками\n",
        "data[data['vehicle_type'].isna() & data['fuel_type'].isna() & data['model'].isna()&data['not_repaired'].isna()&data['gearbox'].isna()]"
      ]
    },
    {
      "cell_type": "code",
      "execution_count": null,
      "metadata": {
        "id": "GkSZdODHiR9k"
      },
      "outputs": [],
      "source": [
        "# удалими строки так, чтобы из 5 столбцов c пропусками, удалились 3 с пропусками из этого списка\n",
        "data = data.dropna(subset=['vehicle_type', 'fuel_type', 'model', 'not_repaired','gearbox'], thresh = 3)"
      ]
    },
    {
      "cell_type": "code",
      "execution_count": null,
      "metadata": {
        "colab": {
          "base_uri": "https://localhost:8080/",
          "height": 741
        },
        "id": "AZzaHtiRi-7s",
        "outputId": "cffeef47-dbe4-4b05-e98b-489c30c6f592"
      },
      "outputs": [
        {
          "output_type": "execute_result",
          "data": {
            "text/plain": [
              "    price vehicle_type  registration_year gearbox  power     model  kilometer  \\\n",
              "0     480          NaN               1993  manual      0      golf     150000   \n",
              "1   18300        coupe               2011  manual    190       NaN     125000   \n",
              "2    9800          suv               2004    auto    163     grand     125000   \n",
              "3    1500        small               2001  manual     75      golf     150000   \n",
              "4    3600        small               2008  manual     69     fabia      90000   \n",
              "5     650        sedan               1995  manual    102       3er     150000   \n",
              "6    2200  convertible               2004  manual    109   2_reihe     150000   \n",
              "7       0        sedan               1980  manual     50     other      40000   \n",
              "8   14500          bus               2014  manual    125     c_max      30000   \n",
              "9     999        small               1998  manual    101      golf     150000   \n",
              "10   2000        sedan               2004  manual    105   3_reihe     150000   \n",
              "11   2799        wagon               2005  manual    140    passat     150000   \n",
              "12    999        wagon               1995  manual    115    passat     150000   \n",
              "13   2500        wagon               2004  manual    131    passat     150000   \n",
              "14  17999          suv               2011  manual    190    navara      70000   \n",
              "15    450        small               1910     NaN      0        ka       5000   \n",
              "17   1750        small               2004    auto     75    twingo     150000   \n",
              "18   7550          bus               2007  manual    136     c_max     150000   \n",
              "19   1850          bus               2004  manual    102  a_klasse     150000   \n",
              "20  10400        coupe               2009  manual    160  scirocco     100000   \n",
              "\n",
              "   fuel_type          brand not_repaired  \n",
              "0     petrol     volkswagen          NaN  \n",
              "1   gasoline           audi          yes  \n",
              "2   gasoline           jeep          NaN  \n",
              "3     petrol     volkswagen           no  \n",
              "4   gasoline          skoda           no  \n",
              "5     petrol            bmw          yes  \n",
              "6     petrol        peugeot           no  \n",
              "7     petrol     volkswagen           no  \n",
              "8     petrol           ford          NaN  \n",
              "9        NaN     volkswagen          NaN  \n",
              "10    petrol          mazda           no  \n",
              "11  gasoline     volkswagen          yes  \n",
              "12    petrol     volkswagen          NaN  \n",
              "13       NaN     volkswagen           no  \n",
              "14  gasoline         nissan           no  \n",
              "15    petrol           ford          NaN  \n",
              "17    petrol        renault           no  \n",
              "18  gasoline           ford           no  \n",
              "19    petrol  mercedes_benz           no  \n",
              "20    petrol     volkswagen           no  "
            ],
            "text/html": [
              "\n",
              "  <div id=\"df-3f6eafaf-d86e-4ba4-8170-90f869bb91d4\">\n",
              "    <div class=\"colab-df-container\">\n",
              "      <div>\n",
              "<style scoped>\n",
              "    .dataframe tbody tr th:only-of-type {\n",
              "        vertical-align: middle;\n",
              "    }\n",
              "\n",
              "    .dataframe tbody tr th {\n",
              "        vertical-align: top;\n",
              "    }\n",
              "\n",
              "    .dataframe thead th {\n",
              "        text-align: right;\n",
              "    }\n",
              "</style>\n",
              "<table border=\"1\" class=\"dataframe\">\n",
              "  <thead>\n",
              "    <tr style=\"text-align: right;\">\n",
              "      <th></th>\n",
              "      <th>price</th>\n",
              "      <th>vehicle_type</th>\n",
              "      <th>registration_year</th>\n",
              "      <th>gearbox</th>\n",
              "      <th>power</th>\n",
              "      <th>model</th>\n",
              "      <th>kilometer</th>\n",
              "      <th>fuel_type</th>\n",
              "      <th>brand</th>\n",
              "      <th>not_repaired</th>\n",
              "    </tr>\n",
              "  </thead>\n",
              "  <tbody>\n",
              "    <tr>\n",
              "      <th>0</th>\n",
              "      <td>480</td>\n",
              "      <td>NaN</td>\n",
              "      <td>1993</td>\n",
              "      <td>manual</td>\n",
              "      <td>0</td>\n",
              "      <td>golf</td>\n",
              "      <td>150000</td>\n",
              "      <td>petrol</td>\n",
              "      <td>volkswagen</td>\n",
              "      <td>NaN</td>\n",
              "    </tr>\n",
              "    <tr>\n",
              "      <th>1</th>\n",
              "      <td>18300</td>\n",
              "      <td>coupe</td>\n",
              "      <td>2011</td>\n",
              "      <td>manual</td>\n",
              "      <td>190</td>\n",
              "      <td>NaN</td>\n",
              "      <td>125000</td>\n",
              "      <td>gasoline</td>\n",
              "      <td>audi</td>\n",
              "      <td>yes</td>\n",
              "    </tr>\n",
              "    <tr>\n",
              "      <th>2</th>\n",
              "      <td>9800</td>\n",
              "      <td>suv</td>\n",
              "      <td>2004</td>\n",
              "      <td>auto</td>\n",
              "      <td>163</td>\n",
              "      <td>grand</td>\n",
              "      <td>125000</td>\n",
              "      <td>gasoline</td>\n",
              "      <td>jeep</td>\n",
              "      <td>NaN</td>\n",
              "    </tr>\n",
              "    <tr>\n",
              "      <th>3</th>\n",
              "      <td>1500</td>\n",
              "      <td>small</td>\n",
              "      <td>2001</td>\n",
              "      <td>manual</td>\n",
              "      <td>75</td>\n",
              "      <td>golf</td>\n",
              "      <td>150000</td>\n",
              "      <td>petrol</td>\n",
              "      <td>volkswagen</td>\n",
              "      <td>no</td>\n",
              "    </tr>\n",
              "    <tr>\n",
              "      <th>4</th>\n",
              "      <td>3600</td>\n",
              "      <td>small</td>\n",
              "      <td>2008</td>\n",
              "      <td>manual</td>\n",
              "      <td>69</td>\n",
              "      <td>fabia</td>\n",
              "      <td>90000</td>\n",
              "      <td>gasoline</td>\n",
              "      <td>skoda</td>\n",
              "      <td>no</td>\n",
              "    </tr>\n",
              "    <tr>\n",
              "      <th>5</th>\n",
              "      <td>650</td>\n",
              "      <td>sedan</td>\n",
              "      <td>1995</td>\n",
              "      <td>manual</td>\n",
              "      <td>102</td>\n",
              "      <td>3er</td>\n",
              "      <td>150000</td>\n",
              "      <td>petrol</td>\n",
              "      <td>bmw</td>\n",
              "      <td>yes</td>\n",
              "    </tr>\n",
              "    <tr>\n",
              "      <th>6</th>\n",
              "      <td>2200</td>\n",
              "      <td>convertible</td>\n",
              "      <td>2004</td>\n",
              "      <td>manual</td>\n",
              "      <td>109</td>\n",
              "      <td>2_reihe</td>\n",
              "      <td>150000</td>\n",
              "      <td>petrol</td>\n",
              "      <td>peugeot</td>\n",
              "      <td>no</td>\n",
              "    </tr>\n",
              "    <tr>\n",
              "      <th>7</th>\n",
              "      <td>0</td>\n",
              "      <td>sedan</td>\n",
              "      <td>1980</td>\n",
              "      <td>manual</td>\n",
              "      <td>50</td>\n",
              "      <td>other</td>\n",
              "      <td>40000</td>\n",
              "      <td>petrol</td>\n",
              "      <td>volkswagen</td>\n",
              "      <td>no</td>\n",
              "    </tr>\n",
              "    <tr>\n",
              "      <th>8</th>\n",
              "      <td>14500</td>\n",
              "      <td>bus</td>\n",
              "      <td>2014</td>\n",
              "      <td>manual</td>\n",
              "      <td>125</td>\n",
              "      <td>c_max</td>\n",
              "      <td>30000</td>\n",
              "      <td>petrol</td>\n",
              "      <td>ford</td>\n",
              "      <td>NaN</td>\n",
              "    </tr>\n",
              "    <tr>\n",
              "      <th>9</th>\n",
              "      <td>999</td>\n",
              "      <td>small</td>\n",
              "      <td>1998</td>\n",
              "      <td>manual</td>\n",
              "      <td>101</td>\n",
              "      <td>golf</td>\n",
              "      <td>150000</td>\n",
              "      <td>NaN</td>\n",
              "      <td>volkswagen</td>\n",
              "      <td>NaN</td>\n",
              "    </tr>\n",
              "    <tr>\n",
              "      <th>10</th>\n",
              "      <td>2000</td>\n",
              "      <td>sedan</td>\n",
              "      <td>2004</td>\n",
              "      <td>manual</td>\n",
              "      <td>105</td>\n",
              "      <td>3_reihe</td>\n",
              "      <td>150000</td>\n",
              "      <td>petrol</td>\n",
              "      <td>mazda</td>\n",
              "      <td>no</td>\n",
              "    </tr>\n",
              "    <tr>\n",
              "      <th>11</th>\n",
              "      <td>2799</td>\n",
              "      <td>wagon</td>\n",
              "      <td>2005</td>\n",
              "      <td>manual</td>\n",
              "      <td>140</td>\n",
              "      <td>passat</td>\n",
              "      <td>150000</td>\n",
              "      <td>gasoline</td>\n",
              "      <td>volkswagen</td>\n",
              "      <td>yes</td>\n",
              "    </tr>\n",
              "    <tr>\n",
              "      <th>12</th>\n",
              "      <td>999</td>\n",
              "      <td>wagon</td>\n",
              "      <td>1995</td>\n",
              "      <td>manual</td>\n",
              "      <td>115</td>\n",
              "      <td>passat</td>\n",
              "      <td>150000</td>\n",
              "      <td>petrol</td>\n",
              "      <td>volkswagen</td>\n",
              "      <td>NaN</td>\n",
              "    </tr>\n",
              "    <tr>\n",
              "      <th>13</th>\n",
              "      <td>2500</td>\n",
              "      <td>wagon</td>\n",
              "      <td>2004</td>\n",
              "      <td>manual</td>\n",
              "      <td>131</td>\n",
              "      <td>passat</td>\n",
              "      <td>150000</td>\n",
              "      <td>NaN</td>\n",
              "      <td>volkswagen</td>\n",
              "      <td>no</td>\n",
              "    </tr>\n",
              "    <tr>\n",
              "      <th>14</th>\n",
              "      <td>17999</td>\n",
              "      <td>suv</td>\n",
              "      <td>2011</td>\n",
              "      <td>manual</td>\n",
              "      <td>190</td>\n",
              "      <td>navara</td>\n",
              "      <td>70000</td>\n",
              "      <td>gasoline</td>\n",
              "      <td>nissan</td>\n",
              "      <td>no</td>\n",
              "    </tr>\n",
              "    <tr>\n",
              "      <th>15</th>\n",
              "      <td>450</td>\n",
              "      <td>small</td>\n",
              "      <td>1910</td>\n",
              "      <td>NaN</td>\n",
              "      <td>0</td>\n",
              "      <td>ka</td>\n",
              "      <td>5000</td>\n",
              "      <td>petrol</td>\n",
              "      <td>ford</td>\n",
              "      <td>NaN</td>\n",
              "    </tr>\n",
              "    <tr>\n",
              "      <th>17</th>\n",
              "      <td>1750</td>\n",
              "      <td>small</td>\n",
              "      <td>2004</td>\n",
              "      <td>auto</td>\n",
              "      <td>75</td>\n",
              "      <td>twingo</td>\n",
              "      <td>150000</td>\n",
              "      <td>petrol</td>\n",
              "      <td>renault</td>\n",
              "      <td>no</td>\n",
              "    </tr>\n",
              "    <tr>\n",
              "      <th>18</th>\n",
              "      <td>7550</td>\n",
              "      <td>bus</td>\n",
              "      <td>2007</td>\n",
              "      <td>manual</td>\n",
              "      <td>136</td>\n",
              "      <td>c_max</td>\n",
              "      <td>150000</td>\n",
              "      <td>gasoline</td>\n",
              "      <td>ford</td>\n",
              "      <td>no</td>\n",
              "    </tr>\n",
              "    <tr>\n",
              "      <th>19</th>\n",
              "      <td>1850</td>\n",
              "      <td>bus</td>\n",
              "      <td>2004</td>\n",
              "      <td>manual</td>\n",
              "      <td>102</td>\n",
              "      <td>a_klasse</td>\n",
              "      <td>150000</td>\n",
              "      <td>petrol</td>\n",
              "      <td>mercedes_benz</td>\n",
              "      <td>no</td>\n",
              "    </tr>\n",
              "    <tr>\n",
              "      <th>20</th>\n",
              "      <td>10400</td>\n",
              "      <td>coupe</td>\n",
              "      <td>2009</td>\n",
              "      <td>manual</td>\n",
              "      <td>160</td>\n",
              "      <td>scirocco</td>\n",
              "      <td>100000</td>\n",
              "      <td>petrol</td>\n",
              "      <td>volkswagen</td>\n",
              "      <td>no</td>\n",
              "    </tr>\n",
              "  </tbody>\n",
              "</table>\n",
              "</div>\n",
              "      <button class=\"colab-df-convert\" onclick=\"convertToInteractive('df-3f6eafaf-d86e-4ba4-8170-90f869bb91d4')\"\n",
              "              title=\"Convert this dataframe to an interactive table.\"\n",
              "              style=\"display:none;\">\n",
              "        \n",
              "  <svg xmlns=\"http://www.w3.org/2000/svg\" height=\"24px\"viewBox=\"0 0 24 24\"\n",
              "       width=\"24px\">\n",
              "    <path d=\"M0 0h24v24H0V0z\" fill=\"none\"/>\n",
              "    <path d=\"M18.56 5.44l.94 2.06.94-2.06 2.06-.94-2.06-.94-.94-2.06-.94 2.06-2.06.94zm-11 1L8.5 8.5l.94-2.06 2.06-.94-2.06-.94L8.5 2.5l-.94 2.06-2.06.94zm10 10l.94 2.06.94-2.06 2.06-.94-2.06-.94-.94-2.06-.94 2.06-2.06.94z\"/><path d=\"M17.41 7.96l-1.37-1.37c-.4-.4-.92-.59-1.43-.59-.52 0-1.04.2-1.43.59L10.3 9.45l-7.72 7.72c-.78.78-.78 2.05 0 2.83L4 21.41c.39.39.9.59 1.41.59.51 0 1.02-.2 1.41-.59l7.78-7.78 2.81-2.81c.8-.78.8-2.07 0-2.86zM5.41 20L4 18.59l7.72-7.72 1.47 1.35L5.41 20z\"/>\n",
              "  </svg>\n",
              "      </button>\n",
              "      \n",
              "  <style>\n",
              "    .colab-df-container {\n",
              "      display:flex;\n",
              "      flex-wrap:wrap;\n",
              "      gap: 12px;\n",
              "    }\n",
              "\n",
              "    .colab-df-convert {\n",
              "      background-color: #E8F0FE;\n",
              "      border: none;\n",
              "      border-radius: 50%;\n",
              "      cursor: pointer;\n",
              "      display: none;\n",
              "      fill: #1967D2;\n",
              "      height: 32px;\n",
              "      padding: 0 0 0 0;\n",
              "      width: 32px;\n",
              "    }\n",
              "\n",
              "    .colab-df-convert:hover {\n",
              "      background-color: #E2EBFA;\n",
              "      box-shadow: 0px 1px 2px rgba(60, 64, 67, 0.3), 0px 1px 3px 1px rgba(60, 64, 67, 0.15);\n",
              "      fill: #174EA6;\n",
              "    }\n",
              "\n",
              "    [theme=dark] .colab-df-convert {\n",
              "      background-color: #3B4455;\n",
              "      fill: #D2E3FC;\n",
              "    }\n",
              "\n",
              "    [theme=dark] .colab-df-convert:hover {\n",
              "      background-color: #434B5C;\n",
              "      box-shadow: 0px 1px 3px 1px rgba(0, 0, 0, 0.15);\n",
              "      filter: drop-shadow(0px 1px 2px rgba(0, 0, 0, 0.3));\n",
              "      fill: #FFFFFF;\n",
              "    }\n",
              "  </style>\n",
              "\n",
              "      <script>\n",
              "        const buttonEl =\n",
              "          document.querySelector('#df-3f6eafaf-d86e-4ba4-8170-90f869bb91d4 button.colab-df-convert');\n",
              "        buttonEl.style.display =\n",
              "          google.colab.kernel.accessAllowed ? 'block' : 'none';\n",
              "\n",
              "        async function convertToInteractive(key) {\n",
              "          const element = document.querySelector('#df-3f6eafaf-d86e-4ba4-8170-90f869bb91d4');\n",
              "          const dataTable =\n",
              "            await google.colab.kernel.invokeFunction('convertToInteractive',\n",
              "                                                     [key], {});\n",
              "          if (!dataTable) return;\n",
              "\n",
              "          const docLinkHtml = 'Like what you see? Visit the ' +\n",
              "            '<a target=\"_blank\" href=https://colab.research.google.com/notebooks/data_table.ipynb>data table notebook</a>'\n",
              "            + ' to learn more about interactive tables.';\n",
              "          element.innerHTML = '';\n",
              "          dataTable['output_type'] = 'display_data';\n",
              "          await google.colab.output.renderOutput(dataTable, element);\n",
              "          const docLink = document.createElement('div');\n",
              "          docLink.innerHTML = docLinkHtml;\n",
              "          element.appendChild(docLink);\n",
              "        }\n",
              "      </script>\n",
              "    </div>\n",
              "  </div>\n",
              "  "
            ]
          },
          "metadata": {},
          "execution_count": 138
        }
      ],
      "source": [
        "data.head(20)"
      ]
    },
    {
      "cell_type": "code",
      "execution_count": null,
      "metadata": {
        "colab": {
          "base_uri": "https://localhost:8080/"
        },
        "id": "jsbmgZ9sqfxy",
        "outputId": "9ca8e0a5-a68a-4f53-ab8a-b0fd61b17440"
      },
      "outputs": [
        {
          "output_type": "execute_result",
          "data": {
            "text/plain": [
              "petrol      213687\n",
              "gasoline     97814\n",
              "lpg           5254\n",
              "cng            561\n",
              "hybrid         230\n",
              "other          169\n",
              "electric        86\n",
              "Name: fuel_type, dtype: int64"
            ]
          },
          "metadata": {},
          "execution_count": 139
        }
      ],
      "source": [
        "# найдем уникальные значения столбца \"тип топлива\"\n",
        "data.fuel_type.value_counts()"
      ]
    },
    {
      "cell_type": "code",
      "execution_count": null,
      "metadata": {
        "id": "37fSQj5eqpNa"
      },
      "outputs": [],
      "source": [
        "# переименуем gasoline в petrol, поскольку оба означают \"бензин\"\n",
        "data['fuel_type'] = data['fuel_type'].replace(['gasoline'],'petrol')"
      ]
    },
    {
      "cell_type": "code",
      "execution_count": null,
      "metadata": {
        "id": "Fj6gr_kyq4wh"
      },
      "outputs": [],
      "source": [
        "# заполним пропуски значением other.\n",
        "data.fuel_type.fillna('other', inplace=True)"
      ]
    },
    {
      "cell_type": "code",
      "execution_count": null,
      "metadata": {
        "colab": {
          "base_uri": "https://localhost:8080/"
        },
        "id": "R8QbVaXxq5wC",
        "outputId": "9752b337-eca5-44c2-8bdb-ee9f910f6c38"
      },
      "outputs": [
        {
          "output_type": "execute_result",
          "data": {
            "text/plain": [
              "sedan          90870\n",
              "small          79059\n",
              "wagon          64683\n",
              "bus            28570\n",
              "convertible    20010\n",
              "coupe          15995\n",
              "suv            11896\n",
              "other           3136\n",
              "Name: vehicle_type, dtype: int64"
            ]
          },
          "metadata": {},
          "execution_count": 142
        }
      ],
      "source": [
        "# найдем уникальные значения в столбце \"тип кузова\"\n",
        "data.vehicle_type.value_counts()"
      ]
    },
    {
      "cell_type": "code",
      "execution_count": null,
      "metadata": {
        "id": "kEt3mnNKq59C"
      },
      "outputs": [],
      "source": [
        "# поскольку нет возможности узнать тип кузова, заменим пропуски в этом столбце на other\n",
        "data.vehicle_type.fillna('other', inplace=True)"
      ]
    },
    {
      "cell_type": "code",
      "execution_count": null,
      "metadata": {
        "colab": {
          "base_uri": "https://localhost:8080/"
        },
        "id": "a_dzWkhBq6Ia",
        "outputId": "88a35256-9950-4b56-903b-e366dab9e422"
      },
      "outputs": [
        {
          "output_type": "execute_result",
          "data": {
            "text/plain": [
              "manual    262289\n",
              "auto       65098\n",
              "Name: gearbox, dtype: int64"
            ]
          },
          "metadata": {},
          "execution_count": 144
        }
      ],
      "source": [
        "# найдем уникальные значения стобца \"коробка передач\"\n",
        "data.gearbox.value_counts()"
      ]
    },
    {
      "cell_type": "code",
      "execution_count": null,
      "metadata": {
        "id": "MAvVjOomrola"
      },
      "outputs": [],
      "source": [
        "# заполним пропуски значением \"unknown\"\n",
        "data.gearbox.fillna('unknown', inplace=True)"
      ]
    },
    {
      "cell_type": "code",
      "execution_count": null,
      "metadata": {
        "id": "jEB-9qODstk5"
      },
      "outputs": [],
      "source": [
        "# в столбце \"модель\" и \"не был в ремонте\" тоже заполним пропуски на unknown\n",
        "data.model.fillna('unknown', inplace=True)"
      ]
    },
    {
      "cell_type": "code",
      "execution_count": null,
      "metadata": {
        "id": "kIw7T2Mcsz5p"
      },
      "outputs": [],
      "source": [
        "data.not_repaired.fillna('unknown', inplace=True)"
      ]
    },
    {
      "cell_type": "code",
      "execution_count": null,
      "metadata": {
        "colab": {
          "base_uri": "https://localhost:8080/"
        },
        "id": "tO5X4ehOsldK",
        "outputId": "5ddc982a-6ce0-486c-8a16-83ec6f9f8f39"
      },
      "outputs": [
        {
          "output_type": "execute_result",
          "data": {
            "text/plain": [
              "price                0\n",
              "vehicle_type         0\n",
              "registration_year    0\n",
              "gearbox              0\n",
              "power                0\n",
              "model                0\n",
              "kilometer            0\n",
              "fuel_type            0\n",
              "brand                0\n",
              "not_repaired         0\n",
              "dtype: int64"
            ]
          },
          "metadata": {},
          "execution_count": 148
        }
      ],
      "source": [
        "#проверим пропуски\n",
        "data.isna().sum()"
      ]
    },
    {
      "cell_type": "code",
      "execution_count": null,
      "metadata": {
        "colab": {
          "base_uri": "https://localhost:8080/"
        },
        "id": "uTh0KLaps71x",
        "outputId": "bf97c431-5b0c-4098-df39-0c054c8744df"
      },
      "outputs": [
        {
          "output_type": "execute_result",
          "data": {
            "text/plain": [
              "array([1993, 2011, 2004, 2001, 2008, 1995, 1980, 2014, 1998, 2005, 1910,\n",
              "       2007, 2009, 2002, 2018, 1997, 1990, 2017, 1981, 2003, 2016, 1994,\n",
              "       1991, 1984, 2006, 1999, 2012, 2010, 2000, 1992, 2013, 1996, 1989,\n",
              "       2015, 1985, 1982, 1976, 1983, 1973, 1969, 1971, 1987, 1986, 1988,\n",
              "       1965, 1970, 1945, 1974, 1979, 1955, 1978, 1972, 1968, 1977, 1961,\n",
              "       1960, 1966, 1975, 1963, 1964, 1954, 1958, 1967, 1959, 1956, 1941,\n",
              "       1962, 1929, 1957, 1940, 1949, 1937, 1951, 1953, 2019, 2900, 6000,\n",
              "       1400, 1950, 4000, 1948, 1952, 1200, 1932, 3700, 5000, 1942, 1935,\n",
              "       1933, 1936, 6500, 1923, 1930, 1943, 1934, 1938, 9000, 1000, 1919,\n",
              "       1928, 1931, 1602, 1927, 1947, 1946, 7500, 1944, 1600])"
            ]
          },
          "metadata": {},
          "execution_count": 149
        }
      ],
      "source": [
        "# найдем уникальные значения в столбце \"год регистрации\"\n",
        "data['registration_year'].unique()"
      ]
    },
    {
      "cell_type": "markdown",
      "metadata": {
        "id": "qpmZlFX41P57"
      },
      "source": [
        "поскольку наши данные на 2016 год, удалим все строки с годом после 2016, и, поскольку автомобили до 1900 года это скорее всего аномалии, удалим их тоже"
      ]
    },
    {
      "cell_type": "code",
      "execution_count": null,
      "metadata": {
        "id": "MaMWQgAew4Xs"
      },
      "outputs": [],
      "source": [
        "df = data.loc[(data['registration_year'] <= 2016) & (data['registration_year'] >= 1900)]"
      ]
    },
    {
      "cell_type": "code",
      "execution_count": null,
      "metadata": {
        "colab": {
          "base_uri": "https://localhost:8080/"
        },
        "id": "wsY75J3VyKo6",
        "outputId": "44a0c466-7381-45b6-9c24-e1f01d63e8d1"
      },
      "outputs": [
        {
          "output_type": "execute_result",
          "data": {
            "text/plain": [
              "array([1993, 2011, 2004, 2001, 2008, 1995, 1980, 2014, 1998, 2005, 1910,\n",
              "       2007, 2009, 2002, 1997, 1990, 1981, 2003, 2016, 1994, 1991, 1984,\n",
              "       2006, 1999, 2012, 2010, 2000, 1992, 2013, 1996, 1989, 2015, 1985,\n",
              "       1982, 1976, 1983, 1973, 1969, 1971, 1987, 1986, 1988, 1965, 1970,\n",
              "       1945, 1974, 1979, 1955, 1978, 1972, 1968, 1977, 1961, 1960, 1966,\n",
              "       1975, 1963, 1964, 1954, 1958, 1967, 1959, 1956, 1941, 1962, 1929,\n",
              "       1957, 1940, 1949, 1937, 1951, 1953, 1950, 1948, 1952, 1932, 1942,\n",
              "       1935, 1933, 1936, 1923, 1930, 1943, 1934, 1938, 1919, 1928, 1931,\n",
              "       1927, 1947, 1946, 1944])"
            ]
          },
          "metadata": {},
          "execution_count": 151
        }
      ],
      "source": [
        "df['registration_year'].unique()"
      ]
    },
    {
      "cell_type": "code",
      "execution_count": null,
      "metadata": {
        "colab": {
          "base_uri": "https://localhost:8080/",
          "height": 427
        },
        "id": "KQ-SFEf3zV5A",
        "outputId": "9ec65002-4516-4eef-8aeb-94fc426da6dd"
      },
      "outputs": [
        {
          "output_type": "execute_result",
          "data": {
            "text/plain": [
              "   price vehicle_type  registration_year gearbox  power    model  kilometer  \\\n",
              "0    480        other               1993  manual      0     golf     150000   \n",
              "1  18300        coupe               2011  manual    190  unknown     125000   \n",
              "2   9800          suv               2004    auto    163    grand     125000   \n",
              "3   1500        small               2001  manual     75     golf     150000   \n",
              "4   3600        small               2008  manual     69    fabia      90000   \n",
              "5    650        sedan               1995  manual    102      3er     150000   \n",
              "6   2200  convertible               2004  manual    109  2_reihe     150000   \n",
              "7      0        sedan               1980  manual     50    other      40000   \n",
              "8  14500          bus               2014  manual    125    c_max      30000   \n",
              "9    999        small               1998  manual    101     golf     150000   \n",
              "\n",
              "  fuel_type       brand not_repaired  \n",
              "0    petrol  volkswagen      unknown  \n",
              "1    petrol        audi          yes  \n",
              "2    petrol        jeep      unknown  \n",
              "3    petrol  volkswagen           no  \n",
              "4    petrol       skoda           no  \n",
              "5    petrol         bmw          yes  \n",
              "6    petrol     peugeot           no  \n",
              "7    petrol  volkswagen           no  \n",
              "8    petrol        ford      unknown  \n",
              "9     other  volkswagen      unknown  "
            ],
            "text/html": [
              "\n",
              "  <div id=\"df-2f7fe973-a975-498a-abfc-b647516dd340\">\n",
              "    <div class=\"colab-df-container\">\n",
              "      <div>\n",
              "<style scoped>\n",
              "    .dataframe tbody tr th:only-of-type {\n",
              "        vertical-align: middle;\n",
              "    }\n",
              "\n",
              "    .dataframe tbody tr th {\n",
              "        vertical-align: top;\n",
              "    }\n",
              "\n",
              "    .dataframe thead th {\n",
              "        text-align: right;\n",
              "    }\n",
              "</style>\n",
              "<table border=\"1\" class=\"dataframe\">\n",
              "  <thead>\n",
              "    <tr style=\"text-align: right;\">\n",
              "      <th></th>\n",
              "      <th>price</th>\n",
              "      <th>vehicle_type</th>\n",
              "      <th>registration_year</th>\n",
              "      <th>gearbox</th>\n",
              "      <th>power</th>\n",
              "      <th>model</th>\n",
              "      <th>kilometer</th>\n",
              "      <th>fuel_type</th>\n",
              "      <th>brand</th>\n",
              "      <th>not_repaired</th>\n",
              "    </tr>\n",
              "  </thead>\n",
              "  <tbody>\n",
              "    <tr>\n",
              "      <th>0</th>\n",
              "      <td>480</td>\n",
              "      <td>other</td>\n",
              "      <td>1993</td>\n",
              "      <td>manual</td>\n",
              "      <td>0</td>\n",
              "      <td>golf</td>\n",
              "      <td>150000</td>\n",
              "      <td>petrol</td>\n",
              "      <td>volkswagen</td>\n",
              "      <td>unknown</td>\n",
              "    </tr>\n",
              "    <tr>\n",
              "      <th>1</th>\n",
              "      <td>18300</td>\n",
              "      <td>coupe</td>\n",
              "      <td>2011</td>\n",
              "      <td>manual</td>\n",
              "      <td>190</td>\n",
              "      <td>unknown</td>\n",
              "      <td>125000</td>\n",
              "      <td>petrol</td>\n",
              "      <td>audi</td>\n",
              "      <td>yes</td>\n",
              "    </tr>\n",
              "    <tr>\n",
              "      <th>2</th>\n",
              "      <td>9800</td>\n",
              "      <td>suv</td>\n",
              "      <td>2004</td>\n",
              "      <td>auto</td>\n",
              "      <td>163</td>\n",
              "      <td>grand</td>\n",
              "      <td>125000</td>\n",
              "      <td>petrol</td>\n",
              "      <td>jeep</td>\n",
              "      <td>unknown</td>\n",
              "    </tr>\n",
              "    <tr>\n",
              "      <th>3</th>\n",
              "      <td>1500</td>\n",
              "      <td>small</td>\n",
              "      <td>2001</td>\n",
              "      <td>manual</td>\n",
              "      <td>75</td>\n",
              "      <td>golf</td>\n",
              "      <td>150000</td>\n",
              "      <td>petrol</td>\n",
              "      <td>volkswagen</td>\n",
              "      <td>no</td>\n",
              "    </tr>\n",
              "    <tr>\n",
              "      <th>4</th>\n",
              "      <td>3600</td>\n",
              "      <td>small</td>\n",
              "      <td>2008</td>\n",
              "      <td>manual</td>\n",
              "      <td>69</td>\n",
              "      <td>fabia</td>\n",
              "      <td>90000</td>\n",
              "      <td>petrol</td>\n",
              "      <td>skoda</td>\n",
              "      <td>no</td>\n",
              "    </tr>\n",
              "    <tr>\n",
              "      <th>5</th>\n",
              "      <td>650</td>\n",
              "      <td>sedan</td>\n",
              "      <td>1995</td>\n",
              "      <td>manual</td>\n",
              "      <td>102</td>\n",
              "      <td>3er</td>\n",
              "      <td>150000</td>\n",
              "      <td>petrol</td>\n",
              "      <td>bmw</td>\n",
              "      <td>yes</td>\n",
              "    </tr>\n",
              "    <tr>\n",
              "      <th>6</th>\n",
              "      <td>2200</td>\n",
              "      <td>convertible</td>\n",
              "      <td>2004</td>\n",
              "      <td>manual</td>\n",
              "      <td>109</td>\n",
              "      <td>2_reihe</td>\n",
              "      <td>150000</td>\n",
              "      <td>petrol</td>\n",
              "      <td>peugeot</td>\n",
              "      <td>no</td>\n",
              "    </tr>\n",
              "    <tr>\n",
              "      <th>7</th>\n",
              "      <td>0</td>\n",
              "      <td>sedan</td>\n",
              "      <td>1980</td>\n",
              "      <td>manual</td>\n",
              "      <td>50</td>\n",
              "      <td>other</td>\n",
              "      <td>40000</td>\n",
              "      <td>petrol</td>\n",
              "      <td>volkswagen</td>\n",
              "      <td>no</td>\n",
              "    </tr>\n",
              "    <tr>\n",
              "      <th>8</th>\n",
              "      <td>14500</td>\n",
              "      <td>bus</td>\n",
              "      <td>2014</td>\n",
              "      <td>manual</td>\n",
              "      <td>125</td>\n",
              "      <td>c_max</td>\n",
              "      <td>30000</td>\n",
              "      <td>petrol</td>\n",
              "      <td>ford</td>\n",
              "      <td>unknown</td>\n",
              "    </tr>\n",
              "    <tr>\n",
              "      <th>9</th>\n",
              "      <td>999</td>\n",
              "      <td>small</td>\n",
              "      <td>1998</td>\n",
              "      <td>manual</td>\n",
              "      <td>101</td>\n",
              "      <td>golf</td>\n",
              "      <td>150000</td>\n",
              "      <td>other</td>\n",
              "      <td>volkswagen</td>\n",
              "      <td>unknown</td>\n",
              "    </tr>\n",
              "  </tbody>\n",
              "</table>\n",
              "</div>\n",
              "      <button class=\"colab-df-convert\" onclick=\"convertToInteractive('df-2f7fe973-a975-498a-abfc-b647516dd340')\"\n",
              "              title=\"Convert this dataframe to an interactive table.\"\n",
              "              style=\"display:none;\">\n",
              "        \n",
              "  <svg xmlns=\"http://www.w3.org/2000/svg\" height=\"24px\"viewBox=\"0 0 24 24\"\n",
              "       width=\"24px\">\n",
              "    <path d=\"M0 0h24v24H0V0z\" fill=\"none\"/>\n",
              "    <path d=\"M18.56 5.44l.94 2.06.94-2.06 2.06-.94-2.06-.94-.94-2.06-.94 2.06-2.06.94zm-11 1L8.5 8.5l.94-2.06 2.06-.94-2.06-.94L8.5 2.5l-.94 2.06-2.06.94zm10 10l.94 2.06.94-2.06 2.06-.94-2.06-.94-.94-2.06-.94 2.06-2.06.94z\"/><path d=\"M17.41 7.96l-1.37-1.37c-.4-.4-.92-.59-1.43-.59-.52 0-1.04.2-1.43.59L10.3 9.45l-7.72 7.72c-.78.78-.78 2.05 0 2.83L4 21.41c.39.39.9.59 1.41.59.51 0 1.02-.2 1.41-.59l7.78-7.78 2.81-2.81c.8-.78.8-2.07 0-2.86zM5.41 20L4 18.59l7.72-7.72 1.47 1.35L5.41 20z\"/>\n",
              "  </svg>\n",
              "      </button>\n",
              "      \n",
              "  <style>\n",
              "    .colab-df-container {\n",
              "      display:flex;\n",
              "      flex-wrap:wrap;\n",
              "      gap: 12px;\n",
              "    }\n",
              "\n",
              "    .colab-df-convert {\n",
              "      background-color: #E8F0FE;\n",
              "      border: none;\n",
              "      border-radius: 50%;\n",
              "      cursor: pointer;\n",
              "      display: none;\n",
              "      fill: #1967D2;\n",
              "      height: 32px;\n",
              "      padding: 0 0 0 0;\n",
              "      width: 32px;\n",
              "    }\n",
              "\n",
              "    .colab-df-convert:hover {\n",
              "      background-color: #E2EBFA;\n",
              "      box-shadow: 0px 1px 2px rgba(60, 64, 67, 0.3), 0px 1px 3px 1px rgba(60, 64, 67, 0.15);\n",
              "      fill: #174EA6;\n",
              "    }\n",
              "\n",
              "    [theme=dark] .colab-df-convert {\n",
              "      background-color: #3B4455;\n",
              "      fill: #D2E3FC;\n",
              "    }\n",
              "\n",
              "    [theme=dark] .colab-df-convert:hover {\n",
              "      background-color: #434B5C;\n",
              "      box-shadow: 0px 1px 3px 1px rgba(0, 0, 0, 0.15);\n",
              "      filter: drop-shadow(0px 1px 2px rgba(0, 0, 0, 0.3));\n",
              "      fill: #FFFFFF;\n",
              "    }\n",
              "  </style>\n",
              "\n",
              "      <script>\n",
              "        const buttonEl =\n",
              "          document.querySelector('#df-2f7fe973-a975-498a-abfc-b647516dd340 button.colab-df-convert');\n",
              "        buttonEl.style.display =\n",
              "          google.colab.kernel.accessAllowed ? 'block' : 'none';\n",
              "\n",
              "        async function convertToInteractive(key) {\n",
              "          const element = document.querySelector('#df-2f7fe973-a975-498a-abfc-b647516dd340');\n",
              "          const dataTable =\n",
              "            await google.colab.kernel.invokeFunction('convertToInteractive',\n",
              "                                                     [key], {});\n",
              "          if (!dataTable) return;\n",
              "\n",
              "          const docLinkHtml = 'Like what you see? Visit the ' +\n",
              "            '<a target=\"_blank\" href=https://colab.research.google.com/notebooks/data_table.ipynb>data table notebook</a>'\n",
              "            + ' to learn more about interactive tables.';\n",
              "          element.innerHTML = '';\n",
              "          dataTable['output_type'] = 'display_data';\n",
              "          await google.colab.output.renderOutput(dataTable, element);\n",
              "          const docLink = document.createElement('div');\n",
              "          docLink.innerHTML = docLinkHtml;\n",
              "          element.appendChild(docLink);\n",
              "        }\n",
              "      </script>\n",
              "    </div>\n",
              "  </div>\n",
              "  "
            ]
          },
          "metadata": {},
          "execution_count": 152
        }
      ],
      "source": [
        "# выведем данные\n",
        "df.head(10)"
      ]
    },
    {
      "cell_type": "code",
      "execution_count": null,
      "metadata": {
        "colab": {
          "base_uri": "https://localhost:8080/"
        },
        "id": "SVzlgAZcuR75",
        "outputId": "a26f82e1-560f-4832-9f81-d4b5907975e8"
      },
      "outputs": [
        {
          "output_type": "execute_result",
          "data": {
            "text/plain": [
              "0       27732\n",
              "75      22234\n",
              "60      14739\n",
              "150     13922\n",
              "101     12496\n",
              "        ...  \n",
              "851         1\n",
              "1339        1\n",
              "1056        1\n",
              "1999        1\n",
              "1241        1\n",
              "Name: power, Length: 691, dtype: int64"
            ]
          },
          "metadata": {},
          "execution_count": 153
        }
      ],
      "source": [
        "# найдем уникальные значения в столбце \"мощность\"\n",
        "df.power.value_counts()"
      ]
    },
    {
      "cell_type": "code",
      "execution_count": null,
      "metadata": {
        "colab": {
          "base_uri": "https://localhost:8080/",
          "height": 283
        },
        "id": "Fepdm-G646zP",
        "outputId": "a591fc6d-4248-425f-886c-1fb7cfa0caf3"
      },
      "outputs": [
        {
          "output_type": "execute_result",
          "data": {
            "text/plain": [
              "<matplotlib.axes._subplots.AxesSubplot at 0x7f2f2e494610>"
            ]
          },
          "metadata": {},
          "execution_count": 154
        },
        {
          "output_type": "display_data",
          "data": {
            "text/plain": [
              "<Figure size 432x288 with 1 Axes>"
            ],
            "image/png": "[encoded data removed]"
          },
          "metadata": {
            "needs_background": "light"
          }
        }
      ],
      "source": [
        "df.power.hist()"
      ]
    },
    {
      "cell_type": "code",
      "execution_count": null,
      "metadata": {
        "id": "_lHrnXvAXa6f"
      },
      "outputs": [],
      "source": [
        "# удалим аномалии - скорость больше 700 лошадиных сил\n",
        "df = df.loc[df['power'] <= 700]\n"
      ]
    },
    {
      "cell_type": "code",
      "execution_count": null,
      "metadata": {
        "id": "eHH75V85XbP-"
      },
      "outputs": [],
      "source": [
        "# заменим нули медианой \n",
        "power_med = df['power'].median()"
      ]
    },
    {
      "cell_type": "code",
      "execution_count": null,
      "metadata": {
        "id": "mFtN1ljUM4f7",
        "colab": {
          "base_uri": "https://localhost:8080/"
        },
        "outputId": "327c20a1-178f-4354-b0eb-25fdc79661fd"
      },
      "outputs": [
        {
          "output_type": "stream",
          "name": "stderr",
          "text": [
            "/usr/local/lib/python3.7/dist-packages/ipykernel_launcher.py:1: SettingWithCopyWarning: \n",
            "A value is trying to be set on a copy of a slice from a DataFrame.\n",
            "Try using .loc[row_indexer,col_indexer] = value instead\n",
            "\n",
            "See the caveats in the documentation: https://pandas.pydata.org/pandas-docs/stable/user_guide/indexing.html#returning-a-view-versus-a-copy\n",
            "  \"\"\"Entry point for launching an IPython kernel.\n"
          ]
        }
      ],
      "source": [
        "df['power'] = df['power'].replace(0, power_med)"
      ]
    },
    {
      "cell_type": "code",
      "execution_count": null,
      "metadata": {
        "colab": {
          "base_uri": "https://localhost:8080/",
          "height": 283
        },
        "id": "fatmNP7B1tsV",
        "outputId": "8aff9028-dfb5-4e99-f98b-ee05c425d5e6"
      },
      "outputs": [
        {
          "output_type": "execute_result",
          "data": {
            "text/plain": [
              "<matplotlib.axes._subplots.AxesSubplot at 0x7f2f2ddc6050>"
            ]
          },
          "metadata": {},
          "execution_count": 158
        },
        {
          "output_type": "display_data",
          "data": {
            "text/plain": [
              "<Figure size 432x288 with 1 Axes>"
            ],
            "image/png": "[encoded data removed]"
          },
          "metadata": {
            "needs_background": "light"
          }
        }
      ],
      "source": [
        "df.power.hist()"
      ]
    },
    {
      "cell_type": "code",
      "execution_count": null,
      "metadata": {
        "colab": {
          "base_uri": "https://localhost:8080/"
        },
        "id": "Gw-r21Jv1-qd",
        "outputId": "713b8fd3-f11d-42d1-df3f-28aefea11835"
      },
      "outputs": [
        {
          "output_type": "execute_result",
          "data": {
            "text/plain": [
              "0        7565\n",
              "500      5061\n",
              "1500     4863\n",
              "1200     4127\n",
              "2500     4085\n",
              "         ... \n",
              "5377        1\n",
              "3021        1\n",
              "1368        1\n",
              "11080       1\n",
              "10985       1\n",
              "Name: price, Length: 3651, dtype: int64"
            ]
          },
          "metadata": {},
          "execution_count": 159
        }
      ],
      "source": [
        "# проверим на аномалии значения столбца \"цена\"\n",
        "df.price.value_counts()"
      ]
    },
    {
      "cell_type": "code",
      "execution_count": null,
      "metadata": {
        "colab": {
          "base_uri": "https://localhost:8080/",
          "height": 283
        },
        "id": "EwN1YCQ6QuaS",
        "outputId": "022d62f5-08ff-4f95-eb98-026b54bdaf04"
      },
      "outputs": [
        {
          "output_type": "execute_result",
          "data": {
            "text/plain": [
              "<matplotlib.axes._subplots.AxesSubplot at 0x7f2f2dcfc190>"
            ]
          },
          "metadata": {},
          "execution_count": 160
        },
        {
          "output_type": "display_data",
          "data": {
            "text/plain": [
              "<Figure size 432x288 with 1 Axes>"
            ],
            "image/png": "[encoded data removed]"
          },
          "metadata": {
            "needs_background": "light"
          }
        }
      ],
      "source": [
        "df.price.hist()"
      ]
    },
    {
      "cell_type": "code",
      "execution_count": null,
      "metadata": {
        "id": "gMh8FA3P2CEt"
      },
      "outputs": [],
      "source": [
        "# нулевых значений не так много. удалим их \n",
        "df = df.loc[df['price'] > 0]"
      ]
    },
    {
      "cell_type": "code",
      "execution_count": null,
      "metadata": {
        "colab": {
          "base_uri": "https://localhost:8080/"
        },
        "id": "q8X98TCmOty-",
        "outputId": "62109904-ba2c-4cfe-ee46-95bb9289cdfc"
      },
      "outputs": [
        {
          "output_type": "execute_result",
          "data": {
            "text/plain": [
              "500      5061\n",
              "1500     4863\n",
              "1200     4127\n",
              "2500     4085\n",
              "1000     4050\n",
              "         ... \n",
              "17159       1\n",
              "3089        1\n",
              "6235        1\n",
              "1379        1\n",
              "10985       1\n",
              "Name: price, Length: 3650, dtype: int64"
            ]
          },
          "metadata": {},
          "execution_count": 162
        }
      ],
      "source": [
        "df.price.value_counts()"
      ]
    },
    {
      "cell_type": "code",
      "execution_count": null,
      "metadata": {
        "colab": {
          "base_uri": "https://localhost:8080/",
          "height": 270
        },
        "id": "rWA8j-JyQVrx",
        "outputId": "dc3e0de8-941e-4c8c-c9c4-2d3c3dfb4280"
      },
      "outputs": [
        {
          "output_type": "execute_result",
          "data": {
            "text/plain": [
              "   price vehicle_type  registration_year gearbox  power    model  kilometer  \\\n",
              "0    480        other               1993  manual    105     golf     150000   \n",
              "1  18300        coupe               2011  manual    190  unknown     125000   \n",
              "2   9800          suv               2004    auto    163    grand     125000   \n",
              "3   1500        small               2001  manual     75     golf     150000   \n",
              "4   3600        small               2008  manual     69    fabia      90000   \n",
              "\n",
              "  fuel_type       brand not_repaired  \n",
              "0    petrol  volkswagen      unknown  \n",
              "1    petrol        audi          yes  \n",
              "2    petrol        jeep      unknown  \n",
              "3    petrol  volkswagen           no  \n",
              "4    petrol       skoda           no  "
            ],
            "text/html": [
              "\n",
              "  <div id=\"df-1d91ffcd-293b-4ee1-a30a-cfbeb233fa7e\">\n",
              "    <div class=\"colab-df-container\">\n",
              "      <div>\n",
              "<style scoped>\n",
              "    .dataframe tbody tr th:only-of-type {\n",
              "        vertical-align: middle;\n",
              "    }\n",
              "\n",
              "    .dataframe tbody tr th {\n",
              "        vertical-align: top;\n",
              "    }\n",
              "\n",
              "    .dataframe thead th {\n",
              "        text-align: right;\n",
              "    }\n",
              "</style>\n",
              "<table border=\"1\" class=\"dataframe\">\n",
              "  <thead>\n",
              "    <tr style=\"text-align: right;\">\n",
              "      <th></th>\n",
              "      <th>price</th>\n",
              "      <th>vehicle_type</th>\n",
              "      <th>registration_year</th>\n",
              "      <th>gearbox</th>\n",
              "      <th>power</th>\n",
              "      <th>model</th>\n",
              "      <th>kilometer</th>\n",
              "      <th>fuel_type</th>\n",
              "      <th>brand</th>\n",
              "      <th>not_repaired</th>\n",
              "    </tr>\n",
              "  </thead>\n",
              "  <tbody>\n",
              "    <tr>\n",
              "      <th>0</th>\n",
              "      <td>480</td>\n",
              "      <td>other</td>\n",
              "      <td>1993</td>\n",
              "      <td>manual</td>\n",
              "      <td>105</td>\n",
              "      <td>golf</td>\n",
              "      <td>150000</td>\n",
              "      <td>petrol</td>\n",
              "      <td>volkswagen</td>\n",
              "      <td>unknown</td>\n",
              "    </tr>\n",
              "    <tr>\n",
              "      <th>1</th>\n",
              "      <td>18300</td>\n",
              "      <td>coupe</td>\n",
              "      <td>2011</td>\n",
              "      <td>manual</td>\n",
              "      <td>190</td>\n",
              "      <td>unknown</td>\n",
              "      <td>125000</td>\n",
              "      <td>petrol</td>\n",
              "      <td>audi</td>\n",
              "      <td>yes</td>\n",
              "    </tr>\n",
              "    <tr>\n",
              "      <th>2</th>\n",
              "      <td>9800</td>\n",
              "      <td>suv</td>\n",
              "      <td>2004</td>\n",
              "      <td>auto</td>\n",
              "      <td>163</td>\n",
              "      <td>grand</td>\n",
              "      <td>125000</td>\n",
              "      <td>petrol</td>\n",
              "      <td>jeep</td>\n",
              "      <td>unknown</td>\n",
              "    </tr>\n",
              "    <tr>\n",
              "      <th>3</th>\n",
              "      <td>1500</td>\n",
              "      <td>small</td>\n",
              "      <td>2001</td>\n",
              "      <td>manual</td>\n",
              "      <td>75</td>\n",
              "      <td>golf</td>\n",
              "      <td>150000</td>\n",
              "      <td>petrol</td>\n",
              "      <td>volkswagen</td>\n",
              "      <td>no</td>\n",
              "    </tr>\n",
              "    <tr>\n",
              "      <th>4</th>\n",
              "      <td>3600</td>\n",
              "      <td>small</td>\n",
              "      <td>2008</td>\n",
              "      <td>manual</td>\n",
              "      <td>69</td>\n",
              "      <td>fabia</td>\n",
              "      <td>90000</td>\n",
              "      <td>petrol</td>\n",
              "      <td>skoda</td>\n",
              "      <td>no</td>\n",
              "    </tr>\n",
              "  </tbody>\n",
              "</table>\n",
              "</div>\n",
              "      <button class=\"colab-df-convert\" onclick=\"convertToInteractive('df-1d91ffcd-293b-4ee1-a30a-cfbeb233fa7e')\"\n",
              "              title=\"Convert this dataframe to an interactive table.\"\n",
              "              style=\"display:none;\">\n",
              "        \n",
              "  <svg xmlns=\"http://www.w3.org/2000/svg\" height=\"24px\"viewBox=\"0 0 24 24\"\n",
              "       width=\"24px\">\n",
              "    <path d=\"M0 0h24v24H0V0z\" fill=\"none\"/>\n",
              "    <path d=\"M18.56 5.44l.94 2.06.94-2.06 2.06-.94-2.06-.94-.94-2.06-.94 2.06-2.06.94zm-11 1L8.5 8.5l.94-2.06 2.06-.94-2.06-.94L8.5 2.5l-.94 2.06-2.06.94zm10 10l.94 2.06.94-2.06 2.06-.94-2.06-.94-.94-2.06-.94 2.06-2.06.94z\"/><path d=\"M17.41 7.96l-1.37-1.37c-.4-.4-.92-.59-1.43-.59-.52 0-1.04.2-1.43.59L10.3 9.45l-7.72 7.72c-.78.78-.78 2.05 0 2.83L4 21.41c.39.39.9.59 1.41.59.51 0 1.02-.2 1.41-.59l7.78-7.78 2.81-2.81c.8-.78.8-2.07 0-2.86zM5.41 20L4 18.59l7.72-7.72 1.47 1.35L5.41 20z\"/>\n",
              "  </svg>\n",
              "      </button>\n",
              "      \n",
              "  <style>\n",
              "    .colab-df-container {\n",
              "      display:flex;\n",
              "      flex-wrap:wrap;\n",
              "      gap: 12px;\n",
              "    }\n",
              "\n",
              "    .colab-df-convert {\n",
              "      background-color: #E8F0FE;\n",
              "      border: none;\n",
              "      border-radius: 50%;\n",
              "      cursor: pointer;\n",
              "      display: none;\n",
              "      fill: #1967D2;\n",
              "      height: 32px;\n",
              "      padding: 0 0 0 0;\n",
              "      width: 32px;\n",
              "    }\n",
              "\n",
              "    .colab-df-convert:hover {\n",
              "      background-color: #E2EBFA;\n",
              "      box-shadow: 0px 1px 2px rgba(60, 64, 67, 0.3), 0px 1px 3px 1px rgba(60, 64, 67, 0.15);\n",
              "      fill: #174EA6;\n",
              "    }\n",
              "\n",
              "    [theme=dark] .colab-df-convert {\n",
              "      background-color: #3B4455;\n",
              "      fill: #D2E3FC;\n",
              "    }\n",
              "\n",
              "    [theme=dark] .colab-df-convert:hover {\n",
              "      background-color: #434B5C;\n",
              "      box-shadow: 0px 1px 3px 1px rgba(0, 0, 0, 0.15);\n",
              "      filter: drop-shadow(0px 1px 2px rgba(0, 0, 0, 0.3));\n",
              "      fill: #FFFFFF;\n",
              "    }\n",
              "  </style>\n",
              "\n",
              "      <script>\n",
              "        const buttonEl =\n",
              "          document.querySelector('#df-1d91ffcd-293b-4ee1-a30a-cfbeb233fa7e button.colab-df-convert');\n",
              "        buttonEl.style.display =\n",
              "          google.colab.kernel.accessAllowed ? 'block' : 'none';\n",
              "\n",
              "        async function convertToInteractive(key) {\n",
              "          const element = document.querySelector('#df-1d91ffcd-293b-4ee1-a30a-cfbeb233fa7e');\n",
              "          const dataTable =\n",
              "            await google.colab.kernel.invokeFunction('convertToInteractive',\n",
              "                                                     [key], {});\n",
              "          if (!dataTable) return;\n",
              "\n",
              "          const docLinkHtml = 'Like what you see? Visit the ' +\n",
              "            '<a target=\"_blank\" href=https://colab.research.google.com/notebooks/data_table.ipynb>data table notebook</a>'\n",
              "            + ' to learn more about interactive tables.';\n",
              "          element.innerHTML = '';\n",
              "          dataTable['output_type'] = 'display_data';\n",
              "          await google.colab.output.renderOutput(dataTable, element);\n",
              "          const docLink = document.createElement('div');\n",
              "          docLink.innerHTML = docLinkHtml;\n",
              "          element.appendChild(docLink);\n",
              "        }\n",
              "      </script>\n",
              "    </div>\n",
              "  </div>\n",
              "  "
            ]
          },
          "metadata": {},
          "execution_count": 163
        }
      ],
      "source": [
        "df.head()"
      ]
    },
    {
      "cell_type": "code",
      "execution_count": null,
      "metadata": {
        "colab": {
          "base_uri": "https://localhost:8080/",
          "height": 335
        },
        "id": "wyrD0FlnRraW",
        "outputId": "6ac019ef-9325-4d4e-f0ad-eae0b9b065e7"
      },
      "outputs": [
        {
          "output_type": "stream",
          "name": "stderr",
          "text": [
            "/usr/local/lib/python3.7/dist-packages/seaborn/distributions.py:2619: FutureWarning: `distplot` is a deprecated function and will be removed in a future version. Please adapt your code to use either `displot` (a figure-level function with similar flexibility) or `histplot` (an axes-level function for histograms).\n",
            "  warnings.warn(msg, FutureWarning)\n"
          ]
        },
        {
          "output_type": "display_data",
          "data": {
            "text/plain": [
              "<Figure size 432x288 with 1 Axes>"
            ],
            "image/png": "[encoded data removed]"
          },
          "metadata": {
            "needs_background": "light"
          }
        }
      ],
      "source": [
        "sns_plot = sns.distplot(df['price'])\n",
        "fig = sns_plot.get_figure()"
      ]
    },
    {
      "cell_type": "code",
      "execution_count": null,
      "metadata": {
        "colab": {
          "base_uri": "https://localhost:8080/"
        },
        "id": "0fo3dZmh9fZk",
        "outputId": "07539357-a9b4-4407-810f-82529368a9b1"
      },
      "outputs": [
        {
          "output_type": "execute_result",
          "data": {
            "text/plain": [
              "42531"
            ]
          },
          "metadata": {},
          "execution_count": 165
        }
      ],
      "source": [
        "# проверим данные на дубликаты\n",
        "df.duplicated().sum()"
      ]
    },
    {
      "cell_type": "code",
      "execution_count": null,
      "metadata": {
        "colab": {
          "base_uri": "https://localhost:8080/"
        },
        "id": "BABxExh_-OsL",
        "outputId": "528f56b7-1a05-4e34-d703-16d900be4d33"
      },
      "outputs": [
        {
          "output_type": "execute_result",
          "data": {
            "text/plain": [
              "0"
            ]
          },
          "metadata": {},
          "execution_count": 166
        }
      ],
      "source": [
        "#удалим дубликаты(с удалением старых индексов и формированием новых)\n",
        "df = df.drop_duplicates().reset_index(drop=True)\n",
        "df.duplicated().sum()#проверим"
      ]
    },
    {
      "cell_type": "code",
      "execution_count": null,
      "metadata": {
        "id": "UwD9i6x_571L"
      },
      "outputs": [],
      "source": [
        "# #переведем категориальные значения столбцов в количественные\n",
        "# data_ohe = pd.get_dummies(df, drop_first=True)\n",
        "# data_ohe.head()"
      ]
    },
    {
      "cell_type": "markdown",
      "metadata": {
        "id": "Z1mB0ANaY7Zt"
      },
      "source": [
        "<div class=\"alert alert-block alert-success\">\n",
        "<b>Успех:</b> Для линейных моделей OHE отлично подойдет 👍 Для других стоит использовать порядковое кодирование\n",
        "</div>"
      ]
    },
    {
      "cell_type": "markdown",
      "metadata": {
        "id": "ixFKpV-N3tUh"
      },
      "source": [
        "## Вывод 1.\n",
        "\n",
        "В этом разделе мы произвели предобработку данных. На входе мы получили таблицу с более чем 350 тыс. строк и 16 столбцами. Мы перевели названия столбцов в более удобочитаемый нижний и змеиный регистр, удалили неинформативные столбцы, заполнили пропуски, избавились от аномалий. Удалили дубликаты и перевели категориальные значения столбцов в количественные. В итоге у нас образовалась таблица в 281 тыс. строк и 309 столбцов."
      ]
    },
    {
      "cell_type": "markdown",
      "metadata": {
        "id": "M1XfvyoCY7Zt"
      },
      "source": [
        "<div class=\"alert alert-block alert-success\">\n",
        "<b>Успех:</b> С аномальными значениями и пропусками успешно справились 👍\n",
        "</div>"
      ]
    },
    {
      "cell_type": "markdown",
      "metadata": {
        "id": "5OgmwMBqfvd9"
      },
      "source": [
        "## Обучение моделей"
      ]
    },
    {
      "cell_type": "code",
      "source": [
        "#переведем категориальные значения столбцов в количественные\n",
        "data_ohe = pd.get_dummies(df, drop_first=True)\n",
        "data_ohe.head()"
      ],
      "metadata": {
        "colab": {
          "base_uri": "https://localhost:8080/",
          "height": 300
        },
        "id": "pO1i47ZYbbVM",
        "outputId": "0ca38655-ee02-4d1c-cfaa-8f72ce6383b4"
      },
      "execution_count": null,
      "outputs": [
        {
          "output_type": "execute_result",
          "data": {
            "text/plain": [
              "   price  registration_year  power  kilometer  vehicle_type_convertible  \\\n",
              "0    480               1993    105     150000                         0   \n",
              "1  18300               2011    190     125000                         0   \n",
              "2   9800               2004    163     125000                         0   \n",
              "3   1500               2001     75     150000                         0   \n",
              "4   3600               2008     69      90000                         0   \n",
              "\n",
              "   vehicle_type_coupe  vehicle_type_other  vehicle_type_sedan  \\\n",
              "0                   0                   1                   0   \n",
              "1                   1                   0                   0   \n",
              "2                   0                   0                   0   \n",
              "3                   0                   0                   0   \n",
              "4                   0                   0                   0   \n",
              "\n",
              "   vehicle_type_small  vehicle_type_suv  ...  brand_smart  \\\n",
              "0                   0                 0  ...            0   \n",
              "1                   0                 0  ...            0   \n",
              "2                   0                 1  ...            0   \n",
              "3                   1                 0  ...            0   \n",
              "4                   1                 0  ...            0   \n",
              "\n",
              "   brand_sonstige_autos  brand_subaru  brand_suzuki  brand_toyota  \\\n",
              "0                     0             0             0             0   \n",
              "1                     0             0             0             0   \n",
              "2                     0             0             0             0   \n",
              "3                     0             0             0             0   \n",
              "4                     0             0             0             0   \n",
              "\n",
              "   brand_trabant  brand_volkswagen  brand_volvo  not_repaired_unknown  \\\n",
              "0              0                 1            0                     1   \n",
              "1              0                 0            0                     0   \n",
              "2              0                 0            0                     1   \n",
              "3              0                 1            0                     0   \n",
              "4              0                 0            0                     0   \n",
              "\n",
              "   not_repaired_yes  \n",
              "0                 0  \n",
              "1                 1  \n",
              "2                 0  \n",
              "3                 0  \n",
              "4                 0  \n",
              "\n",
              "[5 rows x 309 columns]"
            ],
            "text/html": [
              "\n",
              "  <div id=\"df-6d83fa0e-7e46-46e1-b0c5-d2ba07eb8245\">\n",
              "    <div class=\"colab-df-container\">\n",
              "      <div>\n",
              "<style scoped>\n",
              "    .dataframe tbody tr th:only-of-type {\n",
              "        vertical-align: middle;\n",
              "    }\n",
              "\n",
              "    .dataframe tbody tr th {\n",
              "        vertical-align: top;\n",
              "    }\n",
              "\n",
              "    .dataframe thead th {\n",
              "        text-align: right;\n",
              "    }\n",
              "</style>\n",
              "<table border=\"1\" class=\"dataframe\">\n",
              "  <thead>\n",
              "    <tr style=\"text-align: right;\">\n",
              "      <th></th>\n",
              "      <th>price</th>\n",
              "      <th>registration_year</th>\n",
              "      <th>power</th>\n",
              "      <th>kilometer</th>\n",
              "      <th>vehicle_type_convertible</th>\n",
              "      <th>vehicle_type_coupe</th>\n",
              "      <th>vehicle_type_other</th>\n",
              "      <th>vehicle_type_sedan</th>\n",
              "      <th>vehicle_type_small</th>\n",
              "      <th>vehicle_type_suv</th>\n",
              "      <th>...</th>\n",
              "      <th>brand_smart</th>\n",
              "      <th>brand_sonstige_autos</th>\n",
              "      <th>brand_subaru</th>\n",
              "      <th>brand_suzuki</th>\n",
              "      <th>brand_toyota</th>\n",
              "      <th>brand_trabant</th>\n",
              "      <th>brand_volkswagen</th>\n",
              "      <th>brand_volvo</th>\n",
              "      <th>not_repaired_unknown</th>\n",
              "      <th>not_repaired_yes</th>\n",
              "    </tr>\n",
              "  </thead>\n",
              "  <tbody>\n",
              "    <tr>\n",
              "      <th>0</th>\n",
              "      <td>480</td>\n",
              "      <td>1993</td>\n",
              "      <td>105</td>\n",
              "      <td>150000</td>\n",
              "      <td>0</td>\n",
              "      <td>0</td>\n",
              "      <td>1</td>\n",
              "      <td>0</td>\n",
              "      <td>0</td>\n",
              "      <td>0</td>\n",
              "      <td>...</td>\n",
              "      <td>0</td>\n",
              "      <td>0</td>\n",
              "      <td>0</td>\n",
              "      <td>0</td>\n",
              "      <td>0</td>\n",
              "      <td>0</td>\n",
              "      <td>1</td>\n",
              "      <td>0</td>\n",
              "      <td>1</td>\n",
              "      <td>0</td>\n",
              "    </tr>\n",
              "    <tr>\n",
              "      <th>1</th>\n",
              "      <td>18300</td>\n",
              "      <td>2011</td>\n",
              "      <td>190</td>\n",
              "      <td>125000</td>\n",
              "      <td>0</td>\n",
              "      <td>1</td>\n",
              "      <td>0</td>\n",
              "      <td>0</td>\n",
              "      <td>0</td>\n",
              "      <td>0</td>\n",
              "      <td>...</td>\n",
              "      <td>0</td>\n",
              "      <td>0</td>\n",
              "      <td>0</td>\n",
              "      <td>0</td>\n",
              "      <td>0</td>\n",
              "      <td>0</td>\n",
              "      <td>0</td>\n",
              "      <td>0</td>\n",
              "      <td>0</td>\n",
              "      <td>1</td>\n",
              "    </tr>\n",
              "    <tr>\n",
              "      <th>2</th>\n",
              "      <td>9800</td>\n",
              "      <td>2004</td>\n",
              "      <td>163</td>\n",
              "      <td>125000</td>\n",
              "      <td>0</td>\n",
              "      <td>0</td>\n",
              "      <td>0</td>\n",
              "      <td>0</td>\n",
              "      <td>0</td>\n",
              "      <td>1</td>\n",
              "      <td>...</td>\n",
              "      <td>0</td>\n",
              "      <td>0</td>\n",
              "      <td>0</td>\n",
              "      <td>0</td>\n",
              "      <td>0</td>\n",
              "      <td>0</td>\n",
              "      <td>0</td>\n",
              "      <td>0</td>\n",
              "      <td>1</td>\n",
              "      <td>0</td>\n",
              "    </tr>\n",
              "    <tr>\n",
              "      <th>3</th>\n",
              "      <td>1500</td>\n",
              "      <td>2001</td>\n",
              "      <td>75</td>\n",
              "      <td>150000</td>\n",
              "      <td>0</td>\n",
              "      <td>0</td>\n",
              "      <td>0</td>\n",
              "      <td>0</td>\n",
              "      <td>1</td>\n",
              "      <td>0</td>\n",
              "      <td>...</td>\n",
              "      <td>0</td>\n",
              "      <td>0</td>\n",
              "      <td>0</td>\n",
              "      <td>0</td>\n",
              "      <td>0</td>\n",
              "      <td>0</td>\n",
              "      <td>1</td>\n",
              "      <td>0</td>\n",
              "      <td>0</td>\n",
              "      <td>0</td>\n",
              "    </tr>\n",
              "    <tr>\n",
              "      <th>4</th>\n",
              "      <td>3600</td>\n",
              "      <td>2008</td>\n",
              "      <td>69</td>\n",
              "      <td>90000</td>\n",
              "      <td>0</td>\n",
              "      <td>0</td>\n",
              "      <td>0</td>\n",
              "      <td>0</td>\n",
              "      <td>1</td>\n",
              "      <td>0</td>\n",
              "      <td>...</td>\n",
              "      <td>0</td>\n",
              "      <td>0</td>\n",
              "      <td>0</td>\n",
              "      <td>0</td>\n",
              "      <td>0</td>\n",
              "      <td>0</td>\n",
              "      <td>0</td>\n",
              "      <td>0</td>\n",
              "      <td>0</td>\n",
              "      <td>0</td>\n",
              "    </tr>\n",
              "  </tbody>\n",
              "</table>\n",
              "<p>5 rows × 309 columns</p>\n",
              "</div>\n",
              "      <button class=\"colab-df-convert\" onclick=\"convertToInteractive('df-6d83fa0e-7e46-46e1-b0c5-d2ba07eb8245')\"\n",
              "              title=\"Convert this dataframe to an interactive table.\"\n",
              "              style=\"display:none;\">\n",
              "        \n",
              "  <svg xmlns=\"http://www.w3.org/2000/svg\" height=\"24px\"viewBox=\"0 0 24 24\"\n",
              "       width=\"24px\">\n",
              "    <path d=\"M0 0h24v24H0V0z\" fill=\"none\"/>\n",
              "    <path d=\"M18.56 5.44l.94 2.06.94-2.06 2.06-.94-2.06-.94-.94-2.06-.94 2.06-2.06.94zm-11 1L8.5 8.5l.94-2.06 2.06-.94-2.06-.94L8.5 2.5l-.94 2.06-2.06.94zm10 10l.94 2.06.94-2.06 2.06-.94-2.06-.94-.94-2.06-.94 2.06-2.06.94z\"/><path d=\"M17.41 7.96l-1.37-1.37c-.4-.4-.92-.59-1.43-.59-.52 0-1.04.2-1.43.59L10.3 9.45l-7.72 7.72c-.78.78-.78 2.05 0 2.83L4 21.41c.39.39.9.59 1.41.59.51 0 1.02-.2 1.41-.59l7.78-7.78 2.81-2.81c.8-.78.8-2.07 0-2.86zM5.41 20L4 18.59l7.72-7.72 1.47 1.35L5.41 20z\"/>\n",
              "  </svg>\n",
              "      </button>\n",
              "      \n",
              "  <style>\n",
              "    .colab-df-container {\n",
              "      display:flex;\n",
              "      flex-wrap:wrap;\n",
              "      gap: 12px;\n",
              "    }\n",
              "\n",
              "    .colab-df-convert {\n",
              "      background-color: #E8F0FE;\n",
              "      border: none;\n",
              "      border-radius: 50%;\n",
              "      cursor: pointer;\n",
              "      display: none;\n",
              "      fill: #1967D2;\n",
              "      height: 32px;\n",
              "      padding: 0 0 0 0;\n",
              "      width: 32px;\n",
              "    }\n",
              "\n",
              "    .colab-df-convert:hover {\n",
              "      background-color: #E2EBFA;\n",
              "      box-shadow: 0px 1px 2px rgba(60, 64, 67, 0.3), 0px 1px 3px 1px rgba(60, 64, 67, 0.15);\n",
              "      fill: #174EA6;\n",
              "    }\n",
              "\n",
              "    [theme=dark] .colab-df-convert {\n",
              "      background-color: #3B4455;\n",
              "      fill: #D2E3FC;\n",
              "    }\n",
              "\n",
              "    [theme=dark] .colab-df-convert:hover {\n",
              "      background-color: #434B5C;\n",
              "      box-shadow: 0px 1px 3px 1px rgba(0, 0, 0, 0.15);\n",
              "      filter: drop-shadow(0px 1px 2px rgba(0, 0, 0, 0.3));\n",
              "      fill: #FFFFFF;\n",
              "    }\n",
              "  </style>\n",
              "\n",
              "      <script>\n",
              "        const buttonEl =\n",
              "          document.querySelector('#df-6d83fa0e-7e46-46e1-b0c5-d2ba07eb8245 button.colab-df-convert');\n",
              "        buttonEl.style.display =\n",
              "          google.colab.kernel.accessAllowed ? 'block' : 'none';\n",
              "\n",
              "        async function convertToInteractive(key) {\n",
              "          const element = document.querySelector('#df-6d83fa0e-7e46-46e1-b0c5-d2ba07eb8245');\n",
              "          const dataTable =\n",
              "            await google.colab.kernel.invokeFunction('convertToInteractive',\n",
              "                                                     [key], {});\n",
              "          if (!dataTable) return;\n",
              "\n",
              "          const docLinkHtml = 'Like what you see? Visit the ' +\n",
              "            '<a target=\"_blank\" href=https://colab.research.google.com/notebooks/data_table.ipynb>data table notebook</a>'\n",
              "            + ' to learn more about interactive tables.';\n",
              "          element.innerHTML = '';\n",
              "          dataTable['output_type'] = 'display_data';\n",
              "          await google.colab.output.renderOutput(dataTable, element);\n",
              "          const docLink = document.createElement('div');\n",
              "          docLink.innerHTML = docLinkHtml;\n",
              "          element.appendChild(docLink);\n",
              "        }\n",
              "      </script>\n",
              "    </div>\n",
              "  </div>\n",
              "  "
            ]
          },
          "metadata": {},
          "execution_count": 169
        }
      ]
    },
    {
      "cell_type": "code",
      "source": [
        "#разделим выборки на обучающую и тестовую\n",
        "target_ohe = data_ohe['price']\n",
        "features_ohe = data_ohe.drop('price', axis=1)\n",
        "features_train_ohe, features_test_ohe, target_train_ohe, target_test_ohe = train_test_split(features_ohe, target_ohe, test_size=0.25, random_state=12345) \n",
        "\n",
        "\n",
        "print(features_train_ohe.shape)\n",
        "print(features_test_ohe.shape)"
      ],
      "metadata": {
        "colab": {
          "base_uri": "https://localhost:8080/"
        },
        "id": "ld3k6YLBbfw3",
        "outputId": "a6418491-f3a4-4ccd-9994-04907d4daade"
      },
      "execution_count": null,
      "outputs": [
        {
          "output_type": "stream",
          "name": "stdout",
          "text": [
            "(206619, 308)\n",
            "(68874, 308)\n"
          ]
        }
      ]
    },
    {
      "cell_type": "markdown",
      "metadata": {
        "id": "IQc06-YHY7Zu"
      },
      "source": [
        "<div class=\"alert alert-block alert-success\">\n",
        "<b>Успех:</b> Данные поделены верно, пропорции выбраны адекватные 👍\n",
        "</div>"
      ]
    },
    {
      "cell_type": "code",
      "execution_count": null,
      "metadata": {
        "colab": {
          "base_uri": "https://localhost:8080/"
        },
        "id": "jO1M0Q6oeHbw",
        "outputId": "2c4f9992-ef3f-4f0c-f8d6-3d5872de5d54"
      },
      "outputs": [
        {
          "output_type": "execute_result",
          "data": {
            "text/plain": [
              "['price',\n",
              " 'registration_year',\n",
              " 'power',\n",
              " 'kilometer',\n",
              " 'vehicle_type_convertible',\n",
              " 'vehicle_type_coupe',\n",
              " 'vehicle_type_other',\n",
              " 'vehicle_type_sedan',\n",
              " 'vehicle_type_small',\n",
              " 'vehicle_type_suv',\n",
              " 'vehicle_type_wagon',\n",
              " 'gearbox_manual',\n",
              " 'gearbox_unknown',\n",
              " 'model_145',\n",
              " 'model_147',\n",
              " 'model_156',\n",
              " 'model_159',\n",
              " 'model_1_reihe',\n",
              " 'model_1er',\n",
              " 'model_200',\n",
              " 'model_2_reihe',\n",
              " 'model_300c',\n",
              " 'model_3_reihe',\n",
              " 'model_3er',\n",
              " 'model_4_reihe',\n",
              " 'model_500',\n",
              " 'model_5_reihe',\n",
              " 'model_5er',\n",
              " 'model_601',\n",
              " 'model_6_reihe',\n",
              " 'model_6er',\n",
              " 'model_7er',\n",
              " 'model_80',\n",
              " 'model_850',\n",
              " 'model_90',\n",
              " 'model_900',\n",
              " 'model_9000',\n",
              " 'model_911',\n",
              " 'model_a1',\n",
              " 'model_a2',\n",
              " 'model_a3',\n",
              " 'model_a4',\n",
              " 'model_a5',\n",
              " 'model_a6',\n",
              " 'model_a8',\n",
              " 'model_a_klasse',\n",
              " 'model_accord',\n",
              " 'model_agila',\n",
              " 'model_alhambra',\n",
              " 'model_almera',\n",
              " 'model_altea',\n",
              " 'model_amarok',\n",
              " 'model_antara',\n",
              " 'model_arosa',\n",
              " 'model_astra',\n",
              " 'model_auris',\n",
              " 'model_avensis',\n",
              " 'model_aveo',\n",
              " 'model_aygo',\n",
              " 'model_b_klasse',\n",
              " 'model_b_max',\n",
              " 'model_beetle',\n",
              " 'model_berlingo',\n",
              " 'model_bora',\n",
              " 'model_boxster',\n",
              " 'model_bravo',\n",
              " 'model_c1',\n",
              " 'model_c2',\n",
              " 'model_c3',\n",
              " 'model_c4',\n",
              " 'model_c5',\n",
              " 'model_c_klasse',\n",
              " 'model_c_max',\n",
              " 'model_c_reihe',\n",
              " 'model_caddy',\n",
              " 'model_calibra',\n",
              " 'model_captiva',\n",
              " 'model_carisma',\n",
              " 'model_carnival',\n",
              " 'model_cayenne',\n",
              " 'model_cc',\n",
              " 'model_ceed',\n",
              " 'model_charade',\n",
              " 'model_cherokee',\n",
              " 'model_citigo',\n",
              " 'model_civic',\n",
              " 'model_cl',\n",
              " 'model_clio',\n",
              " 'model_clk',\n",
              " 'model_clubman',\n",
              " 'model_colt',\n",
              " 'model_combo',\n",
              " 'model_cooper',\n",
              " 'model_cordoba',\n",
              " 'model_corolla',\n",
              " 'model_corsa',\n",
              " 'model_cr_reihe',\n",
              " 'model_croma',\n",
              " 'model_crossfire',\n",
              " 'model_cuore',\n",
              " 'model_cx_reihe',\n",
              " 'model_defender',\n",
              " 'model_delta',\n",
              " 'model_discovery',\n",
              " 'model_doblo',\n",
              " 'model_ducato',\n",
              " 'model_duster',\n",
              " 'model_e_klasse',\n",
              " 'model_elefantino',\n",
              " 'model_eos',\n",
              " 'model_escort',\n",
              " 'model_espace',\n",
              " 'model_exeo',\n",
              " 'model_fabia',\n",
              " 'model_fiesta',\n",
              " 'model_focus',\n",
              " 'model_forester',\n",
              " 'model_forfour',\n",
              " 'model_fortwo',\n",
              " 'model_fox',\n",
              " 'model_freelander',\n",
              " 'model_fusion',\n",
              " 'model_g_klasse',\n",
              " 'model_galant',\n",
              " 'model_galaxy',\n",
              " 'model_getz',\n",
              " 'model_gl',\n",
              " 'model_glk',\n",
              " 'model_golf',\n",
              " 'model_grand',\n",
              " 'model_i3',\n",
              " 'model_i_reihe',\n",
              " 'model_ibiza',\n",
              " 'model_impreza',\n",
              " 'model_insignia',\n",
              " 'model_jazz',\n",
              " 'model_jetta',\n",
              " 'model_jimny',\n",
              " 'model_juke',\n",
              " 'model_justy',\n",
              " 'model_ka',\n",
              " 'model_kadett',\n",
              " 'model_kaefer',\n",
              " 'model_kalina',\n",
              " 'model_kalos',\n",
              " 'model_kangoo',\n",
              " 'model_kappa',\n",
              " 'model_kuga',\n",
              " 'model_laguna',\n",
              " 'model_lancer',\n",
              " 'model_lanos',\n",
              " 'model_legacy',\n",
              " 'model_leon',\n",
              " 'model_lodgy',\n",
              " 'model_logan',\n",
              " 'model_lupo',\n",
              " 'model_lybra',\n",
              " 'model_m_klasse',\n",
              " 'model_m_reihe',\n",
              " 'model_materia',\n",
              " 'model_matiz',\n",
              " 'model_megane',\n",
              " 'model_meriva',\n",
              " 'model_micra',\n",
              " 'model_mii',\n",
              " 'model_modus',\n",
              " 'model_mondeo',\n",
              " 'model_move',\n",
              " 'model_musa',\n",
              " 'model_mustang',\n",
              " 'model_mx_reihe',\n",
              " 'model_navara',\n",
              " 'model_niva',\n",
              " 'model_note',\n",
              " 'model_nubira',\n",
              " 'model_octavia',\n",
              " 'model_omega',\n",
              " 'model_one',\n",
              " 'model_other',\n",
              " 'model_outlander',\n",
              " 'model_pajero',\n",
              " 'model_panda',\n",
              " 'model_passat',\n",
              " 'model_phaeton',\n",
              " 'model_picanto',\n",
              " 'model_polo',\n",
              " 'model_primera',\n",
              " 'model_ptcruiser',\n",
              " 'model_punto',\n",
              " 'model_q3',\n",
              " 'model_q5',\n",
              " 'model_q7',\n",
              " 'model_qashqai',\n",
              " 'model_r19',\n",
              " 'model_range_rover',\n",
              " 'model_range_rover_evoque',\n",
              " 'model_range_rover_sport',\n",
              " 'model_rangerover',\n",
              " 'model_rav',\n",
              " 'model_rio',\n",
              " 'model_roadster',\n",
              " 'model_roomster',\n",
              " 'model_rx_reihe',\n",
              " 'model_s60',\n",
              " 'model_s_klasse',\n",
              " 'model_s_max',\n",
              " 'model_s_type',\n",
              " 'model_samara',\n",
              " 'model_sandero',\n",
              " 'model_santa',\n",
              " 'model_scenic',\n",
              " 'model_scirocco',\n",
              " 'model_seicento',\n",
              " 'model_serie_1',\n",
              " 'model_serie_2',\n",
              " 'model_serie_3',\n",
              " 'model_sharan',\n",
              " 'model_signum',\n",
              " 'model_sirion',\n",
              " 'model_sl',\n",
              " 'model_slk',\n",
              " 'model_sorento',\n",
              " 'model_spark',\n",
              " 'model_spider',\n",
              " 'model_sportage',\n",
              " 'model_sprinter',\n",
              " 'model_stilo',\n",
              " 'model_superb',\n",
              " 'model_swift',\n",
              " 'model_terios',\n",
              " 'model_tigra',\n",
              " 'model_tiguan',\n",
              " 'model_toledo',\n",
              " 'model_touareg',\n",
              " 'model_touran',\n",
              " 'model_transit',\n",
              " 'model_transporter',\n",
              " 'model_tt',\n",
              " 'model_tucson',\n",
              " 'model_twingo',\n",
              " 'model_unknown',\n",
              " 'model_up',\n",
              " 'model_v40',\n",
              " 'model_v50',\n",
              " 'model_v60',\n",
              " 'model_v70',\n",
              " 'model_v_klasse',\n",
              " 'model_vectra',\n",
              " 'model_verso',\n",
              " 'model_viano',\n",
              " 'model_vito',\n",
              " 'model_vivaro',\n",
              " 'model_voyager',\n",
              " 'model_wrangler',\n",
              " 'model_x_reihe',\n",
              " 'model_x_trail',\n",
              " 'model_x_type',\n",
              " 'model_xc_reihe',\n",
              " 'model_yaris',\n",
              " 'model_yeti',\n",
              " 'model_ypsilon',\n",
              " 'model_z_reihe',\n",
              " 'model_zafira',\n",
              " 'fuel_type_electric',\n",
              " 'fuel_type_hybrid',\n",
              " 'fuel_type_lpg',\n",
              " 'fuel_type_other',\n",
              " 'fuel_type_petrol',\n",
              " 'brand_audi',\n",
              " 'brand_bmw',\n",
              " 'brand_chevrolet',\n",
              " 'brand_chrysler',\n",
              " 'brand_citroen',\n",
              " 'brand_dacia',\n",
              " 'brand_daewoo',\n",
              " 'brand_daihatsu',\n",
              " 'brand_fiat',\n",
              " 'brand_ford',\n",
              " 'brand_honda',\n",
              " 'brand_hyundai',\n",
              " 'brand_jaguar',\n",
              " 'brand_jeep',\n",
              " 'brand_kia',\n",
              " 'brand_lada',\n",
              " 'brand_lancia',\n",
              " 'brand_land_rover',\n",
              " 'brand_mazda',\n",
              " 'brand_mercedes_benz',\n",
              " 'brand_mini',\n",
              " 'brand_mitsubishi',\n",
              " 'brand_nissan',\n",
              " 'brand_opel',\n",
              " 'brand_peugeot',\n",
              " 'brand_porsche',\n",
              " 'brand_renault',\n",
              " 'brand_rover',\n",
              " 'brand_saab',\n",
              " 'brand_seat',\n",
              " 'brand_skoda',\n",
              " 'brand_smart',\n",
              " 'brand_sonstige_autos',\n",
              " 'brand_subaru',\n",
              " 'brand_suzuki',\n",
              " 'brand_toyota',\n",
              " 'brand_trabant',\n",
              " 'brand_volkswagen',\n",
              " 'brand_volvo',\n",
              " 'not_repaired_unknown',\n",
              " 'not_repaired_yes']"
            ]
          },
          "metadata": {},
          "execution_count": 171
        }
      ],
      "source": [
        "list(data_ohe.columns.values)"
      ]
    },
    {
      "cell_type": "code",
      "execution_count": null,
      "metadata": {
        "colab": {
          "base_uri": "https://localhost:8080/"
        },
        "id": "-iCnvHWafgJM",
        "outputId": "9f9e3f4a-bf37-44af-f610-3dd2f6baa564"
      },
      "outputs": [
        {
          "output_type": "stream",
          "name": "stdout",
          "text": [
            "['registration_year', 'power', 'kilometer', 'vehicle_type_convertible', 'vehicle_type_coupe', 'vehicle_type_other', 'vehicle_type_sedan', 'vehicle_type_small', 'vehicle_type_suv', 'vehicle_type_wagon', 'gearbox_manual', 'gearbox_unknown', 'model_145', 'model_147', 'model_156', 'model_159', 'model_1_reihe', 'model_1er', 'model_200', 'model_2_reihe', 'model_300c', 'model_3_reihe', 'model_3er', 'model_4_reihe', 'model_500', 'model_5_reihe', 'model_5er', 'model_601', 'model_6_reihe', 'model_6er', 'model_7er', 'model_80', 'model_850', 'model_90', 'model_900', 'model_9000', 'model_911', 'model_a1', 'model_a2', 'model_a3', 'model_a4', 'model_a5', 'model_a6', 'model_a8', 'model_a_klasse', 'model_accord', 'model_agila', 'model_alhambra', 'model_almera', 'model_altea', 'model_amarok', 'model_antara', 'model_arosa', 'model_astra', 'model_auris', 'model_avensis', 'model_aveo', 'model_aygo', 'model_b_klasse', 'model_b_max', 'model_beetle', 'model_berlingo', 'model_bora', 'model_boxster', 'model_bravo', 'model_c1', 'model_c2', 'model_c3', 'model_c4', 'model_c5', 'model_c_klasse', 'model_c_max', 'model_c_reihe', 'model_caddy', 'model_calibra', 'model_captiva', 'model_carisma', 'model_carnival', 'model_cayenne', 'model_cc', 'model_ceed', 'model_charade', 'model_cherokee', 'model_citigo', 'model_civic', 'model_cl', 'model_clio', 'model_clk', 'model_clubman', 'model_colt', 'model_combo', 'model_cooper', 'model_cordoba', 'model_corolla', 'model_corsa', 'model_cr_reihe', 'model_croma', 'model_crossfire', 'model_cuore', 'model_cx_reihe', 'model_defender', 'model_delta', 'model_discovery', 'model_doblo', 'model_ducato', 'model_duster', 'model_e_klasse', 'model_elefantino', 'model_eos', 'model_escort', 'model_espace', 'model_exeo', 'model_fabia', 'model_fiesta', 'model_focus', 'model_forester', 'model_forfour', 'model_fortwo', 'model_fox', 'model_freelander', 'model_fusion', 'model_g_klasse', 'model_galant', 'model_galaxy', 'model_getz', 'model_gl', 'model_glk', 'model_golf', 'model_grand', 'model_i3', 'model_i_reihe', 'model_ibiza', 'model_impreza', 'model_insignia', 'model_jazz', 'model_jetta', 'model_jimny', 'model_juke', 'model_justy', 'model_ka', 'model_kadett', 'model_kaefer', 'model_kalina', 'model_kalos', 'model_kangoo', 'model_kappa', 'model_kuga', 'model_laguna', 'model_lancer', 'model_lanos', 'model_legacy', 'model_leon', 'model_lodgy', 'model_logan', 'model_lupo', 'model_lybra', 'model_m_klasse', 'model_m_reihe', 'model_materia', 'model_matiz', 'model_megane', 'model_meriva', 'model_micra', 'model_mii', 'model_modus', 'model_mondeo', 'model_move', 'model_musa', 'model_mustang', 'model_mx_reihe', 'model_navara', 'model_niva', 'model_note', 'model_nubira', 'model_octavia', 'model_omega', 'model_one', 'model_other', 'model_outlander', 'model_pajero', 'model_panda', 'model_passat', 'model_phaeton', 'model_picanto', 'model_polo', 'model_primera', 'model_ptcruiser', 'model_punto', 'model_q3', 'model_q5', 'model_q7', 'model_qashqai', 'model_r19', 'model_range_rover', 'model_range_rover_evoque', 'model_range_rover_sport', 'model_rangerover', 'model_rav', 'model_rio', 'model_roadster', 'model_roomster', 'model_rx_reihe', 'model_s60', 'model_s_klasse', 'model_s_max', 'model_s_type', 'model_samara', 'model_sandero', 'model_santa', 'model_scenic', 'model_scirocco', 'model_seicento', 'model_serie_1', 'model_serie_2', 'model_serie_3', 'model_sharan', 'model_signum', 'model_sirion', 'model_sl', 'model_slk', 'model_sorento', 'model_spark', 'model_spider', 'model_sportage', 'model_sprinter', 'model_stilo', 'model_superb', 'model_swift', 'model_terios', 'model_tigra', 'model_tiguan', 'model_toledo', 'model_touareg', 'model_touran', 'model_transit', 'model_transporter', 'model_tt', 'model_tucson', 'model_twingo', 'model_unknown', 'model_up', 'model_v40', 'model_v50', 'model_v60', 'model_v70', 'model_v_klasse', 'model_vectra', 'model_verso', 'model_viano', 'model_vito', 'model_vivaro', 'model_voyager', 'model_wrangler', 'model_x_reihe', 'model_x_trail', 'model_x_type', 'model_xc_reihe', 'model_yaris', 'model_yeti', 'model_ypsilon', 'model_z_reihe', 'model_zafira', 'fuel_type_electric', 'fuel_type_hybrid', 'fuel_type_lpg', 'fuel_type_other', 'fuel_type_petrol', 'brand_audi', 'brand_bmw', 'brand_chevrolet', 'brand_chrysler', 'brand_citroen', 'brand_dacia', 'brand_daewoo', 'brand_daihatsu', 'brand_fiat', 'brand_ford', 'brand_honda', 'brand_hyundai', 'brand_jaguar', 'brand_jeep', 'brand_kia', 'brand_lada', 'brand_lancia', 'brand_land_rover', 'brand_mazda', 'brand_mercedes_benz', 'brand_mini', 'brand_mitsubishi', 'brand_nissan', 'brand_opel', 'brand_peugeot', 'brand_porsche', 'brand_renault', 'brand_rover', 'brand_saab', 'brand_seat', 'brand_skoda', 'brand_smart', 'brand_sonstige_autos', 'brand_subaru', 'brand_suzuki', 'brand_toyota', 'brand_trabant', 'brand_volkswagen', 'brand_volvo', 'not_repaired_unknown', 'not_repaired_yes']\n"
          ]
        }
      ],
      "source": [
        "numeric = list(data_ohe)\n",
        "numeric.remove('price')\n",
        "print (numeric)"
      ]
    },
    {
      "cell_type": "code",
      "execution_count": null,
      "metadata": {
        "id": "B-xAMawx7da5"
      },
      "outputs": [],
      "source": [
        "#масштабируем признаки\n",
        "scaler = StandardScaler()\n",
        "scaler.fit(features_train_ohe[numeric])\n",
        "features_train_ohe[numeric] = scaler.transform(features_train_ohe[numeric])\n",
        "features_test_ohe[numeric] = scaler.transform(features_test_ohe[numeric])"
      ]
    },
    {
      "cell_type": "code",
      "execution_count": null,
      "metadata": {
        "colab": {
          "base_uri": "https://localhost:8080/",
          "height": 300
        },
        "id": "ae1-r-e-hwmp",
        "outputId": "682d260a-e83c-4092-e17b-f547b81ef68a"
      },
      "outputs": [
        {
          "output_type": "execute_result",
          "data": {
            "text/plain": [
              "        registration_year     power  kilometer  vehicle_type_convertible  \\\n",
              "125528           0.053151 -0.773714  -0.062361                 -0.262357   \n",
              "56964           -1.266390  0.372860   0.601952                 -0.262357   \n",
              "76197            0.639613  1.978064   0.601952                 -0.262357   \n",
              "154204           1.812539 -1.155905  -3.251064                 -0.262357   \n",
              "272240          -0.386696 -0.582618   0.601952                 -0.262357   \n",
              "\n",
              "        vehicle_type_coupe  vehicle_type_other  vehicle_type_sedan  \\\n",
              "125528           -0.232208           -0.222159            -0.61591   \n",
              "56964             4.306487           -0.222159            -0.61591   \n",
              "76197            -0.232208           -0.222159            -0.61591   \n",
              "154204           -0.232208           -0.222159            -0.61591   \n",
              "272240           -0.232208           -0.222159            -0.61591   \n",
              "\n",
              "        vehicle_type_small  vehicle_type_suv  vehicle_type_wagon  ...  \\\n",
              "125528            1.801739         -0.198965           -0.496005  ...   \n",
              "56964            -0.555019         -0.198965           -0.496005  ...   \n",
              "76197            -0.555019          5.026000           -0.496005  ...   \n",
              "154204            1.801739         -0.198965           -0.496005  ...   \n",
              "272240           -0.555019         -0.198965            2.016107  ...   \n",
              "\n",
              "        brand_smart  brand_sonstige_autos  brand_subaru  brand_suzuki  \\\n",
              "125528    -0.127694             -0.082714     -0.048002      -0.08398   \n",
              "56964     -0.127694             -0.082714     -0.048002      -0.08398   \n",
              "76197     -0.127694             -0.082714     -0.048002      -0.08398   \n",
              "154204    -0.127694             -0.082714     -0.048002      -0.08398   \n",
              "272240    -0.127694             -0.082714     -0.048002      -0.08398   \n",
              "\n",
              "        brand_toyota  brand_trabant  brand_volkswagen  brand_volvo  \\\n",
              "125528     -0.121955      -0.035083         -0.502209    -0.100597   \n",
              "56964      -0.121955      -0.035083         -0.502209    -0.100597   \n",
              "76197      -0.121955      -0.035083          1.991204    -0.100597   \n",
              "154204     -0.121955      -0.035083          1.991204    -0.100597   \n",
              "272240     -0.121955      -0.035083         -0.502209    -0.100597   \n",
              "\n",
              "        not_repaired_unknown  not_repaired_yes  \n",
              "125528             -0.440687         -0.349812  \n",
              "56964              -0.440687         -0.349812  \n",
              "76197              -0.440687         -0.349812  \n",
              "154204             -0.440687         -0.349812  \n",
              "272240             -0.440687          2.858682  \n",
              "\n",
              "[5 rows x 308 columns]"
            ],
            "text/html": [
              "\n",
              "  <div id=\"df-d5521836-339e-4d5d-b2c3-3d69313b943a\">\n",
              "    <div class=\"colab-df-container\">\n",
              "      <div>\n",
              "<style scoped>\n",
              "    .dataframe tbody tr th:only-of-type {\n",
              "        vertical-align: middle;\n",
              "    }\n",
              "\n",
              "    .dataframe tbody tr th {\n",
              "        vertical-align: top;\n",
              "    }\n",
              "\n",
              "    .dataframe thead th {\n",
              "        text-align: right;\n",
              "    }\n",
              "</style>\n",
              "<table border=\"1\" class=\"dataframe\">\n",
              "  <thead>\n",
              "    <tr style=\"text-align: right;\">\n",
              "      <th></th>\n",
              "      <th>registration_year</th>\n",
              "      <th>power</th>\n",
              "      <th>kilometer</th>\n",
              "      <th>vehicle_type_convertible</th>\n",
              "      <th>vehicle_type_coupe</th>\n",
              "      <th>vehicle_type_other</th>\n",
              "      <th>vehicle_type_sedan</th>\n",
              "      <th>vehicle_type_small</th>\n",
              "      <th>vehicle_type_suv</th>\n",
              "      <th>vehicle_type_wagon</th>\n",
              "      <th>...</th>\n",
              "      <th>brand_smart</th>\n",
              "      <th>brand_sonstige_autos</th>\n",
              "      <th>brand_subaru</th>\n",
              "      <th>brand_suzuki</th>\n",
              "      <th>brand_toyota</th>\n",
              "      <th>brand_trabant</th>\n",
              "      <th>brand_volkswagen</th>\n",
              "      <th>brand_volvo</th>\n",
              "      <th>not_repaired_unknown</th>\n",
              "      <th>not_repaired_yes</th>\n",
              "    </tr>\n",
              "  </thead>\n",
              "  <tbody>\n",
              "    <tr>\n",
              "      <th>125528</th>\n",
              "      <td>0.053151</td>\n",
              "      <td>-0.773714</td>\n",
              "      <td>-0.062361</td>\n",
              "      <td>-0.262357</td>\n",
              "      <td>-0.232208</td>\n",
              "      <td>-0.222159</td>\n",
              "      <td>-0.61591</td>\n",
              "      <td>1.801739</td>\n",
              "      <td>-0.198965</td>\n",
              "      <td>-0.496005</td>\n",
              "      <td>...</td>\n",
              "      <td>-0.127694</td>\n",
              "      <td>-0.082714</td>\n",
              "      <td>-0.048002</td>\n",
              "      <td>-0.08398</td>\n",
              "      <td>-0.121955</td>\n",
              "      <td>-0.035083</td>\n",
              "      <td>-0.502209</td>\n",
              "      <td>-0.100597</td>\n",
              "      <td>-0.440687</td>\n",
              "      <td>-0.349812</td>\n",
              "    </tr>\n",
              "    <tr>\n",
              "      <th>56964</th>\n",
              "      <td>-1.266390</td>\n",
              "      <td>0.372860</td>\n",
              "      <td>0.601952</td>\n",
              "      <td>-0.262357</td>\n",
              "      <td>4.306487</td>\n",
              "      <td>-0.222159</td>\n",
              "      <td>-0.61591</td>\n",
              "      <td>-0.555019</td>\n",
              "      <td>-0.198965</td>\n",
              "      <td>-0.496005</td>\n",
              "      <td>...</td>\n",
              "      <td>-0.127694</td>\n",
              "      <td>-0.082714</td>\n",
              "      <td>-0.048002</td>\n",
              "      <td>-0.08398</td>\n",
              "      <td>-0.121955</td>\n",
              "      <td>-0.035083</td>\n",
              "      <td>-0.502209</td>\n",
              "      <td>-0.100597</td>\n",
              "      <td>-0.440687</td>\n",
              "      <td>-0.349812</td>\n",
              "    </tr>\n",
              "    <tr>\n",
              "      <th>76197</th>\n",
              "      <td>0.639613</td>\n",
              "      <td>1.978064</td>\n",
              "      <td>0.601952</td>\n",
              "      <td>-0.262357</td>\n",
              "      <td>-0.232208</td>\n",
              "      <td>-0.222159</td>\n",
              "      <td>-0.61591</td>\n",
              "      <td>-0.555019</td>\n",
              "      <td>5.026000</td>\n",
              "      <td>-0.496005</td>\n",
              "      <td>...</td>\n",
              "      <td>-0.127694</td>\n",
              "      <td>-0.082714</td>\n",
              "      <td>-0.048002</td>\n",
              "      <td>-0.08398</td>\n",
              "      <td>-0.121955</td>\n",
              "      <td>-0.035083</td>\n",
              "      <td>1.991204</td>\n",
              "      <td>-0.100597</td>\n",
              "      <td>-0.440687</td>\n",
              "      <td>-0.349812</td>\n",
              "    </tr>\n",
              "    <tr>\n",
              "      <th>154204</th>\n",
              "      <td>1.812539</td>\n",
              "      <td>-1.155905</td>\n",
              "      <td>-3.251064</td>\n",
              "      <td>-0.262357</td>\n",
              "      <td>-0.232208</td>\n",
              "      <td>-0.222159</td>\n",
              "      <td>-0.61591</td>\n",
              "      <td>1.801739</td>\n",
              "      <td>-0.198965</td>\n",
              "      <td>-0.496005</td>\n",
              "      <td>...</td>\n",
              "      <td>-0.127694</td>\n",
              "      <td>-0.082714</td>\n",
              "      <td>-0.048002</td>\n",
              "      <td>-0.08398</td>\n",
              "      <td>-0.121955</td>\n",
              "      <td>-0.035083</td>\n",
              "      <td>1.991204</td>\n",
              "      <td>-0.100597</td>\n",
              "      <td>-0.440687</td>\n",
              "      <td>-0.349812</td>\n",
              "    </tr>\n",
              "    <tr>\n",
              "      <th>272240</th>\n",
              "      <td>-0.386696</td>\n",
              "      <td>-0.582618</td>\n",
              "      <td>0.601952</td>\n",
              "      <td>-0.262357</td>\n",
              "      <td>-0.232208</td>\n",
              "      <td>-0.222159</td>\n",
              "      <td>-0.61591</td>\n",
              "      <td>-0.555019</td>\n",
              "      <td>-0.198965</td>\n",
              "      <td>2.016107</td>\n",
              "      <td>...</td>\n",
              "      <td>-0.127694</td>\n",
              "      <td>-0.082714</td>\n",
              "      <td>-0.048002</td>\n",
              "      <td>-0.08398</td>\n",
              "      <td>-0.121955</td>\n",
              "      <td>-0.035083</td>\n",
              "      <td>-0.502209</td>\n",
              "      <td>-0.100597</td>\n",
              "      <td>-0.440687</td>\n",
              "      <td>2.858682</td>\n",
              "    </tr>\n",
              "  </tbody>\n",
              "</table>\n",
              "<p>5 rows × 308 columns</p>\n",
              "</div>\n",
              "      <button class=\"colab-df-convert\" onclick=\"convertToInteractive('df-d5521836-339e-4d5d-b2c3-3d69313b943a')\"\n",
              "              title=\"Convert this dataframe to an interactive table.\"\n",
              "              style=\"display:none;\">\n",
              "        \n",
              "  <svg xmlns=\"http://www.w3.org/2000/svg\" height=\"24px\"viewBox=\"0 0 24 24\"\n",
              "       width=\"24px\">\n",
              "    <path d=\"M0 0h24v24H0V0z\" fill=\"none\"/>\n",
              "    <path d=\"M18.56 5.44l.94 2.06.94-2.06 2.06-.94-2.06-.94-.94-2.06-.94 2.06-2.06.94zm-11 1L8.5 8.5l.94-2.06 2.06-.94-2.06-.94L8.5 2.5l-.94 2.06-2.06.94zm10 10l.94 2.06.94-2.06 2.06-.94-2.06-.94-.94-2.06-.94 2.06-2.06.94z\"/><path d=\"M17.41 7.96l-1.37-1.37c-.4-.4-.92-.59-1.43-.59-.52 0-1.04.2-1.43.59L10.3 9.45l-7.72 7.72c-.78.78-.78 2.05 0 2.83L4 21.41c.39.39.9.59 1.41.59.51 0 1.02-.2 1.41-.59l7.78-7.78 2.81-2.81c.8-.78.8-2.07 0-2.86zM5.41 20L4 18.59l7.72-7.72 1.47 1.35L5.41 20z\"/>\n",
              "  </svg>\n",
              "      </button>\n",
              "      \n",
              "  <style>\n",
              "    .colab-df-container {\n",
              "      display:flex;\n",
              "      flex-wrap:wrap;\n",
              "      gap: 12px;\n",
              "    }\n",
              "\n",
              "    .colab-df-convert {\n",
              "      background-color: #E8F0FE;\n",
              "      border: none;\n",
              "      border-radius: 50%;\n",
              "      cursor: pointer;\n",
              "      display: none;\n",
              "      fill: #1967D2;\n",
              "      height: 32px;\n",
              "      padding: 0 0 0 0;\n",
              "      width: 32px;\n",
              "    }\n",
              "\n",
              "    .colab-df-convert:hover {\n",
              "      background-color: #E2EBFA;\n",
              "      box-shadow: 0px 1px 2px rgba(60, 64, 67, 0.3), 0px 1px 3px 1px rgba(60, 64, 67, 0.15);\n",
              "      fill: #174EA6;\n",
              "    }\n",
              "\n",
              "    [theme=dark] .colab-df-convert {\n",
              "      background-color: #3B4455;\n",
              "      fill: #D2E3FC;\n",
              "    }\n",
              "\n",
              "    [theme=dark] .colab-df-convert:hover {\n",
              "      background-color: #434B5C;\n",
              "      box-shadow: 0px 1px 3px 1px rgba(0, 0, 0, 0.15);\n",
              "      filter: drop-shadow(0px 1px 2px rgba(0, 0, 0, 0.3));\n",
              "      fill: #FFFFFF;\n",
              "    }\n",
              "  </style>\n",
              "\n",
              "      <script>\n",
              "        const buttonEl =\n",
              "          document.querySelector('#df-d5521836-339e-4d5d-b2c3-3d69313b943a button.colab-df-convert');\n",
              "        buttonEl.style.display =\n",
              "          google.colab.kernel.accessAllowed ? 'block' : 'none';\n",
              "\n",
              "        async function convertToInteractive(key) {\n",
              "          const element = document.querySelector('#df-d5521836-339e-4d5d-b2c3-3d69313b943a');\n",
              "          const dataTable =\n",
              "            await google.colab.kernel.invokeFunction('convertToInteractive',\n",
              "                                                     [key], {});\n",
              "          if (!dataTable) return;\n",
              "\n",
              "          const docLinkHtml = 'Like what you see? Visit the ' +\n",
              "            '<a target=\"_blank\" href=https://colab.research.google.com/notebooks/data_table.ipynb>data table notebook</a>'\n",
              "            + ' to learn more about interactive tables.';\n",
              "          element.innerHTML = '';\n",
              "          dataTable['output_type'] = 'display_data';\n",
              "          await google.colab.output.renderOutput(dataTable, element);\n",
              "          const docLink = document.createElement('div');\n",
              "          docLink.innerHTML = docLinkHtml;\n",
              "          element.appendChild(docLink);\n",
              "        }\n",
              "      </script>\n",
              "    </div>\n",
              "  </div>\n",
              "  "
            ]
          },
          "metadata": {},
          "execution_count": 174
        }
      ],
      "source": [
        "features_train_ohe.head()"
      ]
    },
    {
      "cell_type": "markdown",
      "metadata": {
        "id": "297d9d5a"
      },
      "source": [
        "<div class=\"alert alert-block alert-success\">\n",
        "<b>Успех:</b> Отлично, признаки масштабированы 👍 Не забыли, что fit нужно делать только на train выборке\n",
        "</div>"
      ]
    },
    {
      "cell_type": "markdown",
      "metadata": {
        "id": "rwuofvwWDVIS"
      },
      "source": [
        "##2.1 Модель линейной регрессии"
      ]
    },
    {
      "cell_type": "code",
      "execution_count": null,
      "metadata": {
        "colab": {
          "base_uri": "https://localhost:8080/"
        },
        "id": "V9OIFIAfiHEA",
        "outputId": "7fae6c47-0347-4dac-8199-316ca6f68688"
      },
      "outputs": [
        {
          "output_type": "stream",
          "name": "stdout",
          "text": [
            "2730.9839974535544\n"
          ]
        }
      ],
      "source": [
        "# обучим модель линейной регрессии\n",
        "model = LinearRegression()\n",
        "model.fit(features_train_ohe, target_train_ohe)\n",
        "#построим предсказания на тренировочной выборке\n",
        "predictions_train_ohe = model.predict(features_train_ohe)\n",
        "#найдем корень из квадратичной средней ошибки (RMSE)\n",
        "rmse = mean_squared_error(target_train_ohe, predictions_train_ohe)**0.5\n",
        "print(rmse)"
      ]
    },
    {
      "cell_type": "markdown",
      "metadata": {
        "id": "pHbxv2wVDe_J"
      },
      "source": [
        "##2.2 Модель решающего дерева"
      ]
    },
    {
      "cell_type": "code",
      "source": [
        "# закодируем признаки с помощью порядкового кодирования\n",
        "enc = OrdinalEncoder()\n",
        "enc.fit(df[['vehicle_type','registration_year', 'gearbox', 'power', \n",
        "            'model', 'kilometer','fuel_type',\n",
        "            'brand', 'not_repaired']])\n",
        "df[['vehicle_type','registration_year', 'gearbox', 'power', \n",
        "            'model', 'kilometer','fuel_type',\n",
        "            'brand', 'not_repaired']] = enc.transform(df[['vehicle_type','registration_year', 'gearbox', 'power', \n",
        "            'model', 'kilometer','fuel_type',\n",
        "            'brand', 'not_repaired']])"
      ],
      "metadata": {
        "id": "gfI0euGbhHvV"
      },
      "execution_count": null,
      "outputs": []
    },
    {
      "cell_type": "code",
      "source": [
        "#разделим выборки на обучающую и тестовую\n",
        "target_oe = df['price']\n",
        "features_oe = df.drop('price', axis=1)\n",
        "features_train_oe, features_test_oe, target_train_oe, target_test_oe = train_test_split(features_oe, target_oe, test_size=0.25, random_state=12345) \n",
        "\n",
        "\n",
        "print(features_train_oe.shape)\n",
        "print(features_test_oe.shape)"
      ],
      "metadata": {
        "colab": {
          "base_uri": "https://localhost:8080/"
        },
        "id": "PuJgJ3LDe9mu",
        "outputId": "16158037-c6ab-4da0-9412-4e1c08081d19"
      },
      "execution_count": null,
      "outputs": [
        {
          "output_type": "stream",
          "name": "stdout",
          "text": [
            "(206619, 9)\n",
            "(68874, 9)\n"
          ]
        }
      ]
    },
    {
      "cell_type": "code",
      "source": [
        "# построим модель для решающего дерева и найдем наилучшие гиперпараметры\n",
        "# найдем лучшие гиперпараметры для глубины дерева\n",
        "for depth in range(3, 20, 3):\n",
        "    model = DecisionTreeRegressor(random_state=12345, max_depth = depth)\n",
        "    model.fit(features_train_oe, target_train_oe)\n",
        "    predictions_train_oe = model.predict(features_train_oe)\n",
        "    rmse = mean_squared_error(target_train_oe, predictions_train_oe)**0.5\n",
        "    print('Глубина:', depth)\n",
        "    print('RMSE для решающего дерева:', rmse)\n",
        "    print('')\n",
        "print()"
      ],
      "metadata": {
        "colab": {
          "base_uri": "https://localhost:8080/"
        },
        "id": "O1FPNvnXicjb",
        "outputId": "480a7b15-b32d-4955-a605-b956e4a14c9b"
      },
      "execution_count": null,
      "outputs": [
        {
          "output_type": "stream",
          "name": "stdout",
          "text": [
            "Глубина: 3\n",
            "RMSE для решающего дерева: 2974.488726687611\n",
            "\n",
            "Глубина: 6\n",
            "RMSE для решающего дерева: 2347.9315992693814\n",
            "\n",
            "Глубина: 9\n",
            "RMSE для решающего дерева: 2044.5694673941925\n",
            "\n",
            "Глубина: 12\n",
            "RMSE для решающего дерева: 1752.4703490376614\n",
            "\n",
            "Глубина: 15\n",
            "RMSE для решающего дерева: 1445.218726403213\n",
            "\n",
            "Глубина: 18\n",
            "RMSE для решающего дерева: 1160.511941004421\n",
            "\n",
            "\n"
          ]
        }
      ]
    },
    {
      "cell_type": "markdown",
      "metadata": {
        "id": "YO7c1txrY7Zw"
      },
      "source": [
        "<div class=\"alert alert-block alert-danger\">\n",
        "<b>Замечание:</b> Для моделей, основанных на деревьях решений, лучше использовать порядковое кодирование (OrdinalEncoder). Это должно ускорить их работу\n",
        "</div>"
      ]
    },
    {
      "cell_type": "markdown",
      "source": [
        "<div class=\"alert alert-block alert-info\">\n",
        "<b>Комментарий студента:</b> исправила, использовав порядковое кодирование\n",
        "</div>"
      ],
      "metadata": {
        "id": "NlalxB-FkpRS"
      }
    },
    {
      "cell_type": "markdown",
      "metadata": {
        "id": "ij6__px_RPDH"
      },
      "source": [
        "Модель склонна к переобучению. Стоит ограничить глубину дерева, например, значением 9."
      ]
    },
    {
      "cell_type": "markdown",
      "metadata": {
        "id": "W7hq8YrIEkFB"
      },
      "source": [
        "##2.3 Модель случайного леса"
      ]
    },
    {
      "cell_type": "code",
      "source": [
        "%%time\n",
        "for est in [100, 500, 1000]:\n",
        "    model = RandomForestRegressor(random_state=12345, \n",
        "                                   n_estimators=est, \n",
        "                                   max_depth=9)\n",
        "    model.fit(features_train_oe, target_train_oe)\n",
        "    predictions_train_oe = model.predict(features_train_oe)\n",
        "    rmse = mean_squared_error(target_train_oe, predictions_train_oe)**0.5\n",
        "    print('Количество деревьев:', est)\n",
        "    print('RMSE для случайного леса:', rmse)\n",
        "    print('')\n",
        "print()"
      ],
      "metadata": {
        "colab": {
          "base_uri": "https://localhost:8080/"
        },
        "id": "EgL3JV7hit6D",
        "outputId": "935334e1-c11c-429e-a114-f5bb29aa5929"
      },
      "execution_count": null,
      "outputs": [
        {
          "output_type": "stream",
          "name": "stdout",
          "text": [
            "Количество деревьев: 100\n",
            "RMSE для случайного леса: 1969.6486605801845\n",
            "\n",
            "Количество деревьев: 500\n",
            "RMSE для случайного леса: 1969.7510142660935\n",
            "\n",
            "Количество деревьев: 1000\n",
            "RMSE для случайного леса: 1969.239500874075\n",
            "\n",
            "\n",
            "CPU times: user 9min 52s, sys: 1.08 s, total: 9min 53s\n",
            "Wall time: 10min 4s\n"
          ]
        }
      ]
    },
    {
      "cell_type": "markdown",
      "metadata": {
        "id": "R5JdeTICENaA"
      },
      "source": [
        "Разница для 100, 500 и 1000 оказалась небольшой. Гораздо большее значение имеет глубина."
      ]
    },
    {
      "cell_type": "markdown",
      "metadata": {
        "id": "3rdiTS8FEYJE"
      },
      "source": [
        "##2.4 LightGBM"
      ]
    },
    {
      "cell_type": "markdown",
      "metadata": {
        "id": "sQr3E8gvWStE"
      },
      "source": [
        "Установим LightGBM и построим модель"
      ]
    },
    {
      "cell_type": "code",
      "execution_count": null,
      "metadata": {
        "colab": {
          "base_uri": "https://localhost:8080/"
        },
        "id": "2uwXRnQCa_6n",
        "outputId": "3c965a42-62ea-4e1c-d07a-d366763b29a3"
      },
      "outputs": [
        {
          "name": "stdout",
          "output_type": "stream",
          "text": [
            "Looking in indexes: https://pypi.org/simple, https://us-python.pkg.dev/colab-wheels/public/simple/\n",
            "Requirement already satisfied: lightgbm in /usr/local/lib/python3.7/dist-packages (2.2.3)\n",
            "Requirement already satisfied: scipy in /usr/local/lib/python3.7/dist-packages (from lightgbm) (1.4.1)\n",
            "Requirement already satisfied: numpy in /usr/local/lib/python3.7/dist-packages (from lightgbm) (1.21.6)\n",
            "Requirement already satisfied: scikit-learn in /usr/local/lib/python3.7/dist-packages (from lightgbm) (1.0.2)\n",
            "Requirement already satisfied: threadpoolctl>=2.0.0 in /usr/local/lib/python3.7/dist-packages (from scikit-learn->lightgbm) (3.1.0)\n",
            "Requirement already satisfied: joblib>=0.11 in /usr/local/lib/python3.7/dist-packages (from scikit-learn->lightgbm) (1.1.0)\n"
          ]
        }
      ],
      "source": [
        "!pip install lightgbm"
      ]
    },
    {
      "cell_type": "code",
      "execution_count": null,
      "metadata": {
        "colab": {
          "base_uri": "https://localhost:8080/"
        },
        "id": "yE78vPl5bALC",
        "outputId": "3f17fe66-f77f-4b13-af9a-ba4582af7616"
      },
      "outputs": [
        {
          "name": "stdout",
          "output_type": "stream",
          "text": [
            "2.2.3\n"
          ]
        }
      ],
      "source": [
        "# check lightgbm version\n",
        "import lightgbm\n",
        "print(lightgbm.__version__)"
      ]
    },
    {
      "cell_type": "code",
      "execution_count": null,
      "metadata": {
        "colab": {
          "base_uri": "https://localhost:8080/"
        },
        "id": "CPF1J8koVFCP",
        "outputId": "a6094c77-2fd6-471d-f347-2e8dab9094ee"
      },
      "outputs": [
        {
          "output_type": "stream",
          "name": "stdout",
          "text": [
            "(206619, 9)\n",
            "(68874, 9)\n"
          ]
        }
      ],
      "source": [
        "# выделим признаки и целевой признак\n",
        "target = df['price']\n",
        "features = df.drop('price', axis=1)\n",
        "\n",
        "# переведем категориальные признаки в тип category, который требуется для LightGBM\n",
        "for c in features.columns:\n",
        "  col_type = features[c].dtype\n",
        "  if col_type == 'object':\n",
        "    features[c] = features[c].astype('category')\n",
        "\n",
        "#разделим выборки на обучающую и тестовую\n",
        "features_train, features_test, target_train, target_test = train_test_split(features, target, test_size=0.25, random_state=12345) \n",
        "\n",
        "# проверим размер выборок\n",
        "print(features_train.shape)\n",
        "print(features_test.shape)"
      ]
    },
    {
      "cell_type": "code",
      "execution_count": null,
      "metadata": {
        "colab": {
          "base_uri": "https://localhost:8080/"
        },
        "id": "UG0ax2qWbwq1",
        "outputId": "d5aadd59-efa1-4de0-9bf2-979e99bda108"
      },
      "outputs": [
        {
          "name": "stdout",
          "output_type": "stream",
          "text": [
            "1618.9836373245057\n"
          ]
        }
      ],
      "source": [
        "# построим модель без подбора гиперпараметров\n",
        "model = lgb.LGBMRegressor(random_state=12345)\n",
        "model.fit(features_train, target_train)\n",
        "predictions_train = model.predict(features_train)\n",
        "rmse = mean_squared_error(target_train, predictions_train)**0.5\n",
        "print(rmse)"
      ]
    },
    {
      "cell_type": "markdown",
      "metadata": {
        "id": "Vr_mi1SGDJao"
      },
      "source": [
        "Найдем наилучшие гиперпараметры для LightGBM"
      ]
    },
    {
      "cell_type": "code",
      "execution_count": null,
      "metadata": {
        "id": "c-nWuGMNb2Sh"
      },
      "outputs": [],
      "source": [
        "param_grid = {'n_estimators': [100, 500, 1000], 'num_leaves': [n for n in range(20, 300, 20)]}"
      ]
    },
    {
      "cell_type": "code",
      "execution_count": null,
      "metadata": {
        "colab": {
          "base_uri": "https://localhost:8080/",
          "height": 1000
        },
        "id": "kj1Wva2Sg0T5",
        "outputId": "68659790-16b0-4adb-cef3-1a70e84e0d84"
      },
      "outputs": [
        {
          "name": "stdout",
          "output_type": "stream",
          "text": [
            "Fitting 3 folds for each of 42 candidates, totalling 126 fits\n",
            "[CV 1/3] END n_estimators=100, num_leaves=20;, score=-1663.643 total time=   3.6s\n",
            "[CV 2/3] END n_estimators=100, num_leaves=20;, score=-1686.140 total time=   1.9s\n",
            "[CV 3/3] END n_estimators=100, num_leaves=20;, score=-1675.559 total time=   1.6s\n",
            "[CV 1/3] END n_estimators=100, num_leaves=40;, score=-1620.572 total time=   1.9s\n",
            "[CV 2/3] END n_estimators=100, num_leaves=40;, score=-1642.571 total time=   1.9s\n",
            "[CV 3/3] END n_estimators=100, num_leaves=40;, score=-1630.839 total time=   1.9s\n",
            "[CV 1/3] END n_estimators=100, num_leaves=60;, score=-1595.915 total time=   2.2s\n",
            "[CV 2/3] END n_estimators=100, num_leaves=60;, score=-1616.485 total time=   2.2s\n",
            "[CV 3/3] END n_estimators=100, num_leaves=60;, score=-1607.147 total time=   2.1s\n",
            "[CV 1/3] END n_estimators=100, num_leaves=80;, score=-1582.735 total time=   2.3s\n",
            "[CV 2/3] END n_estimators=100, num_leaves=80;, score=-1602.011 total time=   2.3s\n",
            "[CV 3/3] END n_estimators=100, num_leaves=80;, score=-1594.405 total time=   2.3s\n",
            "[CV 1/3] END n_estimators=100, num_leaves=100;, score=-1574.203 total time=   2.6s\n",
            "[CV 2/3] END n_estimators=100, num_leaves=100;, score=-1593.188 total time=   2.6s\n",
            "[CV 3/3] END n_estimators=100, num_leaves=100;, score=-1585.387 total time=   2.5s\n",
            "[CV 1/3] END n_estimators=100, num_leaves=120;, score=-1569.174 total time=   2.7s\n",
            "[CV 2/3] END n_estimators=100, num_leaves=120;, score=-1584.345 total time=   2.7s\n",
            "[CV 3/3] END n_estimators=100, num_leaves=120;, score=-1580.149 total time=   2.7s\n",
            "[CV 1/3] END n_estimators=100, num_leaves=140;, score=-1561.050 total time=   2.8s\n",
            "[CV 2/3] END n_estimators=100, num_leaves=140;, score=-1580.293 total time=   2.9s\n",
            "[CV 3/3] END n_estimators=100, num_leaves=140;, score=-1569.429 total time=   2.9s\n",
            "[CV 1/3] END n_estimators=100, num_leaves=160;, score=-1560.007 total time=   3.0s\n",
            "[CV 2/3] END n_estimators=100, num_leaves=160;, score=-1575.010 total time=   3.0s\n",
            "[CV 3/3] END n_estimators=100, num_leaves=160;, score=-1568.080 total time=   3.0s\n",
            "[CV 1/3] END n_estimators=100, num_leaves=180;, score=-1555.498 total time=   3.2s\n",
            "[CV 2/3] END n_estimators=100, num_leaves=180;, score=-1573.257 total time=   3.1s\n",
            "[CV 3/3] END n_estimators=100, num_leaves=180;, score=-1562.301 total time=   3.2s\n",
            "[CV 1/3] END n_estimators=100, num_leaves=200;, score=-1552.010 total time=   3.3s\n",
            "[CV 2/3] END n_estimators=100, num_leaves=200;, score=-1567.731 total time=   3.3s\n",
            "[CV 3/3] END n_estimators=100, num_leaves=200;, score=-1561.606 total time=   3.3s\n",
            "[CV 1/3] END n_estimators=100, num_leaves=220;, score=-1552.388 total time=   3.5s\n",
            "[CV 2/3] END n_estimators=100, num_leaves=220;, score=-1569.436 total time=   4.1s\n",
            "[CV 3/3] END n_estimators=100, num_leaves=220;, score=-1558.672 total time=   3.4s\n",
            "[CV 1/3] END n_estimators=100, num_leaves=240;, score=-1547.392 total time=   3.6s\n",
            "[CV 2/3] END n_estimators=100, num_leaves=240;, score=-1565.662 total time=   3.6s\n",
            "[CV 3/3] END n_estimators=100, num_leaves=240;, score=-1558.606 total time=   3.5s\n",
            "[CV 1/3] END n_estimators=100, num_leaves=260;, score=-1547.992 total time=   3.7s\n",
            "[CV 2/3] END n_estimators=100, num_leaves=260;, score=-1562.984 total time=   3.7s\n",
            "[CV 3/3] END n_estimators=100, num_leaves=260;, score=-1554.605 total time=   3.7s\n",
            "[CV 1/3] END n_estimators=100, num_leaves=280;, score=-1547.052 total time=   3.8s\n",
            "[CV 2/3] END n_estimators=100, num_leaves=280;, score=-1559.423 total time=   3.8s\n",
            "[CV 3/3] END n_estimators=100, num_leaves=280;, score=-1556.353 total time=   3.8s\n",
            "[CV 1/3] END n_estimators=500, num_leaves=20;, score=-1587.347 total time=   5.0s\n",
            "[CV 2/3] END n_estimators=500, num_leaves=20;, score=-1601.401 total time=   5.0s\n",
            "[CV 3/3] END n_estimators=500, num_leaves=20;, score=-1599.186 total time=   5.0s\n",
            "[CV 1/3] END n_estimators=500, num_leaves=40;, score=-1559.219 total time=   6.1s\n",
            "[CV 2/3] END n_estimators=500, num_leaves=40;, score=-1573.741 total time=   6.0s\n",
            "[CV 3/3] END n_estimators=500, num_leaves=40;, score=-1571.734 total time=   6.1s\n",
            "[CV 1/3] END n_estimators=500, num_leaves=60;, score=-1550.131 total time=   6.9s\n",
            "[CV 2/3] END n_estimators=500, num_leaves=60;, score=-1565.633 total time=   7.2s\n",
            "[CV 3/3] END n_estimators=500, num_leaves=60;, score=-1559.737 total time=   7.2s\n",
            "[CV 1/3] END n_estimators=500, num_leaves=80;, score=-1544.660 total time=   7.8s\n",
            "[CV 2/3] END n_estimators=500, num_leaves=80;, score=-1560.385 total time=   8.9s\n",
            "[CV 3/3] END n_estimators=500, num_leaves=80;, score=-1554.574 total time=   8.0s\n",
            "[CV 1/3] END n_estimators=500, num_leaves=100;, score=-1543.323 total time=   8.8s\n",
            "[CV 2/3] END n_estimators=500, num_leaves=100;, score=-1553.307 total time=   9.5s\n",
            "[CV 3/3] END n_estimators=500, num_leaves=100;, score=-1551.879 total time=   8.9s\n",
            "[CV 1/3] END n_estimators=500, num_leaves=120;, score=-1541.430 total time=   9.8s\n",
            "[CV 2/3] END n_estimators=500, num_leaves=120;, score=-1551.886 total time=  10.3s\n",
            "[CV 3/3] END n_estimators=500, num_leaves=120;, score=-1550.161 total time=  10.0s\n",
            "[CV 1/3] END n_estimators=500, num_leaves=140;, score=-1539.844 total time=  10.8s\n",
            "[CV 2/3] END n_estimators=500, num_leaves=140;, score=-1553.485 total time=  12.3s\n",
            "[CV 3/3] END n_estimators=500, num_leaves=140;, score=-1547.761 total time=  11.0s\n",
            "[CV 1/3] END n_estimators=500, num_leaves=160;, score=-1539.445 total time=  11.4s\n",
            "[CV 2/3] END n_estimators=500, num_leaves=160;, score=-1552.309 total time=  12.5s\n",
            "[CV 3/3] END n_estimators=500, num_leaves=160;, score=-1548.189 total time=  12.0s\n",
            "[CV 1/3] END n_estimators=500, num_leaves=180;, score=-1540.181 total time=  12.3s\n",
            "[CV 2/3] END n_estimators=500, num_leaves=180;, score=-1550.091 total time=  13.1s\n",
            "[CV 3/3] END n_estimators=500, num_leaves=180;, score=-1547.493 total time=  12.6s\n",
            "[CV 1/3] END n_estimators=500, num_leaves=200;, score=-1539.320 total time=  13.2s\n",
            "[CV 2/3] END n_estimators=500, num_leaves=200;, score=-1550.555 total time=  14.0s\n",
            "[CV 3/3] END n_estimators=500, num_leaves=200;, score=-1548.408 total time=  13.5s\n",
            "[CV 1/3] END n_estimators=500, num_leaves=220;, score=-1542.369 total time=  14.3s\n",
            "[CV 2/3] END n_estimators=500, num_leaves=220;, score=-1552.735 total time=  15.1s\n",
            "[CV 3/3] END n_estimators=500, num_leaves=220;, score=-1547.905 total time=  17.0s\n",
            "[CV 1/3] END n_estimators=500, num_leaves=240;, score=-1539.286 total time=  15.2s\n",
            "[CV 2/3] END n_estimators=500, num_leaves=240;, score=-1551.737 total time=  16.1s\n",
            "[CV 3/3] END n_estimators=500, num_leaves=240;, score=-1549.425 total time=  15.0s\n",
            "[CV 1/3] END n_estimators=500, num_leaves=260;, score=-1542.048 total time=  16.0s\n",
            "[CV 2/3] END n_estimators=500, num_leaves=260;, score=-1553.633 total time=  17.2s\n",
            "[CV 3/3] END n_estimators=500, num_leaves=260;, score=-1550.031 total time=  16.6s\n",
            "[CV 1/3] END n_estimators=500, num_leaves=280;, score=-1542.473 total time=  17.1s\n",
            "[CV 2/3] END n_estimators=500, num_leaves=280;, score=-1551.114 total time=  18.9s\n",
            "[CV 3/3] END n_estimators=500, num_leaves=280;, score=-1551.302 total time=  17.1s\n",
            "[CV 1/3] END n_estimators=1000, num_leaves=20;, score=-1563.551 total time=  10.1s\n",
            "[CV 2/3] END n_estimators=1000, num_leaves=20;, score=-1577.847 total time=   9.9s\n",
            "[CV 3/3] END n_estimators=1000, num_leaves=20;, score=-1578.412 total time=  10.0s\n",
            "[CV 1/3] END n_estimators=1000, num_leaves=40;, score=-1547.744 total time=  12.6s\n",
            "[CV 2/3] END n_estimators=1000, num_leaves=40;, score=-1558.140 total time=  12.2s\n",
            "[CV 3/3] END n_estimators=1000, num_leaves=40;, score=-1559.379 total time=  12.3s\n",
            "[CV 1/3] END n_estimators=1000, num_leaves=60;, score=-1542.068 total time=  14.3s\n",
            "[CV 2/3] END n_estimators=1000, num_leaves=60;, score=-1555.589 total time=  14.5s\n",
            "[CV 3/3] END n_estimators=1000, num_leaves=60;, score=-1552.573 total time=  14.0s\n",
            "[CV 1/3] END n_estimators=1000, num_leaves=80;, score=-1542.164 total time=  15.4s\n",
            "[CV 2/3] END n_estimators=1000, num_leaves=80;, score=-1557.540 total time=  16.0s\n",
            "[CV 3/3] END n_estimators=1000, num_leaves=80;, score=-1552.372 total time=  15.8s\n",
            "[CV 1/3] END n_estimators=1000, num_leaves=100;, score=-1540.622 total time=  17.0s\n",
            "[CV 2/3] END n_estimators=1000, num_leaves=100;, score=-1548.922 total time=  17.9s\n",
            "[CV 3/3] END n_estimators=1000, num_leaves=100;, score=-1550.732 total time=  17.2s\n",
            "[CV 1/3] END n_estimators=1000, num_leaves=120;, score=-1544.177 total time=  19.0s\n",
            "[CV 2/3] END n_estimators=1000, num_leaves=120;, score=-1550.463 total time=  19.4s\n",
            "[CV 3/3] END n_estimators=1000, num_leaves=120;, score=-1551.427 total time=  19.4s\n",
            "[CV 1/3] END n_estimators=1000, num_leaves=140;, score=-1542.031 total time=  21.2s\n",
            "[CV 2/3] END n_estimators=1000, num_leaves=140;, score=-1553.763 total time=  21.7s\n",
            "[CV 3/3] END n_estimators=1000, num_leaves=140;, score=-1550.692 total time=  21.1s\n",
            "[CV 1/3] END n_estimators=1000, num_leaves=160;, score=-1546.983 total time=  22.0s\n",
            "[CV 2/3] END n_estimators=1000, num_leaves=160;, score=-1555.532 total time=  23.9s\n",
            "[CV 3/3] END n_estimators=1000, num_leaves=160;, score=-1553.831 total time=  22.8s\n",
            "[CV 1/3] END n_estimators=1000, num_leaves=180;, score=-1548.487 total time=  26.7s\n",
            "[CV 2/3] END n_estimators=1000, num_leaves=180;, score=-1555.123 total time=  25.1s\n",
            "[CV 3/3] END n_estimators=1000, num_leaves=180;, score=-1554.771 total time=  24.6s\n",
            "[CV 1/3] END n_estimators=1000, num_leaves=200;, score=-1549.077 total time=  26.0s\n",
            "[CV 2/3] END n_estimators=1000, num_leaves=200;, score=-1556.610 total time=  26.8s\n",
            "[CV 3/3] END n_estimators=1000, num_leaves=200;, score=-1555.938 total time=  25.5s\n",
            "[CV 1/3] END n_estimators=1000, num_leaves=220;, score=-1552.041 total time=  27.6s\n",
            "[CV 2/3] END n_estimators=1000, num_leaves=220;, score=-1560.709 total time=  28.1s\n",
            "[CV 3/3] END n_estimators=1000, num_leaves=220;, score=-1557.989 total time=  27.4s\n",
            "[CV 1/3] END n_estimators=1000, num_leaves=240;, score=-1548.676 total time=  29.2s\n",
            "[CV 2/3] END n_estimators=1000, num_leaves=240;, score=-1560.440 total time=  29.5s\n",
            "[CV 3/3] END n_estimators=1000, num_leaves=240;, score=-1561.300 total time=  39.9s\n",
            "[CV 1/3] END n_estimators=1000, num_leaves=260;, score=-1554.046 total time=  29.9s\n",
            "[CV 2/3] END n_estimators=1000, num_leaves=260;, score=-1564.998 total time=  31.6s\n",
            "[CV 3/3] END n_estimators=1000, num_leaves=260;, score=-1561.905 total time=  30.8s\n",
            "[CV 1/3] END n_estimators=1000, num_leaves=280;, score=-1556.233 total time=  31.7s\n",
            "[CV 2/3] END n_estimators=1000, num_leaves=280;, score=-1561.734 total time=  32.6s\n",
            "[CV 3/3] END n_estimators=1000, num_leaves=280;, score=-1564.205 total time=  31.2s\n"
          ]
        },
        {
          "data": {
            "text/plain": [
              "{'n_estimators': 500, 'num_leaves': 180}"
            ]
          },
          "metadata": {},
          "output_type": "display_data"
        },
        {
          "data": {
            "text/plain": [
              "1545.9219520601557"
            ]
          },
          "metadata": {},
          "output_type": "display_data"
        }
      ],
      "source": [
        "'''я не запускаю GridSearch повторно, поскольку очень долго считает'''\n",
        "model = lgb.LGBMRegressor(random_state=12345)\n",
        "\n",
        "tuning_model=GridSearchCV(estimator=model,\n",
        "                          param_grid=param_grid,\n",
        "                          scoring='neg_root_mean_squared_error',\n",
        "                          cv=3,\n",
        "                          verbose=3)\n",
        "\n",
        "tuning_model.fit(features_train, target_train)\n",
        "display(tuning_model.best_params_)\n",
        "display(tuning_model.best_score_*-1)\n"
      ]
    },
    {
      "cell_type": "markdown",
      "metadata": {
        "id": "Svj7fFWg8ymb"
      },
      "source": [
        "##Вывод 2.\n",
        "\n",
        "В этом разделе мы обучили разные модели, подобрали гиперпараметры для них и обнаружили, что модель LightGBM с гиперпараметрами 'n_estimators': 500, 'num_leaves': 180 дает наименьшее значение rmse: 1545.92."
      ]
    },
    {
      "cell_type": "markdown",
      "metadata": {
        "id": "2PW1Nhqgfvd-"
      },
      "source": [
        "## Анализ моделей"
      ]
    },
    {
      "cell_type": "markdown",
      "metadata": {
        "id": "IG13d_V7NcFQ"
      },
      "source": [
        "##3.1 Модель линейной регрессии"
      ]
    },
    {
      "cell_type": "code",
      "execution_count": null,
      "metadata": {
        "colab": {
          "base_uri": "https://localhost:8080/"
        },
        "id": "i4LBgCVhMG6_",
        "outputId": "631ccdcc-483c-41db-cebd-a10729372f11"
      },
      "outputs": [
        {
          "output_type": "stream",
          "name": "stdout",
          "text": [
            "CPU times: user 11.4 s, sys: 1.42 s, total: 12.8 s\n",
            "Wall time: 7.75 s\n"
          ]
        }
      ],
      "source": [
        "%%time\n",
        "# найдем время обучения модели линейной регрессии\n",
        "model = LinearRegression()\n",
        "model.fit(features_train_ohe, target_train_ohe)\n"
      ]
    },
    {
      "cell_type": "code",
      "execution_count": null,
      "metadata": {
        "colab": {
          "base_uri": "https://localhost:8080/"
        },
        "id": "1xQ2vRPnMG-q",
        "outputId": "0b0cd8b1-b392-4298-c4e0-291896164a8c"
      },
      "outputs": [
        {
          "output_type": "stream",
          "name": "stdout",
          "text": [
            "CPU times: user 135 ms, sys: 1.95 ms, total: 137 ms\n",
            "Wall time: 97.3 ms\n"
          ]
        }
      ],
      "source": [
        "%%time\n",
        "#построим предсказания на тренировочной выборке и найдем скорость\n",
        "predictions_train_ohe = model.predict(features_train_ohe)\n"
      ]
    },
    {
      "cell_type": "markdown",
      "metadata": {
        "id": "L_I2nmQp2k-K"
      },
      "source": [
        "##3.2 Модель решающего дерева"
      ]
    },
    {
      "cell_type": "code",
      "execution_count": null,
      "metadata": {
        "colab": {
          "base_uri": "https://localhost:8080/"
        },
        "id": "XGoncYuj2sf1",
        "outputId": "c51ca9f1-272f-4fb8-ee85-34f9527e354d"
      },
      "outputs": [
        {
          "output_type": "stream",
          "name": "stdout",
          "text": [
            "CPU times: user 704 ms, sys: 972 µs, total: 705 ms\n",
            "Wall time: 724 ms\n"
          ]
        }
      ],
      "source": [
        "%%time\n",
        "# найдем время обучения модели решающего дерева\n",
        "model = DecisionTreeRegressor(random_state=12345, max_depth=9)\n",
        "model.fit(features_train_oe, target_train_oe)"
      ]
    },
    {
      "cell_type": "code",
      "execution_count": null,
      "metadata": {
        "colab": {
          "base_uri": "https://localhost:8080/"
        },
        "id": "-fqw0K5s2sl_",
        "outputId": "1a7fabbf-3af2-421b-8c53-db8f46f77205"
      },
      "outputs": [
        {
          "output_type": "stream",
          "name": "stdout",
          "text": [
            "CPU times: user 32.3 ms, sys: 0 ns, total: 32.3 ms\n",
            "Wall time: 31.3 ms\n"
          ]
        }
      ],
      "source": [
        "%%time\n",
        "#построим предсказания на тренировочной выборке и найдем скорость\n",
        "predictions_train_oe = model.predict(features_train_oe)"
      ]
    },
    {
      "cell_type": "markdown",
      "metadata": {
        "id": "NzQbi0lS4e0m"
      },
      "source": [
        "##3.3 Модель случайного леса"
      ]
    },
    {
      "cell_type": "code",
      "execution_count": null,
      "metadata": {
        "colab": {
          "base_uri": "https://localhost:8080/"
        },
        "id": "IfmwqDcm2sxZ",
        "outputId": "5c187b36-cb57-4e16-9666-0bea5d837e35"
      },
      "outputs": [
        {
          "output_type": "stream",
          "name": "stdout",
          "text": [
            "CPU times: user 5min 54s, sys: 554 ms, total: 5min 55s\n",
            "Wall time: 6min\n"
          ]
        }
      ],
      "source": [
        "%%time\n",
        "# обучим модель случайного леса\n",
        "model = RandomForestRegressor(random_state=12345, max_depth=9, n_estimators=1000)\n",
        "model.fit(features_train_oe, target_train_oe)"
      ]
    },
    {
      "cell_type": "code",
      "execution_count": null,
      "metadata": {
        "colab": {
          "base_uri": "https://localhost:8080/"
        },
        "id": "UFYpwitG2s7Q",
        "outputId": "ed0c18aa-8db0-47a7-9f50-529a0485fb2d"
      },
      "outputs": [
        {
          "output_type": "stream",
          "name": "stdout",
          "text": [
            "CPU times: user 20.4 s, sys: 73.7 ms, total: 20.4 s\n",
            "Wall time: 21.9 s\n"
          ]
        }
      ],
      "source": [
        "%%time\n",
        "#построим предсказания на тренировочной выборке\n",
        "predictions_train_oe = model.predict(features_train_oe)"
      ]
    },
    {
      "cell_type": "markdown",
      "metadata": {
        "id": "66caSenp5R0w"
      },
      "source": [
        "##3.4 Модель LightGBM"
      ]
    },
    {
      "cell_type": "code",
      "execution_count": null,
      "metadata": {
        "colab": {
          "base_uri": "https://localhost:8080/"
        },
        "id": "DVL0fomQ5azJ",
        "outputId": "61d6dc27-1de1-4e95-d670-44a93ccb50b7"
      },
      "outputs": [
        {
          "output_type": "stream",
          "name": "stdout",
          "text": [
            "CPU times: user 16.7 s, sys: 428 ms, total: 17.1 s\n",
            "Wall time: 8.83 s\n"
          ]
        }
      ],
      "source": [
        "# найдем время обучения LightGBM\n",
        "%%time\n",
        "model = lgb.LGBMRegressor(random_state=12345,\n",
        "                          n_estimators=500,\n",
        "                          num_leaves=180)\n",
        "model.fit(features_train, target_train)"
      ]
    },
    {
      "cell_type": "code",
      "execution_count": null,
      "metadata": {
        "colab": {
          "base_uri": "https://localhost:8080/"
        },
        "id": "lV3CtB6W5a57",
        "outputId": "3bfbd077-542b-4402-e312-e7affd3b3afe"
      },
      "outputs": [
        {
          "output_type": "stream",
          "name": "stdout",
          "text": [
            "CPU times: user 18.3 s, sys: 28.2 ms, total: 18.3 s\n",
            "Wall time: 9.5 s\n"
          ]
        }
      ],
      "source": [
        "%%time\n",
        "#построим предсказания на тренировочной выборке и найдем скорость\n",
        "predictions_train = model.predict(features_train)"
      ]
    },
    {
      "cell_type": "code",
      "execution_count": null,
      "metadata": {
        "colab": {
          "base_uri": "https://localhost:8080/"
        },
        "id": "Wmpi1n7C5d7_",
        "outputId": "8632e61f-3997-4bb3-812f-bf7ccfb6aa14"
      },
      "outputs": [
        {
          "output_type": "stream",
          "name": "stdout",
          "text": [
            "1585.7834436543199\n"
          ]
        }
      ],
      "source": [
        "predictions_test = model.predict(features_test)\n",
        "rmse = mean_squared_error(target_test, predictions_test)**0.5\n",
        "print(rmse)"
      ]
    },
    {
      "cell_type": "code",
      "execution_count": null,
      "metadata": {
        "colab": {
          "base_uri": "https://localhost:8080/",
          "height": 313
        },
        "id": "09zMuxtu5eGo",
        "outputId": "84ed1b7d-b4d4-4ec5-9875-bb28f74eb82a"
      },
      "outputs": [
        {
          "output_type": "execute_result",
          "data": {
            "text/plain": [
              "<matplotlib.axes._subplots.AxesSubplot at 0x7f2f32fa0ed0>"
            ]
          },
          "metadata": {},
          "execution_count": 200
        },
        {
          "output_type": "display_data",
          "data": {
            "text/plain": [
              "<Figure size 432x288 with 1 Axes>"
            ],
            "image/png": "[encoded data removed]"
          },
          "metadata": {
            "needs_background": "light"
          }
        }
      ],
      "source": [
        "# посмотрим на то, какие признаки влияют больше всего\n",
        "lgb.plot_importance(model, height=.5)"
      ]
    },
    {
      "cell_type": "code",
      "execution_count": null,
      "metadata": {
        "colab": {
          "base_uri": "https://localhost:8080/",
          "height": 404
        },
        "id": "wNBAjqQm6A9i",
        "outputId": "818fe5d5-04e0-4dbe-f430-0d853a7aa4ba"
      },
      "outputs": [
        {
          "output_type": "display_data",
          "data": {
            "text/plain": [
              "<Figure size 864x432 with 1 Axes>"
            ],
            "image/png": "[encoded data removed]"
          },
          "metadata": {
            "needs_background": "light"
          }
        }
      ],
      "source": [
        "# visualizing in a plot\n",
        "x_ax = range(len(target_test))\n",
        "plt.figure(figsize=(12, 6))\n",
        "plt.plot(x_ax, target_test, label=\"original\")\n",
        "plt.plot(x_ax, predictions_test, label=\"predicted\")\n",
        "plt.title(\"Определение стоимости автомобилей: тестовые и предсказанные данные\")\n",
        "plt.xlabel('features')\n",
        "plt.ylabel('Price')\n",
        "plt.legend(loc='best',fancybox=True, shadow=True)\n",
        "plt.grid(True)\n",
        "plt.show()  "
      ]
    },
    {
      "cell_type": "markdown",
      "metadata": {
        "id": "6LNfmXuQ89fQ"
      },
      "source": [
        "##Вывод 3."
      ]
    },
    {
      "cell_type": "code",
      "execution_count": 1,
      "metadata": {
        "colab": {
          "base_uri": "https://localhost:8080/",
          "height": 224
        },
        "id": "MhgMnxFH88ui",
        "outputId": "031c18e9-e9b3-49f0-fea2-af1e5c911755"
      },
      "outputs": [
        {
          "output_type": "error",
          "ename": "NameError",
          "evalue": "ignored",
          "traceback": [
            "\u001b[0;31m---------------------------------------------------------------------------\u001b[0m",
            "\u001b[0;31mNameError\u001b[0m                                 Traceback (most recent call last)",
            "\u001b[0;32m<ipython-input-1-3c4a37b48c7c>\u001b[0m in \u001b[0;36m<module>\u001b[0;34m\u001b[0m\n\u001b[1;32m      7\u001b[0m          \u001b[0;34m[\u001b[0m\u001b[0;34m\"LightGBM: обучение\"\u001b[0m\u001b[0;34m,\u001b[0m \u001b[0;34m\"17.1 s\"\u001b[0m\u001b[0;34m,\u001b[0m \u001b[0;34m\"8,83 s\"\u001b[0m\u001b[0;34m]\u001b[0m\u001b[0;34m,\u001b[0m\u001b[0;34m\u001b[0m\u001b[0;34m\u001b[0m\u001b[0m\n\u001b[1;32m      8\u001b[0m          [\"LightGBM: предсказание\", \"18.3 s\", \"9,5 s\"]]\n\u001b[0;32m----> 9\u001b[0;31m \u001b[0mdf\u001b[0m\u001b[0;34m=\u001b[0m \u001b[0mpd\u001b[0m\u001b[0;34m.\u001b[0m\u001b[0mDataFrame\u001b[0m\u001b[0;34m(\u001b[0m\u001b[0mtabledata\u001b[0m\u001b[0;34m,\u001b[0m \u001b[0mcolumns\u001b[0m\u001b[0;34m=\u001b[0m\u001b[0;34m[\u001b[0m\u001b[0;34m\"модель\"\u001b[0m\u001b[0;34m,\u001b[0m\u001b[0;34m\"CPU-times\"\u001b[0m\u001b[0;34m,\u001b[0m \u001b[0;34m\"Wall time\"\u001b[0m\u001b[0;34m]\u001b[0m\u001b[0;34m)\u001b[0m\u001b[0;34m\u001b[0m\u001b[0;34m\u001b[0m\u001b[0m\n\u001b[0m\u001b[1;32m     10\u001b[0m \u001b[0mdf\u001b[0m \u001b[0;34m=\u001b[0m \u001b[0mdf\u001b[0m\u001b[0;34m.\u001b[0m\u001b[0mset_index\u001b[0m\u001b[0;34m(\u001b[0m\u001b[0;34m'модель'\u001b[0m\u001b[0;34m)\u001b[0m\u001b[0;34m\u001b[0m\u001b[0;34m\u001b[0m\u001b[0m\n\u001b[1;32m     11\u001b[0m \u001b[0mdf\u001b[0m\u001b[0;34m.\u001b[0m\u001b[0mindex\u001b[0m\u001b[0;34m.\u001b[0m\u001b[0mnames\u001b[0m \u001b[0;34m=\u001b[0m \u001b[0;34m[\u001b[0m\u001b[0;32mNone\u001b[0m\u001b[0;34m]\u001b[0m\u001b[0;34m\u001b[0m\u001b[0;34m\u001b[0m\u001b[0m\n",
            "\u001b[0;31mNameError\u001b[0m: name 'pd' is not defined"
          ]
        }
      ],
      "source": [
        "tabledata = [[\"линейная регрессия: обучение\", \"12,8 s\", \"7,75 s\"],\n",
        "             [\"линейная регрессия: предсказание\", \"137 ms\", \"93,7 ms\"],\n",
        "         [\"решающее дерево: обучение\", \"705 ms\", \"725 ms\"],\n",
        "         [\"решающее дерево: предсказание\", \"32,3 ms\", \"31,3 ms\"],\n",
        "         [\"случайный лес: обучение\", \"5min 55s\", \"6min\"],\n",
        "         [\"случайный лес: предсказание\", \"20.4 s\", \"21,9 s\"],\n",
        "         [\"LightGBM: обучение\", \"17.1 s\", \"8,83 s\"],\n",
        "         [\"LightGBM: предсказание\", \"18.3 s\", \"9,5 s\"]]\n",
        "df= pd.DataFrame(tabledata, columns=[\"модель\",\"CPU-times\", \"Wall time\"])\n",
        "df = df.set_index('модель')\n",
        "df.index.names = [None]\n",
        "df"
      ]
    },
    {
      "cell_type": "markdown",
      "metadata": {
        "id": "DqVy7BOAY7Z5"
      },
      "source": [
        "<div class=\"alert alert-block alert-success\">\n",
        "<b>Успех:</b> Молодец, что для сравнения моделей заносишь их в общий датафрейм 👍\n",
        "</div>"
      ]
    },
    {
      "cell_type": "markdown",
      "metadata": {
        "id": "XnbCV8o2GWFl"
      },
      "source": [
        "Дольше всего учится модель случайного леса: 6 мин. \n",
        "Модель LightGBM имеет приемлемую скорость обучения и предсказания (в пределах 20 сек.) и при этом самую низкую RMSE из всех моделей: на тестовой выборке результат 1585.78. "
      ]
    },
    {
      "cell_type": "markdown",
      "metadata": {
        "id": "ONM81aarY7Z5"
      },
      "source": [
        "## Общий вывод\n",
        "\n",
        "1. На входе мы получили таблицу с более чем 350 тыс. строк и 16 столбцами. Мы перевели названия столбцов в более удобочитаемый нижний и змеиный регистр, удалили неинформативные столбцы, заполнили пропуски, избавились от аномалий. Удалили дубликаты. \n",
        "\n",
        "2. Для модели линейной регрессии перевели категориальные значения столбцов в количественные. В итоге у нас образовалась таблица в 281 тыс. строк и 309 столбцов. Для моделец решающего дерева и случайного леса применили порядковое кодирование, в итоге для них количесвто столбцов не изменилось, а подбор гиперпараметров стал быстрее. Мы обучили разные модели, подобрали гиперпараметры для них и обнаружили, что модель LightGBM с гиперпараметрами 'n_estimators': 500, 'num_leaves': 180 дает наименьшее значение rmse: 1545.92.\n",
        "\n",
        "3. Мы проанализировали все модели и обнаружили, что дольше всего учится модель случайного леса: 6 мин. Модель LightGBM имеет приемлемую скорость обучения и предсказания (в пределах 20 сек.) и при этом самую низкую RMSE из всех моделей: на тестовой выборке результат 1585.78. \n",
        "\n",
        "Исходя из требований заказчика по скорости обучения, придсказания и качества модели, рекомендуем модель LightGBM, поскольку она имеет самые оптимальные характеристики."
      ]
    },
    {
      "cell_type": "markdown",
      "metadata": {
        "id": "imOXsRHoY7Z6"
      },
      "source": [
        "<div class=\"alert alert-block alert-danger\">\n",
        "<b>Замечание:</b> Нужно порекомендовать заказчику одну модель на основе его критериев\n",
        "</div>"
      ]
    },
    {
      "cell_type": "markdown",
      "metadata": {
        "id": "JYLBfOsdY7Z6"
      },
      "source": [
        "<div class=\"alert alert-block alert-danger\">\n",
        "<b>Замечание:</b> Не забывай про финальный вывод в конце проекта)\n",
        "</div>"
      ]
    },
    {
      "cell_type": "markdown",
      "metadata": {
        "id": "nV6TsSZ1Y7Z6"
      },
      "source": [
        "# <font color='orange'>Общее впечатление</font>\n",
        "* Этот проект выполнен очень хорошо\n",
        "* Видно, что приложено много усилий\n",
        "* Молодец, что структурируешь ноутбук, приятно проверять такие работы\n",
        "* У тебя чистый и лаконичный код\n",
        "* Мне было интересно читать твои промежуточные выводы\n",
        "* Твой уровень подачи материала находится на высоком уровне\n",
        "* Исправь, пожалуйста, мои замечания. Затем отправляй на повторную проверку\n",
        "* Жду новую версию проекта 👋"
      ]
    },
    {
      "cell_type": "markdown",
      "metadata": {
        "id": "nzq2M9nAY7Z6"
      },
      "source": [
        "<div class=\"alert alert-block alert-info\">\n",
        "<b>Изменения:</b> Были внесены следующие изменения: добавлено кодирование признаков для моделей деревьев, исправлены результаты, добавлен общий вывод и рекомендации для заказчика\n",
        "</div>"
      ]
    },
    {
      "cell_type": "code",
      "execution_count": null,
      "metadata": {
        "id": "_V4Itc7wY7Z7"
      },
      "outputs": [],
      "source": []
    }
  ],
  "metadata": {
    "colab": {
      "collapsed_sections": [],
      "provenance": [],
      "toc_visible": true
    },
    "kernelspec": {
      "display_name": "Python 3 (ipykernel)",
      "language": "python",
      "name": "python3"
    },
    "language_info": {
      "codemirror_mode": {
        "name": "ipython",
        "version": 3
      },
      "file_extension": ".py",
      "mimetype": "text/x-python",
      "name": "python",
      "nbconvert_exporter": "python",
      "pygments_lexer": "ipython3",
      "version": "3.9.5"
    },
    "toc": {
      "base_numbering": 1,
      "nav_menu": {},
      "number_sections": true,
      "sideBar": true,
      "skip_h1_title": true,
      "title_cell": "Table of Contents",
      "title_sidebar": "Contents",
      "toc_cell": false,
      "toc_position": {},
      "toc_section_display": true,
      "toc_window_display": false
    }
  },
  "nbformat": 4,
  "nbformat_minor": 0
}